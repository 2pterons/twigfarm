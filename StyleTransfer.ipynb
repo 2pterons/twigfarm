{
  "nbformat": 4,
  "nbformat_minor": 0,
  "metadata": {
    "colab": {
      "name": "StyleTransfer.ipynb",
      "provenance": [],
      "authorship_tag": "ABX9TyPqHbHyBQDR2QsOPvF/k31w",
      "include_colab_link": true
    },
    "kernelspec": {
      "name": "python3",
      "display_name": "Python 3"
    },
    "language_info": {
      "name": "python"
    }
  },
  "cells": [
    {
      "cell_type": "markdown",
      "metadata": {
        "id": "view-in-github",
        "colab_type": "text"
      },
      "source": [
        "<a href=\"https://colab.research.google.com/github/2pterons/twigfarm_test/blob/main/StyleTransfer.ipynb\" target=\"_parent\"><img src=\"https://colab.research.google.com/assets/colab-badge.svg\" alt=\"Open In Colab\"/></a>"
      ]
    },
    {
      "cell_type": "code",
      "metadata": {
        "colab": {
          "base_uri": "https://localhost:8080/"
        },
        "id": "2t1otyBLJFlN",
        "outputId": "5fcd34ab-6a07-4be0-a713-25254319daff"
      },
      "source": [
        "!git clone https://github.com/eomiso/NLP_text-style-transfer"
      ],
      "execution_count": null,
      "outputs": [
        {
          "output_type": "stream",
          "name": "stdout",
          "text": [
            "Cloning into 'NLP_text-style-transfer'...\n",
            "remote: Enumerating objects: 605, done.\u001b[K\n",
            "remote: Counting objects: 100% (605/605), done.\u001b[K\n",
            "remote: Compressing objects: 100% (242/242), done.\u001b[K\n",
            "remote: Total 605 (delta 358), reused 598 (delta 355), pack-reused 0\u001b[K\n",
            "Receiving objects: 100% (605/605), 37.00 MiB | 23.03 MiB/s, done.\n",
            "Resolving deltas: 100% (358/358), done.\n"
          ]
        }
      ]
    },
    {
      "cell_type": "code",
      "metadata": {
        "colab": {
          "base_uri": "https://localhost:8080/"
        },
        "id": "gYCxAMAxJJy0",
        "outputId": "474ea337-6327-41ae-cdeb-0eb1d5bdd54d"
      },
      "source": [
        "!pwd"
      ],
      "execution_count": null,
      "outputs": [
        {
          "output_type": "stream",
          "text": [
            "/content\n"
          ],
          "name": "stdout"
        }
      ]
    },
    {
      "cell_type": "code",
      "metadata": {
        "colab": {
          "base_uri": "https://localhost:8080/"
        },
        "id": "Ic412SllJLXy",
        "outputId": "a768702f-0668-49b4-c413-a0e9b9653ea6"
      },
      "source": [
        "%cd /content/NLP_text-style-transfer"
      ],
      "execution_count": null,
      "outputs": [
        {
          "output_type": "stream",
          "text": [
            "/content/NLP_text-style-transfer\n"
          ],
          "name": "stdout"
        }
      ]
    },
    {
      "cell_type": "code",
      "metadata": {
        "colab": {
          "base_uri": "https://localhost:8080/"
        },
        "id": "aafPlNNzJM6L",
        "outputId": "e84a5368-ba05-429d-a99b-0f5761ee6396"
      },
      "source": [
        "!pip install transformers"
      ],
      "execution_count": null,
      "outputs": [
        {
          "output_type": "stream",
          "text": [
            "Requirement already satisfied: transformers in /usr/local/lib/python3.7/dist-packages (4.9.2)\n",
            "Requirement already satisfied: regex!=2019.12.17 in /usr/local/lib/python3.7/dist-packages (from transformers) (2019.12.20)\n",
            "Requirement already satisfied: numpy>=1.17 in /usr/local/lib/python3.7/dist-packages (from transformers) (1.19.5)\n",
            "Requirement already satisfied: huggingface-hub==0.0.12 in /usr/local/lib/python3.7/dist-packages (from transformers) (0.0.12)\n",
            "Requirement already satisfied: sacremoses in /usr/local/lib/python3.7/dist-packages (from transformers) (0.0.45)\n",
            "Requirement already satisfied: packaging in /usr/local/lib/python3.7/dist-packages (from transformers) (21.0)\n",
            "Requirement already satisfied: tqdm>=4.27 in /usr/local/lib/python3.7/dist-packages (from transformers) (4.62.0)\n",
            "Requirement already satisfied: importlib-metadata in /usr/local/lib/python3.7/dist-packages (from transformers) (4.6.4)\n",
            "Requirement already satisfied: requests in /usr/local/lib/python3.7/dist-packages (from transformers) (2.23.0)\n",
            "Requirement already satisfied: filelock in /usr/local/lib/python3.7/dist-packages (from transformers) (3.0.12)\n",
            "Requirement already satisfied: pyyaml>=5.1 in /usr/local/lib/python3.7/dist-packages (from transformers) (5.4.1)\n",
            "Requirement already satisfied: tokenizers<0.11,>=0.10.1 in /usr/local/lib/python3.7/dist-packages (from transformers) (0.10.3)\n",
            "Requirement already satisfied: typing-extensions in /usr/local/lib/python3.7/dist-packages (from huggingface-hub==0.0.12->transformers) (3.7.4.3)\n",
            "Requirement already satisfied: pyparsing>=2.0.2 in /usr/local/lib/python3.7/dist-packages (from packaging->transformers) (2.4.7)\n",
            "Requirement already satisfied: zipp>=0.5 in /usr/local/lib/python3.7/dist-packages (from importlib-metadata->transformers) (3.5.0)\n",
            "Requirement already satisfied: certifi>=2017.4.17 in /usr/local/lib/python3.7/dist-packages (from requests->transformers) (2021.5.30)\n",
            "Requirement already satisfied: idna<3,>=2.5 in /usr/local/lib/python3.7/dist-packages (from requests->transformers) (2.10)\n",
            "Requirement already satisfied: urllib3!=1.25.0,!=1.25.1,<1.26,>=1.21.1 in /usr/local/lib/python3.7/dist-packages (from requests->transformers) (1.24.3)\n",
            "Requirement already satisfied: chardet<4,>=3.0.2 in /usr/local/lib/python3.7/dist-packages (from requests->transformers) (3.0.4)\n",
            "Requirement already satisfied: six in /usr/local/lib/python3.7/dist-packages (from sacremoses->transformers) (1.15.0)\n",
            "Requirement already satisfied: joblib in /usr/local/lib/python3.7/dist-packages (from sacremoses->transformers) (1.0.1)\n",
            "Requirement already satisfied: click in /usr/local/lib/python3.7/dist-packages (from sacremoses->transformers) (7.1.2)\n"
          ],
          "name": "stdout"
        }
      ]
    },
    {
      "cell_type": "code",
      "metadata": {
        "colab": {
          "base_uri": "https://localhost:8080/"
        },
        "id": "S-rQf-PtJPAs",
        "outputId": "e849b4d4-ecc5-4064-928a-4db1568ce971"
      },
      "source": [
        "!python transfer.py --ckpt_path ../content --clf_ckpt_path ../content --dataset yelp"
      ],
      "execution_count": null,
      "outputs": [
        {
          "output_type": "stream",
          "text": [
            "------------------------------------------------\n",
            "{   'batch_size': 64,\n",
            "    'ckpt_path': '../content',\n",
            "    'clf_ckpt_path': 'checkpoints/yelp_clf.pt',\n",
            "    'cuda_device': 0,\n",
            "    'dataset': 'yelp',\n",
            "    'device': device(type='cpu'),\n",
            "    'dim_emb': 768,\n",
            "    'dim_y': 200,\n",
            "    'dim_z': 500,\n",
            "    'disc_lr': 5e-05,\n",
            "    'epochs': 20,\n",
            "    'filter_sizes': [1, 2, 3, 4, 5],\n",
            "    'gan_type': 'vanilla',\n",
            "    'gp_weight': 1.0,\n",
            "    'language': 'en',\n",
            "    'load_ckpt': 'ckpts/wgan_no_threshold.pt',\n",
            "    'log_interval': 100,\n",
            "    'lr': 0.0005,\n",
            "    'max_grad_norm': 1.0,\n",
            "    'max_seq_length': 64,\n",
            "    'mode': 'train',\n",
            "    'n_filters': 128,\n",
            "    'n_samples': 1000,\n",
            "    'num_workers': 4,\n",
            "    'rho': 1,\n",
            "    'second_stage_num': 2,\n",
            "    'temperature': 0.1,\n",
            "    'test_text_path': 'data/yelp/yelp.sentiment.test',\n",
            "    'text_file_path': 'data/yelp/yelp.sentiment.train',\n",
            "    'threshold': None,\n",
            "    'transfer_max_len': 64,\n",
            "    'transfer_result_save_path': None,\n",
            "    'transfer_to': 1,\n",
            "    'two_stage': False,\n",
            "    'use_gumbel': True,\n",
            "    'val_text_file_path': 'data/yelp/yelp.sentiment.val',\n",
            "    'weight_decay': 0.0}\n",
            "------------------------------------------------\n",
            "Downloading: 100% 29.0/29.0 [00:00<00:00, 26.8kB/s]\n",
            "Downloading: 100% 570/570 [00:00<00:00, 503kB/s]\n",
            "Downloading: 100% 213k/213k [00:00<00:00, 863kB/s]\n",
            "Downloading: 100% 436k/436k [00:00<00:00, 1.74MB/s]\n",
            "Downloading: 100% 436M/436M [00:08<00:00, 52.0MB/s]\n",
            "Some weights of the model checkpoint at bert-base-cased were not used when initializing BertModel: ['cls.predictions.transform.LayerNorm.bias', 'cls.seq_relationship.weight', 'cls.predictions.transform.LayerNorm.weight', 'cls.seq_relationship.bias', 'cls.predictions.bias', 'cls.predictions.transform.dense.weight', 'cls.predictions.transform.dense.bias', 'cls.predictions.decoder.weight']\n",
            "- This IS expected if you are initializing BertModel from the checkpoint of a model trained on another task or with another architecture (e.g. initializing a BertForSequenceClassification model from a BertForPreTraining model).\n",
            "- This IS NOT expected if you are initializing BertModel from the checkpoint of a model that you expect to be exactly identical (initializing a BertForSequenceClassification model from a BertForSequenceClassification model).\n"
          ],
          "name": "stdout"
        }
      ]
    },
    {
      "cell_type": "code",
      "metadata": {
        "colab": {
          "base_uri": "https://localhost:8080/"
        },
        "id": "OIH9sXFvJRJS",
        "outputId": "5145e5fa-9603-4375-b510-89bc0684a026"
      },
      "source": [
        "!python transfer.py --train ../data/yelp/yelp.sentiment.train --dev ../data/yelp/sentiment.dev --output ../tmp/sentiment.dev --vocab ../tmp/yelp.vocab --model ../tmp/model"
      ],
      "execution_count": null,
      "outputs": [
        {
          "output_type": "stream",
          "text": [
            "usage: transfer.py [-h] --ckpt_path CKPT_PATH [--clf_ckpt_path CLF_CKPT_PATH]\n",
            "                   [--dataset {yelp,nsmc}] [--text_file_path TEXT_FILE_PATH]\n",
            "                   [--val_text_file_path VAL_TEXT_FILE_PATH]\n",
            "                   [--batch_size BATCH_SIZE] [--max_seq_length MAX_SEQ_LENGTH]\n",
            "                   [--num_workers NUM_WORKERS] [--dim_y DIM_Y] [--dim_z DIM_Z]\n",
            "                   [--dim_emb DIM_EMB]\n",
            "                   [--filter_sizes FILTER_SIZES [FILTER_SIZES ...]]\n",
            "                   [--n_filters N_FILTERS] [--epochs EPOCHS]\n",
            "                   [--weight_decay WEIGHT_DECAY]\n",
            "                   [--max_grad_norm MAX_GRAD_NORM] [--lr LR]\n",
            "                   [--disc_lr DISC_LR] [--temperature TEMPERATURE]\n",
            "                   [--use_gumbel USE_GUMBEL] [--rho RHO]\n",
            "                   [--two_stage TWO_STAGE]\n",
            "                   [--second_stage_num SECOND_STAGE_NUM]\n",
            "                   [--gan_type {vanilla,wgan-gp,lsgan}]\n",
            "                   [--gp_weight GP_WEIGHT] [--log_interval LOG_INTERVAL]\n",
            "                   [--language {ko,en}] [--threshold THRESHOLD]\n",
            "                   [--mode {train,transfer,interactive}]\n",
            "                   [--test_text_path TEST_TEXT_PATH] [--transfer_to {0,1}]\n",
            "                   [--n_samples N_SAMPLES]\n",
            "                   [--transfer_max_len TRANSFER_MAX_LEN]\n",
            "                   [--transfer_result_save_path TRANSFER_RESULT_SAVE_PATH]\n",
            "                   [--cuda_device CUDA_DEVICE] [--load_ckpt LOAD_CKPT]\n",
            "transfer.py: error: the following arguments are required: --ckpt_path\n"
          ],
          "name": "stdout"
        }
      ]
    },
    {
      "cell_type": "code",
      "metadata": {
        "colab": {
          "base_uri": "https://localhost:8080/",
          "height": 486
        },
        "id": "Z9MUrDyVJULL",
        "outputId": "5396d86c-5129-4ec0-9ef5-811931494fb5"
      },
      "source": [
        "from tqdm import tqdm\n",
        "import torch\n",
        "\n",
        "from bert_pretrained import bert_tokenizer\n",
        "from options import args\n",
        "\n",
        "\n",
        "def style_transfer(encoder=None, generator=None, text_path=None, n_samples=100):\n",
        "    # save result if path is given\n",
        "    if args.transfer_result_save_path is not None:\n",
        "        fw = open(args.transfer_result_save_path, 'a')\n",
        "    else:\n",
        "        fw = None\n",
        "\n",
        "    # interactive mode\n",
        "    if text_path is None:\n",
        "        if fw is not None:\n",
        "            fw.write('\\n' + \"=\" * 50 + '\\n')\n",
        "            fw.write(\"Interactive transfer from {} -> {}\\n\".format(\n",
        "                str(1 - args.transfer_to),\n",
        "                str(args.transfer_to)\n",
        "            ))\n",
        "            fw.write(\"=\" * 50 + '\\n')\n",
        "        try:\n",
        "            while True:\n",
        "                fmt = \"Enter text to transfer to style {} (Ctrl+C to exit): \"\n",
        "                text = input(fmt.format(args.transfer_to))\n",
        "                tokens = bert_tokenizer.encode(text, add_special_tokens=False)\n",
        "                tokens = (\n",
        "                    [bert_tokenizer.bos_token_id]\n",
        "                    + tokens\n",
        "                    + [bert_tokenizer.eos_token_id]\n",
        "                )\n",
        "                tokens = torch.LongTensor([tokens]).transpose(0, 1)\n",
        "                original_label = torch.FloatTensor([1 - args.transfer_to])\n",
        "                output = generate_text(\n",
        "                    encoder.to(args.device),\n",
        "                    generator.to(args.device),\n",
        "                    original_label.to(args.device),\n",
        "                    tokens.to(args.device)\n",
        "                )\n",
        "                print(\"Transfer result:\", output)\n",
        "                if fw is not None:\n",
        "                    fw.write(text + ' -> ' + output + '\\n')\n",
        "\n",
        "        except KeyboardInterrupt:\n",
        "            if fw is not None:\n",
        "                fw.close()\n",
        "            print(\"\\nEnd interactive transfer\\n\")\n",
        "\n",
        "    # load data from text path\n",
        "    else:\n",
        "        if fw is not None:\n",
        "            fw.write('\\n' + \"=\" * 50 + '\\n')\n",
        "            fw.write(\"Transfer from file: {}\\n\".format(text_path))\n",
        "            fw.write(\"Number of samples: {}\\n\".format(n_samples))\n",
        "            fw.write(\"=\" * 50 + '\\n')\n",
        "\n",
        "        pbar = tqdm(total=n_samples)\n",
        "        counter = 0\n",
        "        inputs0, inputs1 = [], []\n",
        "        outputs0, outputs1 = [], []\n",
        "        with open(text_path, 'r') as text_file:\n",
        "            for line in text_file:\n",
        "                counter += 1\n",
        "                if counter == 1:\n",
        "                    continue\n",
        "                _, text, label = line.strip().split('\\t')\n",
        "                tokens = bert_tokenizer.encode(text, add_special_tokens=False)\n",
        "                tokens = (\n",
        "                    [bert_tokenizer.bos_token_id]\n",
        "                    + tokens\n",
        "                    + [bert_tokenizer.eos_token_id]\n",
        "                )\n",
        "                tokens = torch.LongTensor([tokens]).transpose(0, 1)\n",
        "                original_label = torch.FloatTensor([int(label)])\n",
        "                output = generate_text(\n",
        "                    encoder.to(args.device),\n",
        "                    generator.to(args.device),\n",
        "                    original_label.to(args.device),\n",
        "                    tokens.to(args.device)\n",
        "                )\n",
        "                if int(label) == 0:\n",
        "                    inputs0.append(text)\n",
        "                    outputs0.append(output)\n",
        "                else:\n",
        "                    inputs1.append(text)\n",
        "                    outputs1.append(output)\n",
        "                pbar.update()\n",
        "                if fw is not None:\n",
        "                    fw.write(label + ' > ' + str(1-int(label)) + ': '+ text + ' -> ' + output + '\\n')\n",
        "                if counter > n_samples:\n",
        "                    break\n",
        "\n",
        "        if fw is not None:\n",
        "            fw.close()\n",
        "        return inputs0, inputs1, outputs0, outputs1\n",
        "\n",
        "\n",
        "def generate_text(encoder, generator, original_label, tokens):\n",
        "    src_len = [len(tokens)]\n",
        "    predictions = generator.transfer(\n",
        "        encoder(original_label, tokens, src_len),  # hidden state\n",
        "        1 - original_label,  # transfer label\n",
        "        eos_token_id=bert_tokenizer.eos_token_id,\n",
        "        max_len=args.transfer_max_len\n",
        "    )\n",
        "    # change this part to first occurence of ber_tokenizer.eos_token_id\n",
        "    #if predictions[-1] == bert_tokenizer.eos_token_id:\n",
        "    #    predictions = predictions[:-1]\n",
        "\n",
        "    try:\n",
        "        eos_idx = predictions.index(bert_tokenizer.eos_token_id)\n",
        "        predictions = predictions[:eos_idx]\n",
        "    except ValueError:\n",
        "        predictions=predictions[:-1]\n",
        "    return bert_tokenizer.decode(predictions)\n",
        "\n",
        "\n",
        "# def _transfer():\n",
        "#     device = torch.device('cuda:{}'.format(args.cuda_device) if torch.cuda.is_available() else 'cpu')\n",
        "    \n",
        "#     # 1. get model\n",
        "#     embedding = get_bert_word_embedding().to(device).eval()\n",
        "#     encoder = Encoder(embedding, args.dim_y, args.dim_z).to(device).eval()\n",
        "#     generator = Generator(embedding, args.dim_y, args.dim_z, args.temperature, bert_tokenizer.bos_token_id, use_gumbel=args.use_gumbel).to(device).eval()\n",
        "    \n",
        "#     # 2. load checkpoint\n",
        "#     ckpt = torch.load(args.ckpt_path, map_location=device)\n",
        "#     embedding.load_state_dict(ckpt['embedding_state_dict'])\n",
        "#     encoder.load_state_dict(ckpt['encoder_state_dict'])\n",
        "#     generator.load_state_dict(ckpt['generator_state_dict'])\n",
        "    \n",
        "#     # 3. transfer!\n",
        "#     if args.transfer_result_save_path is not None:\n",
        "#         fw = open(args.transfer_result_save_path, 'w')\n",
        "#     else:\n",
        "#         fw = None\n",
        "            \n",
        "#     if args.test_text_path is None:\n",
        "#         # interactive mode\n",
        "#         while True:\n",
        "#             text = input(\"Enter text to transfer to stye {} (Ctrl+C to exit): \".format(args.transfer_to))\n",
        "#             text_tokens = [bert_tokenizer.bos_token_id] + bert_tokenizer.encode(text, add_special_tokens=False) + [bert_tokenizer.eos_token_id]\n",
        "#             text_tokens_tensor = torch.LongTensor([text_tokens]).transpose(0, 1).to(device)\n",
        "#             src_len = [len(text_tokens)]\n",
        "#             original_label = torch.FloatTensor([1-args.transfer_to]).to(device)\n",
        "#             transfer_label = torch.FloatTensor([args.transfer_to]).to(device)\n",
        "            \n",
        "#             z = encoder(original_label, text_tokens_tensor, src_len)\n",
        "#             predictions = generator.transfer(z, transfer_label, eos_token_id=bert_tokenizer.eos_token_id, max_len=args.transfer_max_len)\n",
        "#             if predictions[-1] == bert_tokenizer.eos_token_id:\n",
        "#                 predictions = predictions[:-1]\n",
        "                \n",
        "#             result = bert_tokenizer.decode(predictions)\n",
        "#             print(\"Transfer Result:\", result)\n",
        "#             if fw is not None:\n",
        "#                 fw.write(text + ' -> ' + result + '\\n')\n",
        "                \n",
        "#             if args.test_recon:\n",
        "#                 recon = generator.transfer(z, original_label, eos_token_id=bert_tokenizer.eos_token_id, max_len=args.transfer_max_len)\n",
        "#                 if recon[-1] == bert_tokenizer.eos_token_id:\n",
        "#                     recon = recon[:-1]\n",
        "#                 print(\"Recon:\", bert_tokenizer.decode(recon))\n",
        "            \n",
        "#     else:\n",
        "\n",
        "#         for line in args.test_text_path:\n",
        "#             line = line.strip()\n",
        "#             text = line\n",
        "#             text_tokens = [bert_tokenizer.bos_token_id] + bert_tokenizer.encode(text, add_special_tokens=False) + [bert_tokenizer.eos_token_id]\n",
        "#             text_tokens_tensor = torch.LongTensor([text_tokens]).transpose(0, 1).to(device)\n",
        "#             src_len = [len(text_tokens)]\n",
        "#             original_label = torch.FloatTensor([1-args.transfer_to]).to(device)\n",
        "#             transfer_label = torch.FloatTensor([args.transfer_to]).to(device)\n",
        "            \n",
        "#             z = encoder(original_label, text_tokens_tensor, src_len)\n",
        "#             predictions = generator.transfer(z, transfer_label, eos_token_id=bert_tokenizer.eos_token_id, max_len=args.transfer_max_len)\n",
        "#             if predictions[-1] == bert_tokenizer.eos_token_id:\n",
        "#                 predictions = predictions[:-1]\n",
        "                \n",
        "#             result = bert_tokenizer.decode(predictions)\n",
        "#             print(\"Transfer Result:\", result)\n",
        "#             if fw is not None:\n",
        "#                 fw.write(text + ' -> ' + result + '\\n')\n",
        "                \n",
        "#             if args.test_recon:\n",
        "#                 recon = generator.transfer(z, original_label, eos_token_id=bert_tokenizer.eos_token_id, max_len=args.transfer_max_len)\n",
        "#                 if recon[-1] == bert_tokenizer.eos_token_id:\n",
        "#                     recon = recon[:-1]\n",
        "#                 print(\"Recon:\", bert_tokenizer.decode(recon))\n",
        "            \n",
        "# if __name__ == '__main__':\n",
        "#     transfer()"
      ],
      "execution_count": null,
      "outputs": [
        {
          "output_type": "stream",
          "text": [
            "usage: /usr/local/lib/python3.7/dist-packages/ipykernel_launcher.py\n",
            "       [-h] --ckpt_path CKPT_PATH [--clf_ckpt_path CLF_CKPT_PATH]\n",
            "       [--dataset {yelp,nsmc}] [--text_file_path TEXT_FILE_PATH]\n",
            "       [--val_text_file_path VAL_TEXT_FILE_PATH] [--batch_size BATCH_SIZE]\n",
            "       [--max_seq_length MAX_SEQ_LENGTH] [--num_workers NUM_WORKERS]\n",
            "       [--dim_y DIM_Y] [--dim_z DIM_Z] [--dim_emb DIM_EMB]\n",
            "       [--filter_sizes FILTER_SIZES [FILTER_SIZES ...]]\n",
            "       [--n_filters N_FILTERS] [--epochs EPOCHS] [--weight_decay WEIGHT_DECAY]\n",
            "       [--max_grad_norm MAX_GRAD_NORM] [--lr LR] [--disc_lr DISC_LR]\n",
            "       [--temperature TEMPERATURE] [--use_gumbel USE_GUMBEL] [--rho RHO]\n",
            "       [--two_stage TWO_STAGE] [--second_stage_num SECOND_STAGE_NUM]\n",
            "       [--gan_type {vanilla,wgan-gp,lsgan}] [--gp_weight GP_WEIGHT]\n",
            "       [--log_interval LOG_INTERVAL] [--language {ko,en}]\n",
            "       [--threshold THRESHOLD] [--mode {train,transfer,interactive}]\n",
            "       [--test_text_path TEST_TEXT_PATH] [--transfer_to {0,1}]\n",
            "       [--n_samples N_SAMPLES] [--transfer_max_len TRANSFER_MAX_LEN]\n",
            "       [--transfer_result_save_path TRANSFER_RESULT_SAVE_PATH]\n",
            "       [--cuda_device CUDA_DEVICE] [--load_ckpt LOAD_CKPT]\n",
            "/usr/local/lib/python3.7/dist-packages/ipykernel_launcher.py: error: the following arguments are required: --ckpt_path\n"
          ],
          "name": "stderr"
        },
        {
          "output_type": "error",
          "ename": "SystemExit",
          "evalue": "ignored",
          "traceback": [
            "An exception has occurred, use %tb to see the full traceback.\n",
            "\u001b[0;31mSystemExit\u001b[0m\u001b[0;31m:\u001b[0m 2\n"
          ]
        },
        {
          "output_type": "stream",
          "text": [
            "/usr/local/lib/python3.7/dist-packages/IPython/core/interactiveshell.py:2890: UserWarning: To exit: use 'exit', 'quit', or Ctrl-D.\n",
            "  warn(\"To exit: use 'exit', 'quit', or Ctrl-D.\", stacklevel=1)\n"
          ],
          "name": "stderr"
        }
      ]
    },
    {
      "cell_type": "code",
      "metadata": {
        "id": "UGQR2KRUJczq"
      },
      "source": [
        ""
      ],
      "execution_count": null,
      "outputs": []
    }
  ]
}