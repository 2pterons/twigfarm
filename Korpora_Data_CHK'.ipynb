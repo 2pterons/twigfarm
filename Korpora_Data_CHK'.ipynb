{
  "nbformat": 4,
  "nbformat_minor": 0,
  "metadata": {
    "colab": {
      "name": "Korpora_Data_CHK'.ipynb",
      "provenance": [],
      "collapsed_sections": [],
      "mount_file_id": "1deayFKIJSdaBCiHAgJUzy0fENYXREAPI",
      "authorship_tag": "ABX9TyPpWKK8Q6Ij7gay8Vako969",
      "include_colab_link": true
    },
    "kernelspec": {
      "name": "python3",
      "display_name": "Python 3"
    },
    "language_info": {
      "name": "python"
    }
  },
  "cells": [
    {
      "cell_type": "markdown",
      "metadata": {
        "id": "view-in-github",
        "colab_type": "text"
      },
      "source": [
        "<a href=\"https://colab.research.google.com/github/2pterons/twigfarm/blob/main/Korpora_Data_CHK'.ipynb\" target=\"_parent\"><img src=\"https://colab.research.google.com/assets/colab-badge.svg\" alt=\"Open In Colab\"/></a>"
      ]
    },
    {
      "cell_type": "code",
      "metadata": {
        "id": "Xmp-_EmMznSN",
        "colab": {
          "base_uri": "https://localhost:8080/"
        },
        "outputId": "d94cdf8d-6a96-4afe-8c69-1fe9fb78bbc4"
      },
      "source": [
        "!pip install Korpora\n",
        "from Korpora import Korpora\n",
        "Korpora.corpus_list()\n",
        "#Korpora.fetch(\"open_subtitles\")"
      ],
      "execution_count": 1,
      "outputs": [
        {
          "output_type": "stream",
          "name": "stdout",
          "text": [
            "Collecting Korpora\n",
            "  Downloading Korpora-0.2.0-py3-none-any.whl (57 kB)\n",
            "\u001b[?25l\r\u001b[K     |█████▊                          | 10 kB 26.0 MB/s eta 0:00:01\r\u001b[K     |███████████▍                    | 20 kB 25.9 MB/s eta 0:00:01\r\u001b[K     |█████████████████               | 30 kB 11.6 MB/s eta 0:00:01\r\u001b[K     |██████████████████████▊         | 40 kB 9.2 MB/s eta 0:00:01\r\u001b[K     |████████████████████████████▍   | 51 kB 5.2 MB/s eta 0:00:01\r\u001b[K     |████████████████████████████████| 57 kB 3.0 MB/s \n",
            "\u001b[?25hCollecting xlrd>=1.2.0\n",
            "  Downloading xlrd-2.0.1-py2.py3-none-any.whl (96 kB)\n",
            "\u001b[K     |████████████████████████████████| 96 kB 4.1 MB/s \n",
            "\u001b[?25hRequirement already satisfied: tqdm>=4.46.0 in /usr/local/lib/python3.7/dist-packages (from Korpora) (4.62.3)\n",
            "Requirement already satisfied: numpy>=1.18.0 in /usr/local/lib/python3.7/dist-packages (from Korpora) (1.19.5)\n",
            "Collecting dataclasses>=0.6\n",
            "  Downloading dataclasses-0.6-py3-none-any.whl (14 kB)\n",
            "Requirement already satisfied: requests>=2.20.0 in /usr/local/lib/python3.7/dist-packages (from Korpora) (2.23.0)\n",
            "Requirement already satisfied: chardet<4,>=3.0.2 in /usr/local/lib/python3.7/dist-packages (from requests>=2.20.0->Korpora) (3.0.4)\n",
            "Requirement already satisfied: certifi>=2017.4.17 in /usr/local/lib/python3.7/dist-packages (from requests>=2.20.0->Korpora) (2021.5.30)\n",
            "Requirement already satisfied: urllib3!=1.25.0,!=1.25.1,<1.26,>=1.21.1 in /usr/local/lib/python3.7/dist-packages (from requests>=2.20.0->Korpora) (1.24.3)\n",
            "Requirement already satisfied: idna<3,>=2.5 in /usr/local/lib/python3.7/dist-packages (from requests>=2.20.0->Korpora) (2.10)\n",
            "Installing collected packages: xlrd, dataclasses, Korpora\n",
            "  Attempting uninstall: xlrd\n",
            "    Found existing installation: xlrd 1.1.0\n",
            "    Uninstalling xlrd-1.1.0:\n",
            "      Successfully uninstalled xlrd-1.1.0\n",
            "Successfully installed Korpora-0.2.0 dataclasses-0.6 xlrd-2.0.1\n"
          ]
        },
        {
          "output_type": "execute_result",
          "data": {
            "text/plain": [
              "{'aihub_conversation_translation': 'AI Hub 에서 제공하는 번역용 병렬 말뭉치 (대화)',\n",
              " 'aihub_decree_translation': 'AI Hub 에서 제공하는 번역용 병렬 말뭉치 (조례)',\n",
              " 'aihub_government_website_translation': 'AI Hub 에서 제공하는 번역용 병렬 말뭉치 (지자체웹사이트)',\n",
              " 'aihub_korean_culture_translation': 'AI Hub 에서 제공하는 번역용 병렬 말뭉치 (한국문화)',\n",
              " 'aihub_news_translation': 'AI Hub 에서 제공하는 번역용 병렬 말뭉치 (뉴스)',\n",
              " 'aihub_spoken_translation': 'AI Hub 에서 제공하는 번역용 병렬 말뭉치 (구어)',\n",
              " 'aihub_translation': 'AI Hub 에서 제공하는 번역용 병렬 말뭉치 (구어 + 대화 + 뉴스 + 한국문화 + 조례 + 지자체웹사이트)',\n",
              " 'kcbert': 'beomi@github 님이 만드신 KcBERT 학습데이터',\n",
              " 'korean_chatbot_data': 'songys@github 님이 만드신 챗봇 문답 데이터',\n",
              " 'korean_hate_speech': '{inmoonlight,warnikchow,beomi}@github 님이 만드신 혐오댓글데이터',\n",
              " 'korean_parallel_koen_news': 'jungyeul@github 님이 만드신 병렬 말뭉치',\n",
              " 'korean_petitions': 'lovit@github 님이 만드신 2017.08 ~ 2019.03 청와대 청원데이터',\n",
              " 'kornli': 'KakaoBrain 에서 제공하는 Natural Language Inference (NLI) 데이터',\n",
              " 'korsts': 'KakaoBrain 에서 제공하는 Semantic Textual Similarity (STS) 데이터',\n",
              " 'kowikitext': 'lovit@github 님이 만드신 wikitext 형식의 한국어 위키피디아 데이터',\n",
              " 'modu_messenger': '국립국어원에서 만든 모두의 말뭉치: 메신저 말뭉치',\n",
              " 'modu_mp': '국립국어원에서 만든 모두의 말뭉치: 형태 분석 말뭉치',\n",
              " 'modu_ne': '국립국어원에서 만든 모두의 말뭉치: 개체명 분석 말뭉치',\n",
              " 'modu_news': '국립국어원에서 만든 모두의 말뭉치: 뉴스 말뭉치',\n",
              " 'modu_spoken': '국립국어원에서 만든 모두의 말뭉치: 구어 말뭉치',\n",
              " 'modu_web': '국립국어원에서 만든 모두의 말뭉치: 웹 말뭉치',\n",
              " 'modu_written': '국립국어원에서 만든 모두의 말뭉치: 문어 말뭉치',\n",
              " 'namuwikitext': 'lovit@github 님이 만드신 wikitext 형식의 나무위키 데이터',\n",
              " 'naver_changwon_ner': '네이버 + 창원대 NER shared task data',\n",
              " 'nsmc': 'e9t@github 님이 만드신 Naver sentiment movie corpus v1.0',\n",
              " 'open_subtitles': 'Open parallel corpus (OPUS) 에서 제공하는 영화 자막 번역 병렬 말뭉치',\n",
              " 'question_pair': 'songys@github 님이 만드신 질문쌍(Paired Question v.2)'}"
            ]
          },
          "metadata": {},
          "execution_count": 1
        }
      ]
    },
    {
      "cell_type": "code",
      "metadata": {
        "id": "KzpT6oXbZsoD"
      },
      "source": [
        "from Korpora import Korpora\n",
        "corpus = Korpora.load(\"open_subtitles\")"
      ],
      "execution_count": null,
      "outputs": []
    },
    {
      "cell_type": "code",
      "metadata": {
        "colab": {
          "base_uri": "https://localhost:8080/"
        },
        "id": "HuGZtrBHZmb3",
        "outputId": "359f8ed7-9cac-477f-fde6-4885116f4598"
      },
      "source": [
        "corpus.train[0].pair, corpus.train[0].text"
      ],
      "execution_count": null,
      "outputs": [
        {
          "output_type": "execute_result",
          "data": {
            "text/plain": [
              "('Through the snow and sleet and hail, through the blizzard, through the gales, through the wind and through the rain, over mountain, over plain, through the blinding lightning flash, and the mighty thunder crash,',\n",
              " '폭설이 내리고 우박, 진눈깨비가 퍼부어도 눈보라가 몰아쳐도 강풍이 불고 비바람이 휘몰아쳐도')"
            ]
          },
          "metadata": {},
          "execution_count": 3
        }
      ]
    },
    {
      "cell_type": "code",
      "metadata": {
        "id": "CgOjfPt-py_t"
      },
      "source": [
        "corpus_text = corpus.get_all_texts()\n",
        "corpus_pair = corpus.get_all_pairs()"
      ],
      "execution_count": null,
      "outputs": []
    },
    {
      "cell_type": "code",
      "metadata": {
        "id": "qsx23yYTqFjm"
      },
      "source": [
        "import re\n",
        "\n",
        "cleaned_text = []\n",
        "for i in corpus_text:\n",
        "  re_sub = re.sub('-','', i)\n",
        "  cleaned_text.append(re_sub.strip())"
      ],
      "execution_count": null,
      "outputs": []
    },
    {
      "cell_type": "code",
      "metadata": {
        "id": "0_J_mh10-Fp4"
      },
      "source": [
        "import re\n",
        "\n",
        "cleaned_pair = []\n",
        "for i in corpus_pair:\n",
        "  re_sub = re.sub('-','', i)\n",
        "  cleaned_pair.append(re_sub.strip())"
      ],
      "execution_count": null,
      "outputs": []
    },
    {
      "cell_type": "code",
      "metadata": {
        "id": "zlKBprbGtfCj"
      },
      "source": [
        "#kcc_ko = pd.DataFrame(kcc, columns=['ko'])"
      ],
      "execution_count": null,
      "outputs": []
    },
    {
      "cell_type": "code",
      "metadata": {
        "id": "H_GY_zkYtfCk"
      },
      "source": [
        "import pandas as pd\n",
        "\n",
        "korpora_ko = pd.DataFrame(cleaned_text, columns=['ko'])"
      ],
      "execution_count": null,
      "outputs": []
    },
    {
      "cell_type": "code",
      "metadata": {
        "id": "WZP3NmjNGD7R"
      },
      "source": [
        "korpora_en = pd.DataFrame(cleaned_pair, columns=['en'])"
      ],
      "execution_count": null,
      "outputs": []
    },
    {
      "cell_type": "code",
      "metadata": {
        "colab": {
          "base_uri": "https://localhost:8080/"
        },
        "id": "c_m4ceM8tfCk",
        "outputId": "1c89264f-b72c-4332-94cf-d545fb7a2c88"
      },
      "source": [
        "len(korpora_ko), len(korpora_en)"
      ],
      "execution_count": null,
      "outputs": [
        {
          "output_type": "execute_result",
          "data": {
            "text/plain": [
              "(1269683, 1269683)"
            ]
          },
          "metadata": {},
          "execution_count": 19
        }
      ]
    },
    {
      "cell_type": "code",
      "metadata": {
        "colab": {
          "base_uri": "https://localhost:8080/",
          "height": 422
        },
        "id": "ucPGqbvhEXoK",
        "outputId": "c06a7334-d565-4e80-9e6d-16f1597c2ed5"
      },
      "source": [
        "korpora_ko"
      ],
      "execution_count": null,
      "outputs": [
        {
          "output_type": "execute_result",
          "data": {
            "text/html": [
              "<div>\n",
              "<style scoped>\n",
              "    .dataframe tbody tr th:only-of-type {\n",
              "        vertical-align: middle;\n",
              "    }\n",
              "\n",
              "    .dataframe tbody tr th {\n",
              "        vertical-align: top;\n",
              "    }\n",
              "\n",
              "    .dataframe thead th {\n",
              "        text-align: right;\n",
              "    }\n",
              "</style>\n",
              "<table border=\"1\" class=\"dataframe\">\n",
              "  <thead>\n",
              "    <tr style=\"text-align: right;\">\n",
              "      <th></th>\n",
              "      <th>ko</th>\n",
              "    </tr>\n",
              "  </thead>\n",
              "  <tbody>\n",
              "    <tr>\n",
              "      <th>0</th>\n",
              "      <td>폭설이 내리고 우박, 진눈깨비가 퍼부어도 눈보라가 몰아쳐도 강풍이 불고 비바람이 휘...</td>\n",
              "    </tr>\n",
              "    <tr>\n",
              "      <th>1</th>\n",
              "      <td>우리의 한결같은 심부름꾼 황새 아저씨 가는 길을 그 누가 막으랴!</td>\n",
              "    </tr>\n",
              "    <tr>\n",
              "      <th>2</th>\n",
              "      <td>황새 아저씨를 기다리세요</td>\n",
              "    </tr>\n",
              "    <tr>\n",
              "      <th>3</th>\n",
              "      <td>찾아와 선물을 주실 거예요</td>\n",
              "    </tr>\n",
              "    <tr>\n",
              "      <th>4</th>\n",
              "      <td>가난하든 부자이든 상관이 없답니다</td>\n",
              "    </tr>\n",
              "    <tr>\n",
              "      <th>...</th>\n",
              "      <td>...</td>\n",
              "    </tr>\n",
              "    <tr>\n",
              "      <th>1269678</th>\n",
              "      <td>시라카와 씨</td>\n",
              "    </tr>\n",
              "    <tr>\n",
              "      <th>1269679</th>\n",
              "      <td>뭘요</td>\n",
              "    </tr>\n",
              "    <tr>\n",
              "      <th>1269680</th>\n",
              "      <td>\"'떠도는 감정' 올해 최고의 베스트셀러\"</td>\n",
              "    </tr>\n",
              "    <tr>\n",
              "      <th>1269681</th>\n",
              "      <td>그건 나의 개인적인 원칙이다</td>\n",
              "    </tr>\n",
              "    <tr>\n",
              "      <th>1269682</th>\n",
              "      <td>\"'내 여자들' 미치마 신\"</td>\n",
              "    </tr>\n",
              "  </tbody>\n",
              "</table>\n",
              "<p>1269683 rows × 1 columns</p>\n",
              "</div>"
            ],
            "text/plain": [
              "                                                        ko\n",
              "0        폭설이 내리고 우박, 진눈깨비가 퍼부어도 눈보라가 몰아쳐도 강풍이 불고 비바람이 휘...\n",
              "1                     우리의 한결같은 심부름꾼 황새 아저씨 가는 길을 그 누가 막으랴!\n",
              "2                                            황새 아저씨를 기다리세요\n",
              "3                                           찾아와 선물을 주실 거예요\n",
              "4                                       가난하든 부자이든 상관이 없답니다\n",
              "...                                                    ...\n",
              "1269678                                             시라카와 씨\n",
              "1269679                                                 뭘요\n",
              "1269680                            \"'떠도는 감정' 올해 최고의 베스트셀러\"\n",
              "1269681                                    그건 나의 개인적인 원칙이다\n",
              "1269682                                    \"'내 여자들' 미치마 신\"\n",
              "\n",
              "[1269683 rows x 1 columns]"
            ]
          },
          "metadata": {},
          "execution_count": 10
        }
      ]
    },
    {
      "cell_type": "code",
      "metadata": {
        "colab": {
          "base_uri": "https://localhost:8080/",
          "height": 422
        },
        "id": "l1vOSHu1GJES",
        "outputId": "cb8d6ce8-41cf-4963-fc6a-d7c693e84eff"
      },
      "source": [
        "korpora_en"
      ],
      "execution_count": null,
      "outputs": [
        {
          "output_type": "execute_result",
          "data": {
            "text/html": [
              "<div>\n",
              "<style scoped>\n",
              "    .dataframe tbody tr th:only-of-type {\n",
              "        vertical-align: middle;\n",
              "    }\n",
              "\n",
              "    .dataframe tbody tr th {\n",
              "        vertical-align: top;\n",
              "    }\n",
              "\n",
              "    .dataframe thead th {\n",
              "        text-align: right;\n",
              "    }\n",
              "</style>\n",
              "<table border=\"1\" class=\"dataframe\">\n",
              "  <thead>\n",
              "    <tr style=\"text-align: right;\">\n",
              "      <th></th>\n",
              "      <th>eb</th>\n",
              "    </tr>\n",
              "  </thead>\n",
              "  <tbody>\n",
              "    <tr>\n",
              "      <th>0</th>\n",
              "      <td>Through the snow and sleet and hail, through t...</td>\n",
              "    </tr>\n",
              "    <tr>\n",
              "      <th>1</th>\n",
              "      <td>ever faithful, ever true, nothing stops him, h...</td>\n",
              "    </tr>\n",
              "    <tr>\n",
              "      <th>2</th>\n",
              "      <td>Look out for Mr Stork That persevering chap</td>\n",
              "    </tr>\n",
              "    <tr>\n",
              "      <th>3</th>\n",
              "      <td>He'll come along and drop a bundle in your lap</td>\n",
              "    </tr>\n",
              "    <tr>\n",
              "      <th>4</th>\n",
              "      <td>You may be poor or rich It doesn't matter which</td>\n",
              "    </tr>\n",
              "    <tr>\n",
              "      <th>...</th>\n",
              "      <td>...</td>\n",
              "    </tr>\n",
              "    <tr>\n",
              "      <th>1269678</th>\n",
              "      <td>Ms. Shirakawa.</td>\n",
              "    </tr>\n",
              "    <tr>\n",
              "      <th>1269679</th>\n",
              "      <td>My pleasure.</td>\n",
              "    </tr>\n",
              "    <tr>\n",
              "      <th>1269680</th>\n",
              "      <td>DRIFTING EMOTIONS BY SHIN MICHIMA THIS YEAR'S ...</td>\n",
              "    </tr>\n",
              "    <tr>\n",
              "      <th>1269681</th>\n",
              "      <td>It's because... that's the way I want it.</td>\n",
              "    </tr>\n",
              "    <tr>\n",
              "      <th>1269682</th>\n",
              "      <td>MY LADIES BY SHIN MICHIMA</td>\n",
              "    </tr>\n",
              "  </tbody>\n",
              "</table>\n",
              "<p>1269683 rows × 1 columns</p>\n",
              "</div>"
            ],
            "text/plain": [
              "                                                        eb\n",
              "0        Through the snow and sleet and hail, through t...\n",
              "1        ever faithful, ever true, nothing stops him, h...\n",
              "2              Look out for Mr Stork That persevering chap\n",
              "3           He'll come along and drop a bundle in your lap\n",
              "4          You may be poor or rich It doesn't matter which\n",
              "...                                                    ...\n",
              "1269678                                     Ms. Shirakawa.\n",
              "1269679                                       My pleasure.\n",
              "1269680  DRIFTING EMOTIONS BY SHIN MICHIMA THIS YEAR'S ...\n",
              "1269681          It's because... that's the way I want it.\n",
              "1269682                          MY LADIES BY SHIN MICHIMA\n",
              "\n",
              "[1269683 rows x 1 columns]"
            ]
          },
          "metadata": {},
          "execution_count": 18
        }
      ]
    },
    {
      "cell_type": "code",
      "metadata": {
        "colab": {
          "base_uri": "https://localhost:8080/"
        },
        "id": "CeYP_GWSFLv6",
        "outputId": "23676b83-132f-4148-e435-c4a8d2e0802f"
      },
      "source": [
        "%cd /content/drive/MyDrive/Colab Notebooks/트위그팜/data/korpora/\n",
        "import pickle\n",
        "\n",
        "with open('korpora_text.pkl', 'wb') as f:\n",
        "  pickle.dump(korpora_ko, f)"
      ],
      "execution_count": null,
      "outputs": [
        {
          "output_type": "stream",
          "name": "stdout",
          "text": [
            "/content/drive/MyDrive/Colab Notebooks/트위그팜/data/korpora\n"
          ]
        }
      ]
    },
    {
      "cell_type": "code",
      "metadata": {
        "id": "lKSrPF0hF6a5"
      },
      "source": [
        "with open('korpora_pair.pkl', 'wb') as f:\n",
        "  pickle.dump(korpora_en, f)"
      ],
      "execution_count": null,
      "outputs": []
    },
    {
      "cell_type": "code",
      "metadata": {
        "colab": {
          "base_uri": "https://localhost:8080/",
          "height": 238
        },
        "id": "-trZjSVUEmkr",
        "outputId": "aa7399b8-f9f6-403a-f1b5-bd610148f7d8"
      },
      "source": [
        "cnt=0\n",
        "for i in korpora_ko['ko']:\n",
        "  if cnt < 100 and len(i) > 50:\n",
        "    print(i)\n",
        "    #cnt+=1\n",
        "  else:\n",
        "    break"
      ],
      "execution_count": 1,
      "outputs": [
        {
          "output_type": "error",
          "ename": "NameError",
          "evalue": "ignored",
          "traceback": [
            "\u001b[0;31m---------------------------------------------------------------------------\u001b[0m",
            "\u001b[0;31mNameError\u001b[0m                                 Traceback (most recent call last)",
            "\u001b[0;32m<ipython-input-1-36c641e23385>\u001b[0m in \u001b[0;36m<module>\u001b[0;34m()\u001b[0m\n\u001b[1;32m      1\u001b[0m \u001b[0mcnt\u001b[0m\u001b[0;34m=\u001b[0m\u001b[0;36m0\u001b[0m\u001b[0;34m\u001b[0m\u001b[0;34m\u001b[0m\u001b[0m\n\u001b[0;32m----> 2\u001b[0;31m \u001b[0;32mfor\u001b[0m \u001b[0mi\u001b[0m \u001b[0;32min\u001b[0m \u001b[0mkorpora_ko\u001b[0m\u001b[0;34m[\u001b[0m\u001b[0;34m'ko'\u001b[0m\u001b[0;34m]\u001b[0m\u001b[0;34m:\u001b[0m\u001b[0;34m\u001b[0m\u001b[0;34m\u001b[0m\u001b[0m\n\u001b[0m\u001b[1;32m      3\u001b[0m   \u001b[0;32mif\u001b[0m \u001b[0mcnt\u001b[0m \u001b[0;34m<\u001b[0m \u001b[0;36m100\u001b[0m \u001b[0;32mand\u001b[0m \u001b[0mlen\u001b[0m\u001b[0;34m(\u001b[0m\u001b[0mi\u001b[0m\u001b[0;34m)\u001b[0m \u001b[0;34m>\u001b[0m \u001b[0;36m50\u001b[0m\u001b[0;34m:\u001b[0m\u001b[0;34m\u001b[0m\u001b[0;34m\u001b[0m\u001b[0m\n\u001b[1;32m      4\u001b[0m     \u001b[0mprint\u001b[0m\u001b[0;34m(\u001b[0m\u001b[0mi\u001b[0m\u001b[0;34m)\u001b[0m\u001b[0;34m\u001b[0m\u001b[0;34m\u001b[0m\u001b[0m\n\u001b[1;32m      5\u001b[0m     \u001b[0;31m#cnt+=1\u001b[0m\u001b[0;34m\u001b[0m\u001b[0;34m\u001b[0m\u001b[0;34m\u001b[0m\u001b[0m\n",
            "\u001b[0;31mNameError\u001b[0m: name 'korpora_ko' is not defined"
          ]
        }
      ]
    },
    {
      "cell_type": "code",
      "metadata": {
        "colab": {
          "base_uri": "https://localhost:8080/"
        },
        "id": "YQVQpWhKGTj7",
        "outputId": "e019ddd7-ac1d-4c15-a3c7-6503844a6ab3"
      },
      "source": [
        "cnt=0\n",
        "for i in korpora_en['en']:\n",
        "  if cnt < 100:\n",
        "    print(i)\n",
        "    cnt+=1\n",
        "  else:\n",
        "    break"
      ],
      "execution_count": null,
      "outputs": [
        {
          "output_type": "stream",
          "name": "stdout",
          "text": [
            "Through the snow and sleet and hail, through the blizzard, through the gales, through the wind and through the rain, over mountain, over plain, through the blinding lightning flash, and the mighty thunder crash,\n",
            "ever faithful, ever true, nothing stops him, he'll get through.\n",
            "Look out for Mr Stork That persevering chap\n",
            "He'll come along and drop a bundle in your lap\n",
            "You may be poor or rich It doesn't matter which\n",
            "Millionaires, they get theirs like the butcher and the baker\n",
            "So look out for Mr Stork and let me tell you, friend\n",
            "Don't try to get away He'll find you in the end\n",
            "He'll spot you out in China or he'll fly to County Cork\n",
            "So, you better look out for Mr Stork\n",
            "Look out for Mr Stork He's got you on his list\n",
            "And when he comes around it's useless to resist\n",
            "Remember those quintuplets and the woman in the shoe\n",
            "Maybe he's got his eye on you\n",
            "All aboard! All aboard!\n",
            "All aboard!\n",
            "Let's go!\n",
            "Casey Junior's comin' down the track\n",
            "Comin' down the track with a smoky stack\n",
            "Hear him puffin' comin' round the hill\n",
            "Casey's here to thrill every Jack and Jill\n",
            "Every time his funny little whistle sounds\n",
            "Everybody hurries to the circus grounds\n",
            "Time for lemonade and Cracker Jack\n",
            "Casey Junior's back Casey Junior's back\n",
            "My, my.\n",
            "Now, let me see.\n",
            "Must be right around here somewhere.\n",
            "I hope.\n",
            "Watch it there.\n",
            "...on the treetop\n",
            "Where are we? Oh, here.\n",
            "Highway 61, four miles to the gas station, turn left\n",
            "That must be it.\n",
            "Well, little fella, let's get going.\n",
            "Mrs Jumbo.\n",
            "Oh, Mrs Jumbo!\n",
            "Calling Mrs Jumbo.\n",
            "Mrs Jumbo?\n",
            "Mrs Jumbo!\n",
            "Oh, where's that Mrs Jumbo?\n",
            "This way, boy.\n",
            "In here, in here!\n",
            "This is the place.\n",
            "At last.\n",
            "Which one of you ladies is expecting?\n",
            "Not me.\n",
            "The very idea!\n",
            "Certainly not!\n",
            "Over there.\n",
            "Of course.  Yes, of course.\n",
            "Right over there.\n",
            "\"Here is a baby with eyes of blue, straight from heaven right to you. \"\n",
            "Or...\n",
            "\"Straight from heaven, up above, here is a baby for you to love. \"\n",
            "Yeah, well... Oh, Mrs Jumbo...\n",
            "This is still part of the service.\n",
            "Happy birthday to you\n",
            "Happy birthday, dear...\n",
            "Dear...\n",
            "Dear me, what's his name?\n",
            "Jumbo... Junior.\n",
            "Oh, Jumbo Junior, huh? Jumbo Junior.\n",
            "Happy birthday, dear Jumbo Junior\n",
            "Happy birthday\n",
            "To\n",
            "You\n",
            "Do hurry, dear.\n",
            "I'm on pins and needles.\n",
            "Isn't it thrilling?\n",
            "I'm all aflutter.\n",
            "Oh, this is a proud, proud day.\n",
            "Hurry and open it, dearie.\n",
            "I'm just dying to see.\n",
            "Look at him.  Look at him.\n",
            "Oh, you sweet little thing.\n",
            "He is cute, isn't he?  Oh, he is a darling little angel.\n",
            "Adorable. Simply adorable.\n",
            "Did you ever see anything so cunning?\n",
            "Isn't he a darling?\n",
            "Is it possible?\n",
            "Isn't there some mistake?\n",
            "Just look at those EARS.\n",
            "Those what?\n",
            "Oh, ears!\n",
            "These! Aren't they funny?\n",
            "My, what a temper. What did I do?\n",
            "Tell me, did I say anything?\n",
            "A perfectly harmless remark.\n",
            "I just said they're funny.\n",
            "They certainly are.\n",
            "After all, who cares about her precious little Jumbo?\n",
            "Jumbo?\n",
            "You mean Dumbo!\n",
            "Dumbo!\n",
            "That's good.\n",
            "I think I can, I think I can. I think I can, I think I can.\n",
            "I think I can, I think I can.\n",
            "I think I can.\n",
            "I... thought I could, I thought I could. I thought I could, I thought I could.\n"
          ]
        }
      ]
    }
  ]
}