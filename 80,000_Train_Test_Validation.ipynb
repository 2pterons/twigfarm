{
  "nbformat": 4,
  "nbformat_minor": 0,
  "metadata": {
    "colab": {
      "name": "80,000_Train_Test_Validation.ipynb",
      "provenance": [],
      "collapsed_sections": [],
      "mount_file_id": "1Ynk5izCYmJpnlG5h7JcVAefHHrZc7vRk",
      "authorship_tag": "ABX9TyNEKRv9g47k2hYXVvynlH0g",
      "include_colab_link": true
    },
    "kernelspec": {
      "name": "python3",
      "display_name": "Python 3"
    },
    "language_info": {
      "name": "python"
    }
  },
  "cells": [
    {
      "cell_type": "markdown",
      "metadata": {
        "id": "view-in-github",
        "colab_type": "text"
      },
      "source": [
        "<a href=\"https://colab.research.google.com/github/2pterons/twigfarm/blob/main/80%2C000_Train_Test_Validation.ipynb\" target=\"_parent\"><img src=\"https://colab.research.google.com/assets/colab-badge.svg\" alt=\"Open In Colab\"/></a>"
      ]
    },
    {
      "cell_type": "code",
      "metadata": {
        "colab": {
          "base_uri": "https://localhost:8080/"
        },
        "id": "lMGSQ8xyFLE5",
        "outputId": "e557cd76-c5a6-408e-8732-59426fb21085"
      },
      "source": [
        "%cd /content/drive/MyDrive/Colab Notebooks/트위그팜/자연스러운 한국어/data/cleaned/"
      ],
      "execution_count": null,
      "outputs": [
        {
          "output_type": "stream",
          "name": "stdout",
          "text": [
            "/content/drive/MyDrive/Colab Notebooks/트위그팜/자연스러운 한국어/data/cleaned\n"
          ]
        }
      ]
    },
    {
      "cell_type": "code",
      "metadata": {
        "id": "Fd0iZqRJFkhr"
      },
      "source": [
        "import pandas as pd\n",
        "import pickle"
      ],
      "execution_count": null,
      "outputs": []
    },
    {
      "cell_type": "code",
      "metadata": {
        "id": "OzVrY0-bFrx7"
      },
      "source": [
        "origin = pd.read_csv('test.0.csv')\n",
        "trans = pd.read_csv('test.1.csv')"
      ],
      "execution_count": null,
      "outputs": []
    },
    {
      "cell_type": "code",
      "metadata": {
        "id": "6PWsnZstK9fc"
      },
      "source": [
        "origin.columns = ['original']\n",
        "trans.columns = ['translated']"
      ],
      "execution_count": null,
      "outputs": []
    },
    {
      "cell_type": "code",
      "metadata": {
        "colab": {
          "base_uri": "https://localhost:8080/",
          "height": 415
        },
        "id": "ZaefpjWKKLeM",
        "outputId": "3d1e325d-a620-47da-cb5d-be543d74199b"
      },
      "source": [
        "origin"
      ],
      "execution_count": null,
      "outputs": [
        {
          "output_type": "execute_result",
          "data": {
            "text/html": [
              "<div>\n",
              "<style scoped>\n",
              "    .dataframe tbody tr th:only-of-type {\n",
              "        vertical-align: middle;\n",
              "    }\n",
              "\n",
              "    .dataframe tbody tr th {\n",
              "        vertical-align: top;\n",
              "    }\n",
              "\n",
              "    .dataframe thead th {\n",
              "        text-align: right;\n",
              "    }\n",
              "</style>\n",
              "<table border=\"1\" class=\"dataframe\">\n",
              "  <thead>\n",
              "    <tr style=\"text-align: right;\">\n",
              "      <th></th>\n",
              "      <th>original</th>\n",
              "    </tr>\n",
              "  </thead>\n",
              "  <tbody>\n",
              "    <tr>\n",
              "      <th>0</th>\n",
              "      <td>\"물론, 나는 당시에 음식을 전혀 못했다.\"</td>\n",
              "    </tr>\n",
              "    <tr>\n",
              "      <th>1</th>\n",
              "      <td>해먹은 음식은 모두 그 친구의 손을 거쳐갔다.</td>\n",
              "    </tr>\n",
              "    <tr>\n",
              "      <th>2</th>\n",
              "      <td>어떻게 음식을 만드는지 구경만 했을 뿐이다.</td>\n",
              "    </tr>\n",
              "    <tr>\n",
              "      <th>3</th>\n",
              "      <td>고기를 굽거나 야채 손질을 조금 도와주는 정도였다.</td>\n",
              "    </tr>\n",
              "    <tr>\n",
              "      <th>4</th>\n",
              "      <td>전통시장인 '질료니 바자르'로 가기로 마음을 먹었다.</td>\n",
              "    </tr>\n",
              "    <tr>\n",
              "      <th>...</th>\n",
              "      <td>...</td>\n",
              "    </tr>\n",
              "    <tr>\n",
              "      <th>89017</th>\n",
              "      <td>남편이 좋아하는 작가 일 순위로 뽑는 히가시노 게이고의 신작 아닌 신작을 함께 읽었다.</td>\n",
              "    </tr>\n",
              "    <tr>\n",
              "      <th>89018</th>\n",
              "      <td>'그녀는 다 계획이 있다'를 나는 별로 읽을 생각이 없었다.</td>\n",
              "    </tr>\n",
              "    <tr>\n",
              "      <th>89019</th>\n",
              "      <td>그런데 곳곳에 히가시노 게이고의 펜들이 있었다.</td>\n",
              "    </tr>\n",
              "    <tr>\n",
              "      <th>89020</th>\n",
              "      <td>조금 두껍지만 술술 후루룩 뚝딱 읽고 처음 든 생각은 '생각보다 괜찮은데.'였다.</td>\n",
              "    </tr>\n",
              "    <tr>\n",
              "      <th>89021</th>\n",
              "      <td>그리고 남편과 추억 이야기를 나누었다.</td>\n",
              "    </tr>\n",
              "  </tbody>\n",
              "</table>\n",
              "<p>89022 rows × 1 columns</p>\n",
              "</div>"
            ],
            "text/plain": [
              "                                               original\n",
              "0                              \"물론, 나는 당시에 음식을 전혀 못했다.\"\n",
              "1                             해먹은 음식은 모두 그 친구의 손을 거쳐갔다.\n",
              "2                              어떻게 음식을 만드는지 구경만 했을 뿐이다.\n",
              "3                          고기를 굽거나 야채 손질을 조금 도와주는 정도였다.\n",
              "4                         전통시장인 '질료니 바자르'로 가기로 마음을 먹었다.\n",
              "...                                                 ...\n",
              "89017  남편이 좋아하는 작가 일 순위로 뽑는 히가시노 게이고의 신작 아닌 신작을 함께 읽었다.\n",
              "89018                 '그녀는 다 계획이 있다'를 나는 별로 읽을 생각이 없었다.\n",
              "89019                        그런데 곳곳에 히가시노 게이고의 펜들이 있었다.\n",
              "89020     조금 두껍지만 술술 후루룩 뚝딱 읽고 처음 든 생각은 '생각보다 괜찮은데.'였다.\n",
              "89021                             그리고 남편과 추억 이야기를 나누었다.\n",
              "\n",
              "[89022 rows x 1 columns]"
            ]
          },
          "metadata": {},
          "execution_count": 67
        }
      ]
    },
    {
      "cell_type": "code",
      "metadata": {
        "id": "LPxwZDyGFmbx"
      },
      "source": [
        "train = pd.DataFrame()\n",
        "test = pd.DataFrame()\n",
        "val = pd.DataFrame()"
      ],
      "execution_count": null,
      "outputs": []
    },
    {
      "cell_type": "code",
      "metadata": {
        "id": "_fKRFqcoF50t"
      },
      "source": [
        "train['original'] = origin['original'][:53022]\n",
        "train['translated'] = trans['translated'][:53022]\n",
        "\n",
        "test['original'] = origin['original'][53022:71022]\n",
        "#test['translated'] = trans['translated'][53022:71022]\n",
        "\n",
        "val['original'] = origin['original'][71022:]\n",
        "#val['translated'] = trans['translated'][71022:]"
      ],
      "execution_count": null,
      "outputs": []
    },
    {
      "cell_type": "code",
      "metadata": {
        "colab": {
          "base_uri": "https://localhost:8080/"
        },
        "id": "mJiw-gIMG2G2",
        "outputId": "3af45985-864b-47db-a64f-7d424eaf16e3"
      },
      "source": [
        "len(train), len(test), len(val)"
      ],
      "execution_count": null,
      "outputs": [
        {
          "output_type": "execute_result",
          "data": {
            "text/plain": [
              "(53022, 18000, 18000)"
            ]
          },
          "metadata": {},
          "execution_count": 70
        }
      ]
    },
    {
      "cell_type": "code",
      "metadata": {
        "colab": {
          "base_uri": "https://localhost:8080/",
          "height": 202
        },
        "id": "N4b8i8ElHzRu",
        "outputId": "2ae241c8-1d22-468c-e038-d51bf5bf9ad9"
      },
      "source": [
        "train.head()"
      ],
      "execution_count": null,
      "outputs": [
        {
          "output_type": "execute_result",
          "data": {
            "text/html": [
              "<div>\n",
              "<style scoped>\n",
              "    .dataframe tbody tr th:only-of-type {\n",
              "        vertical-align: middle;\n",
              "    }\n",
              "\n",
              "    .dataframe tbody tr th {\n",
              "        vertical-align: top;\n",
              "    }\n",
              "\n",
              "    .dataframe thead th {\n",
              "        text-align: right;\n",
              "    }\n",
              "</style>\n",
              "<table border=\"1\" class=\"dataframe\">\n",
              "  <thead>\n",
              "    <tr style=\"text-align: right;\">\n",
              "      <th></th>\n",
              "      <th>original</th>\n",
              "      <th>translated</th>\n",
              "    </tr>\n",
              "  </thead>\n",
              "  <tbody>\n",
              "    <tr>\n",
              "      <th>0</th>\n",
              "      <td>\"물론, 나는 당시에 음식을 전혀 못했다.\"</td>\n",
              "      <td>\"당연히 그 당시에는 음식을 전혀 먹지 않았습니다.\"</td>\n",
              "    </tr>\n",
              "    <tr>\n",
              "      <th>1</th>\n",
              "      <td>해먹은 음식은 모두 그 친구의 손을 거쳐갔다.</td>\n",
              "      <td>해먹의 모든 음식은 친구의 손을 통과했습니다.</td>\n",
              "    </tr>\n",
              "    <tr>\n",
              "      <th>2</th>\n",
              "      <td>어떻게 음식을 만드는지 구경만 했을 뿐이다.</td>\n",
              "      <td>음식이 어떻게 만들어지는지 구경만 했어요.</td>\n",
              "    </tr>\n",
              "    <tr>\n",
              "      <th>3</th>\n",
              "      <td>고기를 굽거나 야채 손질을 조금 도와주는 정도였다.</td>\n",
              "      <td>고기를 굽거나 야채를 손질하는 데 조금 도움이 되기에 충분했습니다.</td>\n",
              "    </tr>\n",
              "    <tr>\n",
              "      <th>4</th>\n",
              "      <td>전통시장인 '질료니 바자르'로 가기로 마음을 먹었다.</td>\n",
              "      <td>재래시장 '질리오니 바자'에 가기로 했어요.</td>\n",
              "    </tr>\n",
              "  </tbody>\n",
              "</table>\n",
              "</div>"
            ],
            "text/plain": [
              "                        original                             translated\n",
              "0       \"물론, 나는 당시에 음식을 전혀 못했다.\"          \"당연히 그 당시에는 음식을 전혀 먹지 않았습니다.\"\n",
              "1      해먹은 음식은 모두 그 친구의 손을 거쳐갔다.              해먹의 모든 음식은 친구의 손을 통과했습니다.\n",
              "2       어떻게 음식을 만드는지 구경만 했을 뿐이다.                음식이 어떻게 만들어지는지 구경만 했어요.\n",
              "3   고기를 굽거나 야채 손질을 조금 도와주는 정도였다.  고기를 굽거나 야채를 손질하는 데 조금 도움이 되기에 충분했습니다.\n",
              "4  전통시장인 '질료니 바자르'로 가기로 마음을 먹었다.               재래시장 '질리오니 바자'에 가기로 했어요."
            ]
          },
          "metadata": {},
          "execution_count": 71
        }
      ]
    },
    {
      "cell_type": "code",
      "metadata": {
        "colab": {
          "base_uri": "https://localhost:8080/",
          "height": 202
        },
        "id": "AxD3q2AaqNjp",
        "outputId": "613d60b3-d36e-4903-e606-78bb4989c86e"
      },
      "source": [
        "test.head()"
      ],
      "execution_count": null,
      "outputs": [
        {
          "output_type": "execute_result",
          "data": {
            "text/html": [
              "<div>\n",
              "<style scoped>\n",
              "    .dataframe tbody tr th:only-of-type {\n",
              "        vertical-align: middle;\n",
              "    }\n",
              "\n",
              "    .dataframe tbody tr th {\n",
              "        vertical-align: top;\n",
              "    }\n",
              "\n",
              "    .dataframe thead th {\n",
              "        text-align: right;\n",
              "    }\n",
              "</style>\n",
              "<table border=\"1\" class=\"dataframe\">\n",
              "  <thead>\n",
              "    <tr style=\"text-align: right;\">\n",
              "      <th></th>\n",
              "      <th>original</th>\n",
              "    </tr>\n",
              "  </thead>\n",
              "  <tbody>\n",
              "    <tr>\n",
              "      <th>53022</th>\n",
              "      <td>프랑스에서 로마로 넘어가기 전 스위스에서3일간머물기로 했어요.</td>\n",
              "    </tr>\n",
              "    <tr>\n",
              "      <th>53023</th>\n",
              "      <td>3일을 각각 다른 도시에서 머물렀어요.</td>\n",
              "    </tr>\n",
              "    <tr>\n",
              "      <th>53024</th>\n",
              "      <td>밤에 도착해서 다음날 낮에 떠나는 식으로 정말 바빴습니다.</td>\n",
              "    </tr>\n",
              "    <tr>\n",
              "      <th>53025</th>\n",
              "      <td>지금 생각하면 여행이라기보다 미션 수행이었네요.</td>\n",
              "    </tr>\n",
              "    <tr>\n",
              "      <th>53026</th>\n",
              "      <td>그래도 아직 그 모든 날들을 기억합니다.</td>\n",
              "    </tr>\n",
              "  </tbody>\n",
              "</table>\n",
              "</div>"
            ],
            "text/plain": [
              "                                 original\n",
              "53022  프랑스에서 로마로 넘어가기 전 스위스에서3일간머물기로 했어요.\n",
              "53023               3일을 각각 다른 도시에서 머물렀어요.\n",
              "53024    밤에 도착해서 다음날 낮에 떠나는 식으로 정말 바빴습니다.\n",
              "53025          지금 생각하면 여행이라기보다 미션 수행이었네요.\n",
              "53026              그래도 아직 그 모든 날들을 기억합니다."
            ]
          },
          "metadata": {},
          "execution_count": 72
        }
      ]
    },
    {
      "cell_type": "code",
      "metadata": {
        "colab": {
          "base_uri": "https://localhost:8080/",
          "height": 202
        },
        "id": "MOMROEqvqPzB",
        "outputId": "2f318834-fe0a-417a-f68c-3015074cfb01"
      },
      "source": [
        "val.head()"
      ],
      "execution_count": null,
      "outputs": [
        {
          "output_type": "execute_result",
          "data": {
            "text/html": [
              "<div>\n",
              "<style scoped>\n",
              "    .dataframe tbody tr th:only-of-type {\n",
              "        vertical-align: middle;\n",
              "    }\n",
              "\n",
              "    .dataframe tbody tr th {\n",
              "        vertical-align: top;\n",
              "    }\n",
              "\n",
              "    .dataframe thead th {\n",
              "        text-align: right;\n",
              "    }\n",
              "</style>\n",
              "<table border=\"1\" class=\"dataframe\">\n",
              "  <thead>\n",
              "    <tr style=\"text-align: right;\">\n",
              "      <th></th>\n",
              "      <th>original</th>\n",
              "    </tr>\n",
              "  </thead>\n",
              "  <tbody>\n",
              "    <tr>\n",
              "      <th>71022</th>\n",
              "      <td>그들은 왜 그렇게 만날 궤변을 늘어놓고 피 터지게 싸워대는가.</td>\n",
              "    </tr>\n",
              "    <tr>\n",
              "      <th>71023</th>\n",
              "      <td>\"그분들이 좀 교양 있게 싸워주길 바라지만 이게 우리나라 수준이라면 뭐, 안타까울 ...</td>\n",
              "    </tr>\n",
              "    <tr>\n",
              "      <th>71024</th>\n",
              "      <td>\"우리는 특별한 경우가 아니고서야,나와 노선이 다른 상대방을 무조건 배척하며 살진않...</td>\n",
              "    </tr>\n",
              "    <tr>\n",
              "      <th>71025</th>\n",
              "      <td>\"인간성과 사상은 다른 것이므로, 편한 사이이긴 해도 의견은 다를 수 있는 것이다.\"</td>\n",
              "    </tr>\n",
              "    <tr>\n",
              "      <th>71026</th>\n",
              "      <td>젊은이들이 정치에 무심하지 않다는 것 자체에 의의를 둬야 할까.</td>\n",
              "    </tr>\n",
              "  </tbody>\n",
              "</table>\n",
              "</div>"
            ],
            "text/plain": [
              "                                                original\n",
              "71022                 그들은 왜 그렇게 만날 궤변을 늘어놓고 피 터지게 싸워대는가.\n",
              "71023  \"그분들이 좀 교양 있게 싸워주길 바라지만 이게 우리나라 수준이라면 뭐, 안타까울 ...\n",
              "71024  \"우리는 특별한 경우가 아니고서야,나와 노선이 다른 상대방을 무조건 배척하며 살진않...\n",
              "71025    \"인간성과 사상은 다른 것이므로, 편한 사이이긴 해도 의견은 다를 수 있는 것이다.\"\n",
              "71026                젊은이들이 정치에 무심하지 않다는 것 자체에 의의를 둬야 할까."
            ]
          },
          "metadata": {},
          "execution_count": 73
        }
      ]
    },
    {
      "cell_type": "code",
      "metadata": {
        "id": "jdztQ1JTH0ll"
      },
      "source": [
        ""
      ],
      "execution_count": null,
      "outputs": []
    },
    {
      "cell_type": "code",
      "metadata": {
        "id": "Y4oZe7f-HTC6"
      },
      "source": [
        "train.to_csv('branch_train.csv',index=None)\n",
        "test.to_csv('branch_test.csv',index=None)\n",
        "val.to_csv('branch_val.csv',index=None)"
      ],
      "execution_count": null,
      "outputs": []
    },
    {
      "cell_type": "code",
      "metadata": {
        "id": "TGcP4DDSH7To"
      },
      "source": [
        "data = pd.read_csv('branch_train.csv')"
      ],
      "execution_count": null,
      "outputs": []
    },
    {
      "cell_type": "code",
      "metadata": {
        "colab": {
          "base_uri": "https://localhost:8080/",
          "height": 432
        },
        "id": "7_ZQQe9LIAmB",
        "outputId": "96949d16-f354-4ce3-9fab-f309475d83cb"
      },
      "source": [
        "data"
      ],
      "execution_count": null,
      "outputs": [
        {
          "output_type": "execute_result",
          "data": {
            "text/html": [
              "<div>\n",
              "<style scoped>\n",
              "    .dataframe tbody tr th:only-of-type {\n",
              "        vertical-align: middle;\n",
              "    }\n",
              "\n",
              "    .dataframe tbody tr th {\n",
              "        vertical-align: top;\n",
              "    }\n",
              "\n",
              "    .dataframe thead th {\n",
              "        text-align: right;\n",
              "    }\n",
              "</style>\n",
              "<table border=\"1\" class=\"dataframe\">\n",
              "  <thead>\n",
              "    <tr style=\"text-align: right;\">\n",
              "      <th></th>\n",
              "      <th>original</th>\n",
              "      <th>translated</th>\n",
              "    </tr>\n",
              "  </thead>\n",
              "  <tbody>\n",
              "    <tr>\n",
              "      <th>0</th>\n",
              "      <td>\"물론, 나는 당시에 음식을 전혀 못했다.\"</td>\n",
              "      <td>\"당연히 그 당시에는 음식을 전혀 먹지 않았습니다.\"</td>\n",
              "    </tr>\n",
              "    <tr>\n",
              "      <th>1</th>\n",
              "      <td>해먹은 음식은 모두 그 친구의 손을 거쳐갔다.</td>\n",
              "      <td>해먹의 모든 음식은 친구의 손을 통과했습니다.</td>\n",
              "    </tr>\n",
              "    <tr>\n",
              "      <th>2</th>\n",
              "      <td>어떻게 음식을 만드는지 구경만 했을 뿐이다.</td>\n",
              "      <td>음식이 어떻게 만들어지는지 구경만 했어요.</td>\n",
              "    </tr>\n",
              "    <tr>\n",
              "      <th>3</th>\n",
              "      <td>고기를 굽거나 야채 손질을 조금 도와주는 정도였다.</td>\n",
              "      <td>고기를 굽거나 야채를 손질하는 데 조금 도움이 되기에 충분했습니다.</td>\n",
              "    </tr>\n",
              "    <tr>\n",
              "      <th>4</th>\n",
              "      <td>전통시장인 '질료니 바자르'로 가기로 마음을 먹었다.</td>\n",
              "      <td>재래시장 '질리오니 바자'에 가기로 했어요.</td>\n",
              "    </tr>\n",
              "    <tr>\n",
              "      <th>...</th>\n",
              "      <td>...</td>\n",
              "      <td>...</td>\n",
              "    </tr>\n",
              "    <tr>\n",
              "      <th>53017</th>\n",
              "      <td>일과 후엔 새벽까지 여행 계획을 짜며 기분을 달랬죠.</td>\n",
              "      <td>퇴근 후 새벽까지 여행을 계획하며 마음을 진정시켰다.</td>\n",
              "    </tr>\n",
              "    <tr>\n",
              "      <th>53018</th>\n",
              "      <td>평생 이렇게 긴 여행 기회가 또 없을 것 같고,</td>\n",
              "      <td>내 인생에서 이렇게 긴 여행을 할 기회는 없을 것 같다.</td>\n",
              "    </tr>\n",
              "    <tr>\n",
              "      <th>53019</th>\n",
              "      <td>이왕 큰돈 쓰게 된 김에 본전의 몇 배는 안고 돌아가야 한다는 생각에,</td>\n",
              "      <td>이제 많은 돈을 써야 하니까 본당의 몇 배나 되는 규모로 돌아가야 한다는 생각이 들었다.</td>\n",
              "    </tr>\n",
              "    <tr>\n",
              "      <th>53020</th>\n",
              "      <td>유럽에 있다는 자체가 그냥 다 좋았습니다.</td>\n",
              "      <td>유럽에 있는 것만으로도 좋았다.</td>\n",
              "    </tr>\n",
              "    <tr>\n",
              "      <th>53021</th>\n",
              "      <td>이탈리아에서 대학생 봉사캠프 참여하는 일정이었는데,</td>\n",
              "      <td>이탈리아 대학생 자원봉사 캠프에 참가하기 위한 일정이었습니다.</td>\n",
              "    </tr>\n",
              "  </tbody>\n",
              "</table>\n",
              "<p>53022 rows × 2 columns</p>\n",
              "</div>"
            ],
            "text/plain": [
              "                                      original                                         translated\n",
              "0                     \"물론, 나는 당시에 음식을 전혀 못했다.\"                      \"당연히 그 당시에는 음식을 전혀 먹지 않았습니다.\"\n",
              "1                    해먹은 음식은 모두 그 친구의 손을 거쳐갔다.                          해먹의 모든 음식은 친구의 손을 통과했습니다.\n",
              "2                     어떻게 음식을 만드는지 구경만 했을 뿐이다.                            음식이 어떻게 만들어지는지 구경만 했어요.\n",
              "3                 고기를 굽거나 야채 손질을 조금 도와주는 정도였다.              고기를 굽거나 야채를 손질하는 데 조금 도움이 되기에 충분했습니다.\n",
              "4                전통시장인 '질료니 바자르'로 가기로 마음을 먹었다.                           재래시장 '질리오니 바자'에 가기로 했어요.\n",
              "...                                        ...                                                ...\n",
              "53017            일과 후엔 새벽까지 여행 계획을 짜며 기분을 달랬죠.                      퇴근 후 새벽까지 여행을 계획하며 마음을 진정시켰다.\n",
              "53018               평생 이렇게 긴 여행 기회가 또 없을 것 같고,                    내 인생에서 이렇게 긴 여행을 할 기회는 없을 것 같다.\n",
              "53019  이왕 큰돈 쓰게 된 김에 본전의 몇 배는 안고 돌아가야 한다는 생각에,  이제 많은 돈을 써야 하니까 본당의 몇 배나 되는 규모로 돌아가야 한다는 생각이 들었다.\n",
              "53020                  유럽에 있다는 자체가 그냥 다 좋았습니다.                                  유럽에 있는 것만으로도 좋았다.\n",
              "53021             이탈리아에서 대학생 봉사캠프 참여하는 일정이었는데,                 이탈리아 대학생 자원봉사 캠프에 참가하기 위한 일정이었습니다.\n",
              "\n",
              "[53022 rows x 2 columns]"
            ]
          },
          "metadata": {},
          "execution_count": 62
        }
      ]
    }
  ]
}