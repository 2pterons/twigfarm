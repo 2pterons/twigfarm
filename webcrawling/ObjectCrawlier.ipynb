{
  "nbformat": 4,
  "nbformat_minor": 0,
  "metadata": {
    "colab": {
      "name": "ObjectCrawlier.ipynb",
      "provenance": [],
      "collapsed_sections": [],
      "authorship_tag": "ABX9TyMGlgW+HOhBZDix0H663k7I",
      "include_colab_link": true
    },
    "kernelspec": {
      "name": "python3",
      "display_name": "Python 3"
    },
    "language_info": {
      "name": "python"
    }
  },
  "cells": [
    {
      "cell_type": "markdown",
      "metadata": {
        "id": "view-in-github",
        "colab_type": "text"
      },
      "source": [
        "<a href=\"https://colab.research.google.com/github/2pterons/twigfarm/blob/main/webcrawling/ObjectCrawlier.ipynb\" target=\"_parent\"><img src=\"https://colab.research.google.com/assets/colab-badge.svg\" alt=\"Open In Colab\"/></a>"
      ]
    },
    {
      "cell_type": "code",
      "metadata": {
        "colab": {
          "base_uri": "https://localhost:8080/"
        },
        "id": "JtG86_g9rsqo",
        "outputId": "2a2a8f55-2ce0-40d0-b163-c90e68ae863b"
      },
      "source": [
        "### https://brunch.co.kr/ - Crawling\n",
        "\n",
        "### Library import\n",
        "import re\n",
        "import json\n",
        "import requests\n",
        "import urllib\n",
        "from bs4 import BeautifulSoup\n",
        "%pip install tqdm\n",
        "from tqdm import tqdm\n",
        "import time\n",
        "import random\n",
        "import pickle\n",
        "import nltk\n",
        "%pip install kss\n",
        "import kss\n",
        "import pandas as pd\n",
        "import numpy as np\n"
      ],
      "execution_count": 1,
      "outputs": [
        {
          "output_type": "stream",
          "name": "stdout",
          "text": [
            "Requirement already satisfied: tqdm in /usr/local/lib/python3.7/dist-packages (4.62.3)\n",
            "Collecting kss\n",
            "  Downloading kss-3.2.0.tar.gz (42.4 MB)\n",
            "\u001b[K     |████████████████████████████████| 42.4 MB 1.2 MB/s \n",
            "\u001b[?25hCollecting emoji\n",
            "  Downloading emoji-1.5.0.tar.gz (185 kB)\n",
            "\u001b[K     |████████████████████████████████| 185 kB 69.3 MB/s \n",
            "\u001b[?25hBuilding wheels for collected packages: kss, emoji\n",
            "  Building wheel for kss (setup.py) ... \u001b[?25l\u001b[?25hdone\n",
            "  Created wheel for kss: filename=kss-3.2.0-py3-none-any.whl size=42447995 sha256=fe50a7d4f6e7329481135f3b702f0d333380bdd7651ec8759756fed75761036c\n",
            "  Stored in directory: /root/.cache/pip/wheels/a1/47/9c/a5f83b5ab6096e3c4a33643fc553b26098c23e72b6539b86f4\n",
            "  Building wheel for emoji (setup.py) ... \u001b[?25l\u001b[?25hdone\n",
            "  Created wheel for emoji: filename=emoji-1.5.0-py3-none-any.whl size=187457 sha256=0c4849f6ad7fde084b2459b6d8a8663e7edf948ceda7fcc507f9331e2aa0fd37\n",
            "  Stored in directory: /root/.cache/pip/wheels/db/b5/f6/b39abf14e94b3d6640613bbe630a66c10ccf7a12882d064fb5\n",
            "Successfully built kss emoji\n",
            "Installing collected packages: emoji, kss\n",
            "Successfully installed emoji-1.5.0 kss-3.2.0\n"
          ]
        },
        {
          "output_type": "stream",
          "name": "stderr",
          "text": [
            "[Korean Sentence Splitter]: Initializing Kss...\n"
          ]
        }
      ]
    },
    {
      "cell_type": "code",
      "metadata": {
        "id": "vsCQJqpu_aH4"
      },
      "source": [
        "# 게시물 로드에 이용할 publishTime 변수\n",
        "str_time = \"1696768787365\""
      ],
      "execution_count": null,
      "outputs": []
    },
    {
      "cell_type": "code",
      "metadata": {
        "colab": {
          "base_uri": "https://localhost:8080/"
        },
        "id": "EXjYylbwGVBN",
        "outputId": "034fa38e-76d3-477a-9705-52fdc55e8e34"
      },
      "source": [
        "for i in tqdm(range(10)):\n",
        "    tqdm(time.sleep(0.1))\n",
        "    tqdm(i)\n",
        "    "
      ],
      "execution_count": null,
      "outputs": [
        {
          "output_type": "stream",
          "name": "stderr",
          "text": [
            "  0%|          | 0/10 [00:00<?, ?it/s]\n",
            "0it [00:00, ?it/s]\n",
            "\n",
            "0it [00:00, ?it/s]\n",
            " 10%|█         | 1/10 [00:00<00:01,  8.76it/s]\n",
            "0it [00:00, ?it/s]\n",
            "\n",
            "0it [00:00, ?it/s]\n",
            " 20%|██        | 2/10 [00:00<00:00,  9.00it/s]\n",
            "0it [00:00, ?it/s]\n",
            "\n",
            "0it [00:00, ?it/s]\n",
            " 30%|███       | 3/10 [00:00<00:00,  8.87it/s]\n",
            "0it [00:00, ?it/s]\n",
            "\n",
            "0it [00:00, ?it/s]\n",
            " 40%|████      | 4/10 [00:00<00:00,  8.80it/s]\n",
            "0it [00:00, ?it/s]\n",
            "\n",
            "0it [00:00, ?it/s]\n",
            " 50%|█████     | 5/10 [00:00<00:00,  8.68it/s]\n",
            "0it [00:00, ?it/s]\n",
            "\n",
            "0it [00:00, ?it/s]\n",
            " 60%|██████    | 6/10 [00:00<00:00,  8.73it/s]\n",
            "0it [00:00, ?it/s]\n",
            "\n",
            "0it [00:00, ?it/s]\n",
            " 70%|███████   | 7/10 [00:00<00:00,  8.66it/s]\n",
            "0it [00:00, ?it/s]\n",
            "\n",
            "0it [00:00, ?it/s]\n",
            " 80%|████████  | 8/10 [00:00<00:00,  8.34it/s]\n",
            "0it [00:00, ?it/s]\n",
            "\n",
            "0it [00:00, ?it/s]\n",
            " 90%|█████████ | 9/10 [00:01<00:00,  8.41it/s]\n",
            "0it [00:00, ?it/s]\n",
            "\n",
            "0it [00:00, ?it/s]\n",
            "100%|██████████| 10/10 [00:01<00:00,  8.56it/s]\n"
          ]
        }
      ]
    },
    {
      "cell_type": "code",
      "metadata": {
        "colab": {
          "base_uri": "https://localhost:8080/"
        },
        "id": "LhJZJlf2DUOC",
        "outputId": "92f9a26c-2800-4d75-fc31-3059d5131e0e"
      },
      "source": [
        "import time\n",
        "from tqdm import tqdm\n",
        "\n",
        "for i in tqdm(range(10)):\n",
        "    time.sleep(0.1)"
      ],
      "execution_count": null,
      "outputs": [
        {
          "output_type": "stream",
          "name": "stderr",
          "text": [
            "100%|██████████| 10/10 [00:01<00:00,  9.85it/s]\n"
          ]
        }
      ]
    },
    {
      "cell_type": "code",
      "metadata": {
        "id": "AvU8TThwryoC"
      },
      "source": [
        "class crawlier:\n",
        "  ### profileId crawler\n",
        "  '''\n",
        "      *content에 접근하기 위한 userID 추출\n",
        "      *publishTime으로 여러 게시물 로드\n",
        "      *한 페이지당 20개의 게시물(20개 이하의 아이디 추출 및 중복 아이디 제거)\n",
        "  '''\n",
        "  ### 브런치 카테고리 \"지구한바퀴 세계여행(/keyword/38)\"\n",
        "  # url & headers\n",
        "  profile_url = 'https://api.brunch.co.kr/v1/top/keyword/group/1?publishTime={}&pickContentId='\n",
        "  profile_headers = {'User-Agent': 'Mozilla/5.0 (Windows NT 10.0; Win64; x64) AppleWebKit/537.36 (KHTML, like Gecko) Chrome/93.0.4577.82 Safari/537.36'}\n",
        "\n",
        "  '''\n",
        "      1:우리집 반려동물, 2:글쓰기 코치, 9:직장인 현실조언\n",
        "      13:뮤직 인사이드\n",
        "      #32:영화리뷰, #33:IT/트랜드, 34:그림/웹툰, 39:사진/촬영, 35:스타트업 경험담, #38:지구한바퀴 세계여행\n",
        "      40:책, 42:멘탈관리/심리탐구, 43:디자인스토리, 44:사랑/이별, 45:건강/운동, 46:감성 에세이\n",
        "      50:요리/레시피, #52:인문학/철학, 56:멋진 캘리그래피, 59:육아이야기,\n",
        "      64:문화/예술, #67:시사/이슈 69:쉽게읽는 역사\n",
        "      77:건출/설계\n",
        "  '''\n",
        "  def __init__(self, keyword, st):\n",
        "      self.keyword = keyword\n",
        "      self.st = st\n",
        "\n",
        "\n",
        "\n",
        "  def researchUser(self):\n",
        "      profile_list = [] #profileId를 담을 변수\n",
        "      for i in tqdm(range(0, 2)): #1000번의 페이지 바꾸기\n",
        "          print(tqdm(i))\n",
        "          for j in range(0, 19): #페이지당 20명의 유저 아이디 추출(0~19)\n",
        "              profile_url = 'https://api.brunch.co.kr/v1/top/keyword/group/{}?publishTime={}&pickContentId='.format(self.keyword, self.st)\n",
        "              profile_headers = {'User-Agent': 'Mozilla/5.0 (Windows NT 10.0; Win64; x64) AppleWebKit/537.36 (KHTML, like Gecko) Chrome/93.0.4577.82 Safari/537.36'}\n",
        "              \n",
        "              variables = {\"publishTime\":self.st\n",
        "              }\n",
        "              profile_params = {\"variables\":json.dumps(variables)\n",
        "              }\n",
        "\n",
        "              try:\n",
        "                  #json file에 접근\n",
        "                  respones = requests.get(profile_url, params=profile_params, headers=profile_headers).json()\n",
        "                  #js = json.loads(rs.text)\n",
        "                  \n",
        "                  #중복값 제거를 위한 리스트\n",
        "                  delete = []\n",
        "                  for tm in range(0, 1):\n",
        "                      profileId = respones['data']['articleList'][tm]['article']['profileId']\n",
        "                      delete.append(profileId)\n",
        "                      print(str_time)\n",
        "                      for overlap in delete:\n",
        "                          if overlap not in profile_list:\n",
        "                              profile_list.append(overlap)\n",
        "                              print(\"아이디를 추출했습니다. →\", profile_list)\n",
        "                              \n",
        "                              #크롤러 위장 코드\n",
        "                              time.sleep(random.uniform(2,6))\n",
        "              except Exception as e:\n",
        "                  print(f\"\\\"{e}\\\"로 인해 다른 코드 실행\")\n",
        "                  respones = BeautifulSoup.select(profile_url, 'html.parser')\n",
        "\n",
        "\n",
        "          \n",
        "          int_time = int(self.st)\n",
        "          #int_time -= 9999999999\n",
        "          int_time -= 7468468768\n",
        "          self.st = str(int_time)\n",
        "          \n",
        "          print(str(i)+\"번째 페이지 유저 목록:\", profile_list)\n",
        "      \n",
        "      return profile_list\n",
        "\n",
        "\n",
        "\n",
        "  def crawlingBranch(self, researchUser):\n",
        "      print(profile_list)\n",
        "      cleaned_result = [] #전처리가 완료된 데이터를 담을 변수\n",
        "      for _q in profile_list: #앞에서 받아온 유저명을 가지고 게시물 접근\n",
        "          q = urllib.parse.quote(_q)\n",
        "          for g in range(1, 400): #해당 유저명에서 1부터 400까지의 게시물을 확인 및 크롤링\n",
        "              variables = {\"q\":q\n",
        "                          ,\"g\":g}\n",
        "              params = {\"variables\":variables}\n",
        "\n",
        "              url = \"https://brunch.co.kr/@{}/{}\".format(q,g)\n",
        "              headers={\n",
        "                  'User-Agent':'Mozilla/5.0 (Windows NT 10.0; Win64; x64) AppleWebKit/537.36 (KHTML, like Gecko) Chrome/93.0.4577.82 Safari/537.36'\n",
        "              }\n",
        "              \n",
        "              response = requests.get(url, params=params, headers=headers)\n",
        "\n",
        "              #status code 값이 200(정상)이면 해당 게시물을 크롤링\n",
        "              if response.status_code == 200:\n",
        "                  print(f\"{q}의 {g}번째 게시물에 접근\", \"=\", \"☆★☆★\",response.status_code,\"☆★☆★\")\n",
        "                  html = response.text\n",
        "                  bs = BeautifulSoup(html, 'html.parser')\n",
        "                  print(\"profileId : \",q,\",\", \"현재 페이지 :\",g)\n",
        "                  # 크롤러를 위장하는 코드\n",
        "                  time.sleep(random.uniform(2,6)) \n",
        "\n",
        "                  h4 = bs.select('h4')\n",
        "                  print(\"요소 태그에 접근합니다.\")    \n",
        "                  \n",
        "                  #해당 사이트는 데이터가 h4태그 또는 p태그에 존재하므로\n",
        "                  #데이터가 들어 있는 태그에 접근해 데이터를 추출\n",
        "                  result_h4 = []\n",
        "                  if len(h4) == 0: #h4 태그에 데이터가 없을 경우 p태그 추출 코드로 진행\n",
        "                      print(\"<p> 태그에 접근했습니다.\")\n",
        "\n",
        "                      #p태그 안의 데이터 추출\n",
        "                      p = bs.find_all('p')\n",
        "\n",
        "                      # 크롤러를 위장하는 코드\n",
        "                      time.sleep(random.uniform(2,6)) \n",
        "                      \n",
        "\n",
        "                      ### 데이터 전처리\n",
        "                      try:\n",
        "                          result = []\n",
        "                          for s in p:\n",
        "                              s = s.get_text().strip()\n",
        "                              if len(s) != 0:\n",
        "                                  result.append(s)\n",
        "                      \n",
        "                          cleaned_p = []\n",
        "                          for sent in result:\n",
        "                              for sent in kss.split_sentences(sent):\n",
        "                                  if sent not in cleaned_p:\n",
        "                                      cleaned_p.append(sent)\n",
        "                      \n",
        "                          for p_len in range(len(cleaned_p)):\n",
        "                              if len(cleaned_p[p_len]) > 20 and len(cleaned_p[p_len]) < 51:\n",
        "                                  result.append(cleaned_p[p_len])\n",
        "                                  print(f\"Insert {p_len}번\")\n",
        "                                  #데이터 저장\n",
        "                                  with open('/home/tf-dev-01/workspace_sol/style-transfer/crawling/src/result_1.txt', 'a') as f:\n",
        "                                      f.writelines(cleaned_p[p_len])\n",
        "                                      f.write('\\n')\n",
        "                                      f.close()\n",
        "                                  print(f\"Complete {p_len}번\", cleaned_p[p_len])\n",
        "\n",
        "                                      \n",
        "                      except Exception as e:\n",
        "                          print(e, \"발생!\")\n",
        "                          result = []\n",
        "                          for s in p:\n",
        "                              s = s.get_text().strip()\n",
        "                              if len(s) != 0:\n",
        "                                  result.append(s)\n",
        "\n",
        "                          result = str(result).strip().replace('. ', '.\\n')\n",
        "                          with open('/home/tf-dev-01/workspace_sol/style-transfer/crawling/data/error/error_1.txt', 'a') as f:\n",
        "                              f.writelines(result)\n",
        "                              f.write('\\n')\n",
        "                              f.close()\n",
        "                              print(e, \"발생으로 error.csv 저장완료\")\n",
        "\n",
        "                  #h4 태그에 데이터가 존재할 경우 아래 코드 실행\n",
        "                  else:  \n",
        "                      try:\n",
        "                          print(\"<h4> 태그에 접근했습니다.\")\n",
        "                          #h4 태그의 데이터 추출\n",
        "                          h4 = bs.select('h4')\n",
        "                          # 크롤러 위장\n",
        "                          time.sleep(random.uniform(2,6)) \n",
        "                          \n",
        "                          result = []\n",
        "                          for s in h4:\n",
        "                              s = s.get_text().strip()\n",
        "                              if len(s) != 0:\n",
        "                                  result.append(s)\n",
        "                          \n",
        "                          cleaned_h4 = []\n",
        "                          for sent in result:\n",
        "                              for sent in kss.split_sentences(sent):\n",
        "                                  if sent not in cleaned_h4:\n",
        "                                      cleaned_h4.append(sent)\n",
        "                          \n",
        "                          for h4_len in range(len(cleaned_h4)):\n",
        "                              if len(cleaned_h4[h4_len]) > 20 and len(cleaned_h4[h4_len]) < 51:\n",
        "                                  result.append(cleaned_h4[h4_len])\n",
        "                                  print(f\"Insert {h4_len}번\")\n",
        "                                  with open('/home/tf-dev-01/workspace_sol/style-transfer/crawling/src/result_1.txt', 'a') as f:\n",
        "                                      f.writelines(cleaned_h4[h4_len])\n",
        "                                      f.write('\\n')\n",
        "                                      f.close()\n",
        "                                  print(f\"Complete {h4_len}번\", cleaned_h4[h4_len])\n",
        "                          \n",
        "                      except Exception as e:\n",
        "                          print(e, \"발생!\")\n",
        "                          result = []\n",
        "                          for s in h4:\n",
        "                              s = s.get_text().strip()\n",
        "                              if len(s) != 0:\n",
        "                                  result.append(s)\n",
        "\n",
        "                          result = str(result).strip().replace('. ', '.\\n')\n",
        "                          with open('/home/tf-dev-01/workspace_sol/style-transfer/crawling/data/error/error_1.csv', 'a') as f:\n",
        "                              f.writelines(result)\n",
        "                              f.write('\\n')\n",
        "                              f.close()\n",
        "                              print(e, \"발생으로 error.csv 저장완료\")\n",
        "                  \n",
        "              # status code가 400(에러)일 경우 해당 아이디와 게시물 번호를 출력하고 continue\n",
        "              else : \n",
        "                  print(f\"{q}의 {g}번째 게시물에 접근\", \"=\", response.status_code)\n",
        "                  continue\n",
        "                                  \n",
        "      print(\"유저 목록:\",profile_list)\n",
        "      #print(\"{}번째 아이디 : {}의 {}번째 게시물을 출력을 완료했습니다.\").format(len(profile_list),profile_list[i],g)\n",
        "      user_num = len(profile_list)\n",
        "      print(i,\"번째 페이지\", user_num,\"번째 아이디 :\", profile_list[user_num],\"의\", g,\"번째 게시물을 출력을 완료했습니다.\")\n",
        "      print(i)\n",
        "      \n",
        "\n"
      ],
      "execution_count": 2,
      "outputs": []
    },
    {
      "cell_type": "code",
      "metadata": {
        "id": "PiSP7hXjQcRJ"
      },
      "source": [
        "st = \"1696768787365\"\n",
        "keyword = \"38\"\n",
        "\n",
        "cr = crawlier(st,keyword)"
      ],
      "execution_count": 3,
      "outputs": []
    },
    {
      "cell_type": "code",
      "metadata": {
        "colab": {
          "base_uri": "https://localhost:8080/",
          "height": 547
        },
        "id": "8l0UiqRYRRNp",
        "outputId": "76a5290a-61fe-4dd2-f134-431a2c8636c6"
      },
      "source": [
        "cr.researchUser()"
      ],
      "execution_count": 4,
      "outputs": [
        {
          "output_type": "stream",
          "name": "stderr",
          "text": [
            "  0%|          | 0/2 [00:00<?, ?it/s]\n",
            "0it [00:00, ?it/s]\n"
          ]
        },
        {
          "output_type": "stream",
          "name": "stdout",
          "text": [
            "0it [00:00, ?it/s]\n"
          ]
        },
        {
          "output_type": "stream",
          "name": "stderr",
          "text": [
            "\r  0%|          | 0/2 [00:00<?, ?it/s]"
          ]
        },
        {
          "output_type": "stream",
          "name": "stdout",
          "text": [
            "\"'NoneType' object is not subscriptable\"로 인해 다른 코드 실행\n"
          ]
        },
        {
          "output_type": "stream",
          "name": "stderr",
          "text": [
            "\n"
          ]
        },
        {
          "output_type": "error",
          "ename": "AttributeError",
          "evalue": "ignored",
          "traceback": [
            "\u001b[0;31m---------------------------------------------------------------------------\u001b[0m",
            "\u001b[0;31mTypeError\u001b[0m                                 Traceback (most recent call last)",
            "\u001b[0;32m<ipython-input-2-d424d8ff415e>\u001b[0m in \u001b[0;36mresearchUser\u001b[0;34m(self)\u001b[0m\n\u001b[1;32m     48\u001b[0m                   \u001b[0;32mfor\u001b[0m \u001b[0mtm\u001b[0m \u001b[0;32min\u001b[0m \u001b[0mrange\u001b[0m\u001b[0;34m(\u001b[0m\u001b[0;36m0\u001b[0m\u001b[0;34m,\u001b[0m \u001b[0;36m1\u001b[0m\u001b[0;34m)\u001b[0m\u001b[0;34m:\u001b[0m\u001b[0;34m\u001b[0m\u001b[0;34m\u001b[0m\u001b[0m\n\u001b[0;32m---> 49\u001b[0;31m                       \u001b[0mprofileId\u001b[0m \u001b[0;34m=\u001b[0m \u001b[0mrespones\u001b[0m\u001b[0;34m[\u001b[0m\u001b[0;34m'data'\u001b[0m\u001b[0;34m]\u001b[0m\u001b[0;34m[\u001b[0m\u001b[0;34m'articleList'\u001b[0m\u001b[0;34m]\u001b[0m\u001b[0;34m[\u001b[0m\u001b[0mtm\u001b[0m\u001b[0;34m]\u001b[0m\u001b[0;34m[\u001b[0m\u001b[0;34m'article'\u001b[0m\u001b[0;34m]\u001b[0m\u001b[0;34m[\u001b[0m\u001b[0;34m'profileId'\u001b[0m\u001b[0;34m]\u001b[0m\u001b[0;34m\u001b[0m\u001b[0;34m\u001b[0m\u001b[0m\n\u001b[0m\u001b[1;32m     50\u001b[0m                       \u001b[0mdelete\u001b[0m\u001b[0;34m.\u001b[0m\u001b[0mappend\u001b[0m\u001b[0;34m(\u001b[0m\u001b[0mprofileId\u001b[0m\u001b[0;34m)\u001b[0m\u001b[0;34m\u001b[0m\u001b[0;34m\u001b[0m\u001b[0m\n",
            "\u001b[0;31mTypeError\u001b[0m: 'NoneType' object is not subscriptable",
            "\nDuring handling of the above exception, another exception occurred:\n",
            "\u001b[0;31mAttributeError\u001b[0m                            Traceback (most recent call last)",
            "\u001b[0;32m<ipython-input-4-b43efe4a0a74>\u001b[0m in \u001b[0;36m<module>\u001b[0;34m()\u001b[0m\n\u001b[0;32m----> 1\u001b[0;31m \u001b[0mcr\u001b[0m\u001b[0;34m.\u001b[0m\u001b[0mresearchUser\u001b[0m\u001b[0;34m(\u001b[0m\u001b[0;34m)\u001b[0m\u001b[0;34m\u001b[0m\u001b[0;34m\u001b[0m\u001b[0m\n\u001b[0m",
            "\u001b[0;32m<ipython-input-2-d424d8ff415e>\u001b[0m in \u001b[0;36mresearchUser\u001b[0;34m(self)\u001b[0m\n\u001b[1;32m     59\u001b[0m               \u001b[0;32mexcept\u001b[0m \u001b[0mException\u001b[0m \u001b[0;32mas\u001b[0m \u001b[0me\u001b[0m\u001b[0;34m:\u001b[0m\u001b[0;34m\u001b[0m\u001b[0;34m\u001b[0m\u001b[0m\n\u001b[1;32m     60\u001b[0m                   \u001b[0mprint\u001b[0m\u001b[0;34m(\u001b[0m\u001b[0;34mf\"\\\"{e}\\\"로 인해 다른 코드 실행\"\u001b[0m\u001b[0;34m)\u001b[0m\u001b[0;34m\u001b[0m\u001b[0;34m\u001b[0m\u001b[0m\n\u001b[0;32m---> 61\u001b[0;31m                   \u001b[0mrespones\u001b[0m \u001b[0;34m=\u001b[0m \u001b[0mBeautifulSoup\u001b[0m\u001b[0;34m.\u001b[0m\u001b[0mselect\u001b[0m\u001b[0;34m(\u001b[0m\u001b[0mprofile_url\u001b[0m\u001b[0;34m,\u001b[0m \u001b[0;34m'html.parser'\u001b[0m\u001b[0;34m)\u001b[0m\u001b[0;34m\u001b[0m\u001b[0;34m\u001b[0m\u001b[0m\n\u001b[0m\u001b[1;32m     62\u001b[0m \u001b[0;34m\u001b[0m\u001b[0m\n\u001b[1;32m     63\u001b[0m \u001b[0;34m\u001b[0m\u001b[0m\n",
            "\u001b[0;32m/usr/local/lib/python3.7/dist-packages/bs4/element.py\u001b[0m in \u001b[0;36mselect\u001b[0;34m(self, selector, _candidate_generator, limit)\u001b[0m\n\u001b[1;32m   1441\u001b[0m         \u001b[0mcurrent_context\u001b[0m \u001b[0;34m=\u001b[0m \u001b[0;34m[\u001b[0m\u001b[0mself\u001b[0m\u001b[0;34m]\u001b[0m\u001b[0;34m\u001b[0m\u001b[0;34m\u001b[0m\u001b[0m\n\u001b[1;32m   1442\u001b[0m \u001b[0;34m\u001b[0m\u001b[0m\n\u001b[0;32m-> 1443\u001b[0;31m         \u001b[0;32mif\u001b[0m \u001b[0mtokens\u001b[0m\u001b[0;34m[\u001b[0m\u001b[0;34m-\u001b[0m\u001b[0;36m1\u001b[0m\u001b[0;34m]\u001b[0m \u001b[0;32min\u001b[0m \u001b[0mself\u001b[0m\u001b[0;34m.\u001b[0m\u001b[0m_selector_combinators\u001b[0m\u001b[0;34m:\u001b[0m\u001b[0;34m\u001b[0m\u001b[0;34m\u001b[0m\u001b[0m\n\u001b[0m\u001b[1;32m   1444\u001b[0m             raise ValueError(\n\u001b[1;32m   1445\u001b[0m                 'Final combinator \"%s\" is missing an argument.' % tokens[-1])\n",
            "\u001b[0;31mAttributeError\u001b[0m: 'str' object has no attribute '_selector_combinators'"
          ]
        }
      ]
    },
    {
      "cell_type": "code",
      "metadata": {
        "id": "LAH4TmpvRrcU"
      },
      "source": [
        ""
      ],
      "execution_count": null,
      "outputs": []
    }
  ]
}