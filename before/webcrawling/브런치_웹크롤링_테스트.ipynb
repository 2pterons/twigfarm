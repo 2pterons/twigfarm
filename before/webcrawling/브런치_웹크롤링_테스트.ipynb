{
  "nbformat": 4,
  "nbformat_minor": 0,
  "metadata": {
    "colab": {
      "name": "브런치 웹크롤링 테스트.ipynb",
      "provenance": [],
      "collapsed_sections": [],
      "authorship_tag": "ABX9TyMLdO4WAhlCinUcVstlvaZV",
      "include_colab_link": true
    },
    "kernelspec": {
      "name": "python3",
      "display_name": "Python 3"
    },
    "language_info": {
      "name": "python"
    }
  },
  "cells": [
    {
      "cell_type": "markdown",
      "metadata": {
        "id": "view-in-github",
        "colab_type": "text"
      },
      "source": [
        "<a href=\"https://colab.research.google.com/github/2pterons/twigfarm/blob/main/webcrawling/%EB%B8%8C%EB%9F%B0%EC%B9%98_%EC%9B%B9%ED%81%AC%EB%A1%A4%EB%A7%81_%ED%85%8C%EC%8A%A4%ED%8A%B8.ipynb\" target=\"_parent\"><img src=\"https://colab.research.google.com/assets/colab-badge.svg\" alt=\"Open In Colab\"/></a>"
      ]
    },
    {
      "cell_type": "code",
      "metadata": {
        "id": "vlcscPVjkepR"
      },
      "source": [
        "from selenium import webdriver\n",
        "from selenium.webdriver.common.keys import Keys\n",
        "import time\n",
        "\n",
        "url = \"https://brunch.co.kr/\"\n",
        "driver = webdriver.Chrome(r\"C:\\Users\\mode\\Desktop\\just\\chromedriver_win32\\chromedriver.exe\")\n",
        "\n",
        "user = ''\n",
        "\n",
        "driver.get(url)\n",
        "\n",
        "time.sleep(2)\n",
        "\n",
        "hidden_submenu = driver.find_element_by_css_selector('#btnServiceMenuSearch')\n",
        "\n",
        "actions = webdriver.ActionChains(driver)\n",
        "actions.click(hidden_submenu)\n",
        "\n",
        "actions.perform()\n",
        "\n",
        "time.sleep(2)\n",
        "\n",
        "user_search = driver.find_element_by_id(\"txt_search\")\n",
        "\n",
        "user_search.clear()\n",
        "user_search.send_keys(user )\n",
        "\n",
        "user_search.send_keys(Keys.RETURN)\n",
        "\n",
        "time.sleep(2)\n",
        "\n",
        "hidden_submenu1 = driver.find_element_by_css_selector('#resultArticle li:nth-child(1)') # 반복문 돌려야 할곳\n",
        "\n",
        "actions = webdriver.ActionChains(driver)\n",
        "actions.click(hidden_submenu1)\n",
        "\n",
        "actions.perform()\n",
        "\n",
        "#driver.get()\n",
        "brunchs = driver.find_elements_by_tag_name(\"h4\")\n",
        "\n",
        "for brunch in brunchs:\n",
        "print (brunch.text)\n"
      ],
      "execution_count": null,
      "outputs": []
    }
  ]
}