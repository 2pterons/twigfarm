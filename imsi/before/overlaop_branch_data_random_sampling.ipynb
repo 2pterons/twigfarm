{
  "nbformat": 4,
  "nbformat_minor": 0,
  "metadata": {
    "accelerator": "GPU",
    "colab": {
      "name": "overlaop_branch_data_random_sampling.ipynb",
      "provenance": [],
      "collapsed_sections": [],
      "machine_shape": "hm",
      "mount_file_id": "1xUJvJr16VdhKaquGKHYU7VH8eJrAuXMV",
      "authorship_tag": "ABX9TyMRVpRvQNt9ynjKr9phw839",
      "include_colab_link": true
    },
    "kernelspec": {
      "display_name": "Python 3",
      "name": "python3"
    },
    "language_info": {
      "name": "python"
    }
  },
  "cells": [
    {
      "cell_type": "markdown",
      "metadata": {
        "id": "view-in-github",
        "colab_type": "text"
      },
      "source": [
        "<a href=\"https://colab.research.google.com/github/2pterons/twigfarm/blob/main/overlaop_branch_data_random_sampling.ipynb\" target=\"_parent\"><img src=\"https://colab.research.google.com/assets/colab-badge.svg\" alt=\"Open In Colab\"/></a>"
      ]
    },
    {
      "cell_type": "markdown",
      "metadata": {
        "id": "IwXIpTvvtBSB"
      },
      "source": [
        "# branch data randomsampling"
      ]
    },
    {
      "cell_type": "code",
      "metadata": {
        "colab": {
          "base_uri": "https://localhost:8080/"
        },
        "id": "-6q50Lp_q0Bm",
        "outputId": "7191ec42-99be-43ca-e246-9e0a0aabf371"
      },
      "source": [
        "import pandas as pd\n",
        "%cd /content/drive/MyDrive/Colab Notebooks/트위그팜/자연스러운 한국어/data/"
      ],
      "execution_count": null,
      "outputs": [
        {
          "output_type": "stream",
          "name": "stdout",
          "text": [
            "/content/drive/MyDrive/Colab Notebooks/트위그팜/자연스러운 한국어/data\n"
          ]
        }
      ]
    },
    {
      "cell_type": "code",
      "metadata": {
        "id": "gjoUJe-Hq0n9"
      },
      "source": [
        "_0 = pd.DataFrame()\n",
        "_1 = pd.DataFrame()\n",
        "\n",
        "_0 = pd.read_csv('raw_brunch_data.0.txt', sep='\\n')\n",
        "_0.columns = ['document']\n",
        "\n",
        "_1 = pd.read_csv('raw_branch_data.1.csv')\n",
        "_1.columns = ['document']"
      ],
      "execution_count": null,
      "outputs": []
    },
    {
      "cell_type": "code",
      "metadata": {
        "colab": {
          "base_uri": "https://localhost:8080/"
        },
        "id": "IhUrdqykm0jR",
        "outputId": "97290e6f-f7af-496b-da7d-c7da43194039"
      },
      "source": [
        "len(_0)"
      ],
      "execution_count": null,
      "outputs": [
        {
          "output_type": "execute_result",
          "data": {
            "text/plain": [
              "999897"
            ]
          },
          "metadata": {},
          "execution_count": 3
        }
      ]
    },
    {
      "cell_type": "code",
      "metadata": {
        "colab": {
          "base_uri": "https://localhost:8080/",
          "height": 205
        },
        "id": "IOji24HLr0dG",
        "outputId": "a922b5b3-e004-493e-ca05-d385e95fbb3b"
      },
      "source": [
        "_0.head()"
      ],
      "execution_count": null,
      "outputs": [
        {
          "data": {
            "text/html": [
              "<div>\n",
              "<style scoped>\n",
              "    .dataframe tbody tr th:only-of-type {\n",
              "        vertical-align: middle;\n",
              "    }\n",
              "\n",
              "    .dataframe tbody tr th {\n",
              "        vertical-align: top;\n",
              "    }\n",
              "\n",
              "    .dataframe thead th {\n",
              "        text-align: right;\n",
              "    }\n",
              "</style>\n",
              "<table border=\"1\" class=\"dataframe\">\n",
              "  <thead>\n",
              "    <tr style=\"text-align: right;\">\n",
              "      <th></th>\n",
              "      <th>document</th>\n",
              "    </tr>\n",
              "  </thead>\n",
              "  <tbody>\n",
              "    <tr>\n",
              "      <th>0</th>\n",
              "      <td>15년 전 결혼 혼수로 장만한 중저가 가전제품이다.</td>\n",
              "    </tr>\n",
              "    <tr>\n",
              "      <th>1</th>\n",
              "      <td>사람 나이로 치면 약 120살 정도가 되지 않을까 생각된다.</td>\n",
              "    </tr>\n",
              "    <tr>\n",
              "      <th>2</th>\n",
              "      <td>30대 초반에 혼수를 내손으로 모두 벌어서 손수 장만한 것들이라 더욱 애틋했던 것이다.</td>\n",
              "    </tr>\n",
              "    <tr>\n",
              "      <th>3</th>\n",
              "      <td>마흔 후반인 지금도 우리 집에는 내가 준비했던 혼수품이 여전히 남아 있다.</td>\n",
              "    </tr>\n",
              "    <tr>\n",
              "      <th>4</th>\n",
              "      <td>벌써 15년이나 된 것들이니, 처음처럼 마냥 산뜻하지는 않다.</td>\n",
              "    </tr>\n",
              "  </tbody>\n",
              "</table>\n",
              "</div>"
            ],
            "text/plain": [
              "                                           document\n",
              "0                      15년 전 결혼 혼수로 장만한 중저가 가전제품이다.\n",
              "1                 사람 나이로 치면 약 120살 정도가 되지 않을까 생각된다.\n",
              "2  30대 초반에 혼수를 내손으로 모두 벌어서 손수 장만한 것들이라 더욱 애틋했던 것이다.\n",
              "3         마흔 후반인 지금도 우리 집에는 내가 준비했던 혼수품이 여전히 남아 있다.\n",
              "4                벌써 15년이나 된 것들이니, 처음처럼 마냥 산뜻하지는 않다."
            ]
          },
          "execution_count": 9,
          "metadata": {},
          "output_type": "execute_result"
        }
      ]
    },
    {
      "cell_type": "code",
      "metadata": {
        "colab": {
          "base_uri": "https://localhost:8080/",
          "height": 202
        },
        "id": "5lwyaKoGr2je",
        "outputId": "f7602367-4032-4bc9-e39c-0932e3055fa5"
      },
      "source": [
        "_1.head()"
      ],
      "execution_count": null,
      "outputs": [
        {
          "data": {
            "text/html": [
              "<div>\n",
              "<style scoped>\n",
              "    .dataframe tbody tr th:only-of-type {\n",
              "        vertical-align: middle;\n",
              "    }\n",
              "\n",
              "    .dataframe tbody tr th {\n",
              "        vertical-align: top;\n",
              "    }\n",
              "\n",
              "    .dataframe thead th {\n",
              "        text-align: right;\n",
              "    }\n",
              "</style>\n",
              "<table border=\"1\" class=\"dataframe\">\n",
              "  <thead>\n",
              "    <tr style=\"text-align: right;\">\n",
              "      <th></th>\n",
              "      <th>document</th>\n",
              "    </tr>\n",
              "  </thead>\n",
              "  <tbody>\n",
              "    <tr>\n",
              "      <th>0</th>\n",
              "      <td>15년 전 결혼식을 위해 구입한 저가 가전입니다.</td>\n",
              "    </tr>\n",
              "    <tr>\n",
              "      <th>1</th>\n",
              "      <td>인간의 나이로 환산하면 대략 120세 정도라고 생각합니다.</td>\n",
              "    </tr>\n",
              "    <tr>\n",
              "      <th>2</th>\n",
              "      <td>30대 초반에는 혼수상태를 모두 내 손으로 얻었고, 내 손으로도 만들 수 있는 것들...</td>\n",
              "    </tr>\n",
              "    <tr>\n",
              "      <th>3</th>\n",
              "      <td>40대 후반인 지금도 내가 준비한 혼수상태가 집에 있다.</td>\n",
              "    </tr>\n",
              "    <tr>\n",
              "      <th>4</th>\n",
              "      <td>벌써 15년이 흘렀으니 처음만큼 신선하진 않다.</td>\n",
              "    </tr>\n",
              "  </tbody>\n",
              "</table>\n",
              "</div>"
            ],
            "text/plain": [
              "                                            document\n",
              "0                        15년 전 결혼식을 위해 구입한 저가 가전입니다.\n",
              "1                   인간의 나이로 환산하면 대략 120세 정도라고 생각합니다.\n",
              "2  30대 초반에는 혼수상태를 모두 내 손으로 얻었고, 내 손으로도 만들 수 있는 것들...\n",
              "3                    40대 후반인 지금도 내가 준비한 혼수상태가 집에 있다.\n",
              "4                         벌써 15년이 흘렀으니 처음만큼 신선하진 않다."
            ]
          },
          "execution_count": 19,
          "metadata": {},
          "output_type": "execute_result"
        }
      ]
    },
    {
      "cell_type": "code",
      "metadata": {
        "colab": {
          "base_uri": "https://localhost:8080/",
          "height": 202
        },
        "id": "bbM1Hol3s6Zw",
        "outputId": "fad72189-e83c-4967-9175-194375c63ecd"
      },
      "source": [
        "_1.head()"
      ],
      "execution_count": null,
      "outputs": [
        {
          "data": {
            "text/html": [
              "<div>\n",
              "<style scoped>\n",
              "    .dataframe tbody tr th:only-of-type {\n",
              "        vertical-align: middle;\n",
              "    }\n",
              "\n",
              "    .dataframe tbody tr th {\n",
              "        vertical-align: top;\n",
              "    }\n",
              "\n",
              "    .dataframe thead th {\n",
              "        text-align: right;\n",
              "    }\n",
              "</style>\n",
              "<table border=\"1\" class=\"dataframe\">\n",
              "  <thead>\n",
              "    <tr style=\"text-align: right;\">\n",
              "      <th></th>\n",
              "      <th>document</th>\n",
              "      <th>label</th>\n",
              "    </tr>\n",
              "  </thead>\n",
              "  <tbody>\n",
              "    <tr>\n",
              "      <th>0</th>\n",
              "      <td>15년 전 결혼식을 위해 구입한 저가 가전입니다.</td>\n",
              "      <td>1</td>\n",
              "    </tr>\n",
              "    <tr>\n",
              "      <th>1</th>\n",
              "      <td>인간의 나이로 환산하면 대략 120세 정도라고 생각합니다.</td>\n",
              "      <td>1</td>\n",
              "    </tr>\n",
              "    <tr>\n",
              "      <th>2</th>\n",
              "      <td>30대 초반에는 혼수상태를 모두 내 손으로 얻었고, 내 손으로도 만들 수 있는 것들...</td>\n",
              "      <td>1</td>\n",
              "    </tr>\n",
              "    <tr>\n",
              "      <th>3</th>\n",
              "      <td>40대 후반인 지금도 내가 준비한 혼수상태가 집에 있다.</td>\n",
              "      <td>1</td>\n",
              "    </tr>\n",
              "    <tr>\n",
              "      <th>4</th>\n",
              "      <td>벌써 15년이 흘렀으니 처음만큼 신선하진 않다.</td>\n",
              "      <td>1</td>\n",
              "    </tr>\n",
              "  </tbody>\n",
              "</table>\n",
              "</div>"
            ],
            "text/plain": [
              "                                            document  label\n",
              "0                        15년 전 결혼식을 위해 구입한 저가 가전입니다.      1\n",
              "1                   인간의 나이로 환산하면 대략 120세 정도라고 생각합니다.      1\n",
              "2  30대 초반에는 혼수상태를 모두 내 손으로 얻었고, 내 손으로도 만들 수 있는 것들...      1\n",
              "3                    40대 후반인 지금도 내가 준비한 혼수상태가 집에 있다.      1\n",
              "4                         벌써 15년이 흘렀으니 처음만큼 신선하진 않다.      1"
            ]
          },
          "execution_count": 22,
          "metadata": {},
          "output_type": "execute_result"
        }
      ]
    },
    {
      "cell_type": "code",
      "metadata": {
        "id": "cu5PxKxnsy4H"
      },
      "source": [
        "_0['label'] = 0\n",
        "_1['label'] = 1"
      ],
      "execution_count": null,
      "outputs": []
    },
    {
      "cell_type": "code",
      "metadata": {
        "colab": {
          "base_uri": "https://localhost:8080/"
        },
        "id": "pG6olNh6vyKJ",
        "outputId": "e59b0328-395d-4332-f6cb-a05e5c5e45ff"
      },
      "source": [
        "len(_0), len(_1)"
      ],
      "execution_count": null,
      "outputs": [
        {
          "data": {
            "text/plain": [
              "(999897, 998355)"
            ]
          },
          "execution_count": 24,
          "metadata": {},
          "output_type": "execute_result"
        }
      ]
    },
    {
      "cell_type": "code",
      "metadata": {
        "id": "VS0iRSIYs8UR"
      },
      "source": [
        "_0.to_csv('test_0_labeling.csv')\n",
        "_1.to_csv('test_1_labeling.csv')"
      ],
      "execution_count": null,
      "outputs": []
    },
    {
      "cell_type": "markdown",
      "metadata": {
        "id": "40mo6lW6Apjn"
      },
      "source": [
        "<br/><br/>\n",
        "\n",
        "### 중복값 제거"
      ]
    },
    {
      "cell_type": "code",
      "metadata": {
        "id": "-AbwsZwt2S5R"
      },
      "source": [
        "dupl = _0\n",
        "#dupl.drop_duplicates(['document'])\n",
        "#dupl.drop_duplicates(subset=None, keep='first', inplace=False, ignore_index=False)\n",
        "#첫번째만 남기고 중복 제거\n",
        "dupl.drop_duplicates(['document'], keep='first', ignore_index=True, inplace=True)\n",
        "#마지막만 남기기 dupl.drop_duplicates(['document'], keep='last')\n",
        "#중복되는 값 모두 제거 dupl.drop_duplicates(['document'], keep=False)"
      ],
      "execution_count": null,
      "outputs": []
    },
    {
      "cell_type": "code",
      "metadata": {
        "colab": {
          "base_uri": "https://localhost:8080/"
        },
        "id": "RO1QVW6o9PVQ",
        "outputId": "27d21989-6fa5-46da-f087-96e4943b4396"
      },
      "source": [
        "len(dupl)"
      ],
      "execution_count": null,
      "outputs": [
        {
          "output_type": "execute_result",
          "data": {
            "text/plain": [
              "48596"
            ]
          },
          "metadata": {},
          "execution_count": 12
        }
      ]
    },
    {
      "cell_type": "code",
      "metadata": {
        "colab": {
          "base_uri": "https://localhost:8080/",
          "height": 422
        },
        "id": "l4SNY0eq9XAi",
        "outputId": "c999188b-29c6-4271-db22-f68c26cb52d1"
      },
      "source": [
        "dupl"
      ],
      "execution_count": null,
      "outputs": [
        {
          "output_type": "execute_result",
          "data": {
            "text/html": [
              "<div>\n",
              "<style scoped>\n",
              "    .dataframe tbody tr th:only-of-type {\n",
              "        vertical-align: middle;\n",
              "    }\n",
              "\n",
              "    .dataframe tbody tr th {\n",
              "        vertical-align: top;\n",
              "    }\n",
              "\n",
              "    .dataframe thead th {\n",
              "        text-align: right;\n",
              "    }\n",
              "</style>\n",
              "<table border=\"1\" class=\"dataframe\">\n",
              "  <thead>\n",
              "    <tr style=\"text-align: right;\">\n",
              "      <th></th>\n",
              "      <th>document</th>\n",
              "    </tr>\n",
              "  </thead>\n",
              "  <tbody>\n",
              "    <tr>\n",
              "      <th>0</th>\n",
              "      <td>15년 전 결혼 혼수로 장만한 중저가 가전제품이다.</td>\n",
              "    </tr>\n",
              "    <tr>\n",
              "      <th>1</th>\n",
              "      <td>사람 나이로 치면 약 120살 정도가 되지 않을까 생각된다.</td>\n",
              "    </tr>\n",
              "    <tr>\n",
              "      <th>2</th>\n",
              "      <td>30대 초반에 혼수를 내손으로 모두 벌어서 손수 장만한 것들이라 더욱 애틋했던 것이다.</td>\n",
              "    </tr>\n",
              "    <tr>\n",
              "      <th>3</th>\n",
              "      <td>마흔 후반인 지금도 우리 집에는 내가 준비했던 혼수품이 여전히 남아 있다.</td>\n",
              "    </tr>\n",
              "    <tr>\n",
              "      <th>4</th>\n",
              "      <td>벌써 15년이나 된 것들이니, 처음처럼 마냥 산뜻하지는 않다.</td>\n",
              "    </tr>\n",
              "    <tr>\n",
              "      <th>...</th>\n",
              "      <td>...</td>\n",
              "    </tr>\n",
              "    <tr>\n",
              "      <th>48591</th>\n",
              "      <td>글 쓰는데 자신이 있다고 생각했는데 그게 아니었다.</td>\n",
              "    </tr>\n",
              "    <tr>\n",
              "      <th>48592</th>\n",
              "      <td>글을 쓰고싶은데 쓸 글이 없다는 건 정말 어려운 문제가 아닐까?</td>\n",
              "    </tr>\n",
              "    <tr>\n",
              "      <th>48593</th>\n",
              "      <td>내 안에 있는 글감과 외부세계의 글감을 끊임없이 떠올리고 생각하면서 글을 쓸 준비를...</td>\n",
              "    </tr>\n",
              "    <tr>\n",
              "      <th>48594</th>\n",
              "      <td>조합하고 짜맞추면서 어떻게든 누더기 같은 글감을 끌어낸다.</td>\n",
              "    </tr>\n",
              "    <tr>\n",
              "      <th>48595</th>\n",
              "      <td>그렇게 낚아올린 영감을 백지 위에 펼친다는 건 꽤나 재미있다.</td>\n",
              "    </tr>\n",
              "  </tbody>\n",
              "</table>\n",
              "<p>48596 rows × 1 columns</p>\n",
              "</div>"
            ],
            "text/plain": [
              "                                                document\n",
              "0                           15년 전 결혼 혼수로 장만한 중저가 가전제품이다.\n",
              "1                      사람 나이로 치면 약 120살 정도가 되지 않을까 생각된다.\n",
              "2       30대 초반에 혼수를 내손으로 모두 벌어서 손수 장만한 것들이라 더욱 애틋했던 것이다.\n",
              "3              마흔 후반인 지금도 우리 집에는 내가 준비했던 혼수품이 여전히 남아 있다.\n",
              "4                     벌써 15년이나 된 것들이니, 처음처럼 마냥 산뜻하지는 않다.\n",
              "...                                                  ...\n",
              "48591                       글 쓰는데 자신이 있다고 생각했는데 그게 아니었다.\n",
              "48592                글을 쓰고싶은데 쓸 글이 없다는 건 정말 어려운 문제가 아닐까?\n",
              "48593  내 안에 있는 글감과 외부세계의 글감을 끊임없이 떠올리고 생각하면서 글을 쓸 준비를...\n",
              "48594                   조합하고 짜맞추면서 어떻게든 누더기 같은 글감을 끌어낸다.\n",
              "48595                 그렇게 낚아올린 영감을 백지 위에 펼친다는 건 꽤나 재미있다.\n",
              "\n",
              "[48596 rows x 1 columns]"
            ]
          },
          "metadata": {},
          "execution_count": 13
        }
      ]
    },
    {
      "cell_type": "code",
      "metadata": {
        "id": "ry3wyJ5RjvsG"
      },
      "source": [
        "cleaned_0 = []\n",
        "for overlap in _0['document']:\n",
        "    if overlap not in cleaned_0:\n",
        "        cleaned_0.append(overlap)\n"
      ],
      "execution_count": null,
      "outputs": []
    },
    {
      "cell_type": "code",
      "metadata": {
        "colab": {
          "base_uri": "https://localhost:8080/"
        },
        "id": "hnWIRs-EwBi-",
        "outputId": "fb3a1b77-c8ee-4caa-c28f-ad6d729af762"
      },
      "source": [
        "len(cleaned_0)"
      ],
      "execution_count": null,
      "outputs": [
        {
          "output_type": "execute_result",
          "data": {
            "text/plain": [
              "48596"
            ]
          },
          "metadata": {},
          "execution_count": 22
        }
      ]
    },
    {
      "cell_type": "code",
      "metadata": {
        "id": "MqhcHosi_FRp"
      },
      "source": [
        "cleaned_1 = []\n",
        "for overlap in _1['document']:\n",
        "    if overlap not in cleaned_1:\n",
        "        cleaned_1.append(overlap)\n"
      ],
      "execution_count": null,
      "outputs": []
    },
    {
      "cell_type": "code",
      "metadata": {
        "colab": {
          "base_uri": "https://localhost:8080/"
        },
        "id": "Wr60BjpJ_bbt",
        "outputId": "2f96b758-421b-45a5-fa6e-9fbdf20ce9cb"
      },
      "source": [
        "len(cleaned_1)"
      ],
      "execution_count": null,
      "outputs": [
        {
          "output_type": "execute_result",
          "data": {
            "text/plain": [
              "50941"
            ]
          },
          "metadata": {},
          "execution_count": 23
        }
      ]
    },
    {
      "cell_type": "code",
      "metadata": {
        "id": "yNNKR-6F_xJR"
      },
      "source": [
        "pd_cleaned_0 = pd.DataFrame()\n",
        "pd_cleaned_1 = pd.DataFrame()\n",
        "\n",
        "pd_cleaned_0['document'] = pd_cleaned_0\n",
        "pd_cleaned_1['document'] = pd_cleaned_1\n",
        "\n",
        "pd_cleaned_0['label'] = 0\n",
        "pd_cleaned_1['label'] = 1"
      ],
      "execution_count": null,
      "outputs": []
    },
    {
      "cell_type": "code",
      "metadata": {
        "id": "obNClVm3mITb"
      },
      "source": [
        "pd.DataFrame(cleaned_0).to_csv('cleand_.txt', sep='\\t')"
      ],
      "execution_count": null,
      "outputs": []
    },
    {
      "cell_type": "code",
      "metadata": {
        "colab": {
          "base_uri": "https://localhost:8080/",
          "height": 456
        },
        "id": "qxcvgE1evpgx",
        "outputId": "8af64f3a-39d8-440d-fcc5-200ac5416467"
      },
      "source": [
        "_0_1 = pd.concat([_0,_1])\n",
        "_0_1"
      ],
      "execution_count": null,
      "outputs": [
        {
          "output_type": "execute_result",
          "data": {
            "text/html": [
              "<div>\n",
              "<style scoped>\n",
              "    .dataframe tbody tr th:only-of-type {\n",
              "        vertical-align: middle;\n",
              "    }\n",
              "\n",
              "    .dataframe tbody tr th {\n",
              "        vertical-align: top;\n",
              "    }\n",
              "\n",
              "    .dataframe thead th {\n",
              "        text-align: right;\n",
              "    }\n",
              "</style>\n",
              "<table border=\"1\" class=\"dataframe\">\n",
              "  <thead>\n",
              "    <tr style=\"text-align: right;\">\n",
              "      <th></th>\n",
              "      <th>document</th>\n",
              "      <th>label</th>\n",
              "    </tr>\n",
              "  </thead>\n",
              "  <tbody>\n",
              "    <tr>\n",
              "      <th>0</th>\n",
              "      <td>15년 전 결혼 혼수로 장만한 중저가 가전제품이다.</td>\n",
              "      <td>0</td>\n",
              "    </tr>\n",
              "    <tr>\n",
              "      <th>1</th>\n",
              "      <td>사람 나이로 치면 약 120살 정도가 되지 않을까 생각된다.</td>\n",
              "      <td>0</td>\n",
              "    </tr>\n",
              "    <tr>\n",
              "      <th>2</th>\n",
              "      <td>30대 초반에 혼수를 내손으로 모두 벌어서 손수 장만한 것들이라 더욱 애틋했던 것이다.</td>\n",
              "      <td>0</td>\n",
              "    </tr>\n",
              "    <tr>\n",
              "      <th>3</th>\n",
              "      <td>마흔 후반인 지금도 우리 집에는 내가 준비했던 혼수품이 여전히 남아 있다.</td>\n",
              "      <td>0</td>\n",
              "    </tr>\n",
              "    <tr>\n",
              "      <th>4</th>\n",
              "      <td>벌써 15년이나 된 것들이니, 처음처럼 마냥 산뜻하지는 않다.</td>\n",
              "      <td>0</td>\n",
              "    </tr>\n",
              "    <tr>\n",
              "      <th>...</th>\n",
              "      <td>...</td>\n",
              "      <td>...</td>\n",
              "    </tr>\n",
              "    <tr>\n",
              "      <th>998350</th>\n",
              "      <td>특별히 힘든 하루를 보냈다면 그 날이 어제로 흘러갈 수 있는 내일이 필요합니다.</td>\n",
              "      <td>1</td>\n",
              "    </tr>\n",
              "    <tr>\n",
              "      <th>998351</th>\n",
              "      <td>우리에게 필요한 것은 지금이며, 지금은 항상 새로워집니다.</td>\n",
              "      <td>1</td>\n",
              "    </tr>\n",
              "    <tr>\n",
              "      <th>998352</th>\n",
              "      <td>피로를 이기기 위해서는 체력이 필요했고, 마음은 회복력을 찾기 위해 바빴다.</td>\n",
              "      <td>1</td>\n",
              "    </tr>\n",
              "    <tr>\n",
              "      <th>998353</th>\n",
              "      <td>흐르는 모든 사건에 의미를 부여하는 것은 바로 당신입니다.</td>\n",
              "      <td>1</td>\n",
              "    </tr>\n",
              "    <tr>\n",
              "      <th>998354</th>\n",
              "      <td>그리고 여가는 보통 남은 체력에서 나옵니다.</td>\n",
              "      <td>1</td>\n",
              "    </tr>\n",
              "  </tbody>\n",
              "</table>\n",
              "<p>1046951 rows × 2 columns</p>\n",
              "</div>"
            ],
            "text/plain": [
              "                                                document  label\n",
              "0                           15년 전 결혼 혼수로 장만한 중저가 가전제품이다.      0\n",
              "1                      사람 나이로 치면 약 120살 정도가 되지 않을까 생각된다.      0\n",
              "2       30대 초반에 혼수를 내손으로 모두 벌어서 손수 장만한 것들이라 더욱 애틋했던 것이다.      0\n",
              "3              마흔 후반인 지금도 우리 집에는 내가 준비했던 혼수품이 여전히 남아 있다.      0\n",
              "4                     벌써 15년이나 된 것들이니, 처음처럼 마냥 산뜻하지는 않다.      0\n",
              "...                                                  ...    ...\n",
              "998350      특별히 힘든 하루를 보냈다면 그 날이 어제로 흘러갈 수 있는 내일이 필요합니다.      1\n",
              "998351                  우리에게 필요한 것은 지금이며, 지금은 항상 새로워집니다.      1\n",
              "998352        피로를 이기기 위해서는 체력이 필요했고, 마음은 회복력을 찾기 위해 바빴다.      1\n",
              "998353                  흐르는 모든 사건에 의미를 부여하는 것은 바로 당신입니다.      1\n",
              "998354                          그리고 여가는 보통 남은 체력에서 나옵니다.      1\n",
              "\n",
              "[1046951 rows x 2 columns]"
            ]
          },
          "metadata": {},
          "execution_count": 26
        }
      ]
    },
    {
      "cell_type": "code",
      "metadata": {
        "id": "kt6Log45x05s"
      },
      "source": [
        "_random = _0_1.sample(frac=1).reset_index(drop=True)"
      ],
      "execution_count": null,
      "outputs": []
    },
    {
      "cell_type": "code",
      "metadata": {
        "colab": {
          "base_uri": "https://localhost:8080/",
          "height": 202
        },
        "id": "p_6bdERsx2c1",
        "outputId": "366b6c6d-3283-428d-8e2a-bfe4d7c653a5"
      },
      "source": [
        "_random.head()"
      ],
      "execution_count": null,
      "outputs": [
        {
          "data": {
            "text/html": [
              "<div>\n",
              "<style scoped>\n",
              "    .dataframe tbody tr th:only-of-type {\n",
              "        vertical-align: middle;\n",
              "    }\n",
              "\n",
              "    .dataframe tbody tr th {\n",
              "        vertical-align: top;\n",
              "    }\n",
              "\n",
              "    .dataframe thead th {\n",
              "        text-align: right;\n",
              "    }\n",
              "</style>\n",
              "<table border=\"1\" class=\"dataframe\">\n",
              "  <thead>\n",
              "    <tr style=\"text-align: right;\">\n",
              "      <th></th>\n",
              "      <th>document</th>\n",
              "      <th>label</th>\n",
              "    </tr>\n",
              "  </thead>\n",
              "  <tbody>\n",
              "    <tr>\n",
              "      <th>0</th>\n",
              "      <td>나는 옷을 벗고 빨간 고무줄로 열쇠로 머리를 묶었다.</td>\n",
              "      <td>1</td>\n",
              "    </tr>\n",
              "    <tr>\n",
              "      <th>1</th>\n",
              "      <td>이러한 박탈감은 삶의 질을 떨어뜨립니다.</td>\n",
              "      <td>1</td>\n",
              "    </tr>\n",
              "    <tr>\n",
              "      <th>2</th>\n",
              "      <td>괜히 심술이나 날씨 탓을 하며, 선뜻 발을 떼지 못하고 서 있었다.</td>\n",
              "      <td>0</td>\n",
              "    </tr>\n",
              "    <tr>\n",
              "      <th>3</th>\n",
              "      <td>사람 마음이 귀한 줄을 아는 사람만이 할 수 있는 고결한 품성이다.</td>\n",
              "      <td>0</td>\n",
              "    </tr>\n",
              "    <tr>\n",
              "      <th>4</th>\n",
              "      <td>하지만 남자들은... 빨리 눈을 피한다.</td>\n",
              "      <td>1</td>\n",
              "    </tr>\n",
              "  </tbody>\n",
              "</table>\n",
              "</div>"
            ],
            "text/plain": [
              "                                document  label\n",
              "0          나는 옷을 벗고 빨간 고무줄로 열쇠로 머리를 묶었다.      1\n",
              "1                 이러한 박탈감은 삶의 질을 떨어뜨립니다.      1\n",
              "2  괜히 심술이나 날씨 탓을 하며, 선뜻 발을 떼지 못하고 서 있었다.      0\n",
              "3  사람 마음이 귀한 줄을 아는 사람만이 할 수 있는 고결한 품성이다.      0\n",
              "4                 하지만 남자들은... 빨리 눈을 피한다.      1"
            ]
          },
          "execution_count": 27,
          "metadata": {},
          "output_type": "execute_result"
        }
      ]
    },
    {
      "cell_type": "code",
      "metadata": {
        "colab": {
          "base_uri": "https://localhost:8080/"
        },
        "id": "RRdE5myfrfWq",
        "outputId": "0ea13af2-084b-4aca-d069-848876d6fd5f"
      },
      "source": [
        "len(_random)"
      ],
      "execution_count": null,
      "outputs": [
        {
          "data": {
            "text/plain": [
              "1998252"
            ]
          },
          "execution_count": 28,
          "metadata": {},
          "output_type": "execute_result"
        }
      ]
    },
    {
      "cell_type": "code",
      "metadata": {
        "id": "WV4-6K49rsb7"
      },
      "source": [
        "dupl = _random\n",
        "dupl.drop_duplicates(['document'], keep='first', ignore_index=True, inplace=True)"
      ],
      "execution_count": null,
      "outputs": []
    },
    {
      "cell_type": "code",
      "metadata": {
        "colab": {
          "base_uri": "https://localhost:8080/",
          "height": 422
        },
        "id": "kV9SLfwOA92U",
        "outputId": "aecdfaa5-93d0-4560-882e-44eb06918b5b"
      },
      "source": [
        "dupl.sample(frac=1).reset_index(drop=True)"
      ],
      "execution_count": null,
      "outputs": [
        {
          "output_type": "execute_result",
          "data": {
            "text/html": [
              "<div>\n",
              "<style scoped>\n",
              "    .dataframe tbody tr th:only-of-type {\n",
              "        vertical-align: middle;\n",
              "    }\n",
              "\n",
              "    .dataframe tbody tr th {\n",
              "        vertical-align: top;\n",
              "    }\n",
              "\n",
              "    .dataframe thead th {\n",
              "        text-align: right;\n",
              "    }\n",
              "</style>\n",
              "<table border=\"1\" class=\"dataframe\">\n",
              "  <thead>\n",
              "    <tr style=\"text-align: right;\">\n",
              "      <th></th>\n",
              "      <th>document</th>\n",
              "      <th>label</th>\n",
              "    </tr>\n",
              "  </thead>\n",
              "  <tbody>\n",
              "    <tr>\n",
              "      <th>0</th>\n",
              "      <td>꽃길을 걷다 보니 여러 개나리 정원을 만났습니다.</td>\n",
              "      <td>1</td>\n",
              "    </tr>\n",
              "    <tr>\n",
              "      <th>1</th>\n",
              "      <td>이유가 무엇이든 간에 갑상선이 나를 잠들게 할 때 나는 잠을 자야 했다.</td>\n",
              "      <td>1</td>\n",
              "    </tr>\n",
              "    <tr>\n",
              "      <th>2</th>\n",
              "      <td>우리는 종종 점이 선을 구성하고 선이 생명을 구성한다고 말합니다.</td>\n",
              "      <td>1</td>\n",
              "    </tr>\n",
              "    <tr>\n",
              "      <th>3</th>\n",
              "      <td>만약... 독일여자들이 아침에 와서 6시까지 머물고, 짐을 꾸리고, 집에 가서, 저...</td>\n",
              "      <td>1</td>\n",
              "    </tr>\n",
              "    <tr>\n",
              "      <th>4</th>\n",
              "      <td>운동도 굳은 결심을 해놓고 간건 몇번이던가.</td>\n",
              "      <td>0</td>\n",
              "    </tr>\n",
              "    <tr>\n",
              "      <th>...</th>\n",
              "      <td>...</td>\n",
              "      <td>...</td>\n",
              "    </tr>\n",
              "    <tr>\n",
              "      <th>99419</th>\n",
              "      <td>유명 건축가이자 북경대 교수인 동위간(東豫關) 교수가 초청돼 설계를 맡겼다.</td>\n",
              "      <td>1</td>\n",
              "    </tr>\n",
              "    <tr>\n",
              "      <th>99420</th>\n",
              "      <td>청상추는 정말 꽃처럼 피어있어,매번 잎을 뜯으며 미안한 기분이 들었다.</td>\n",
              "      <td>0</td>\n",
              "    </tr>\n",
              "    <tr>\n",
              "      <th>99421</th>\n",
              "      <td>나는 당신이 어느 시점에서 나에게서 멀어지기로 결정했는지 궁금합니다.</td>\n",
              "      <td>1</td>\n",
              "    </tr>\n",
              "    <tr>\n",
              "      <th>99422</th>\n",
              "      <td>저희 가족도 그랬듯, 많은 사람들이 모를 것입니다.</td>\n",
              "      <td>0</td>\n",
              "    </tr>\n",
              "    <tr>\n",
              "      <th>99423</th>\n",
              "      <td>내가 편한 시간 내내 불편한 눈으로 나를 바라보는 사람은 단 한 명뿐이었다.</td>\n",
              "      <td>1</td>\n",
              "    </tr>\n",
              "  </tbody>\n",
              "</table>\n",
              "<p>99424 rows × 2 columns</p>\n",
              "</div>"
            ],
            "text/plain": [
              "                                                document  label\n",
              "0                            꽃길을 걷다 보니 여러 개나리 정원을 만났습니다.      1\n",
              "1               이유가 무엇이든 간에 갑상선이 나를 잠들게 할 때 나는 잠을 자야 했다.      1\n",
              "2                   우리는 종종 점이 선을 구성하고 선이 생명을 구성한다고 말합니다.      1\n",
              "3      만약... 독일여자들이 아침에 와서 6시까지 머물고, 짐을 꾸리고, 집에 가서, 저...      1\n",
              "4                               운동도 굳은 결심을 해놓고 간건 몇번이던가.      0\n",
              "...                                                  ...    ...\n",
              "99419         유명 건축가이자 북경대 교수인 동위간(東豫關) 교수가 초청돼 설계를 맡겼다.      1\n",
              "99420            청상추는 정말 꽃처럼 피어있어,매번 잎을 뜯으며 미안한 기분이 들었다.      0\n",
              "99421             나는 당신이 어느 시점에서 나에게서 멀어지기로 결정했는지 궁금합니다.      1\n",
              "99422                       저희 가족도 그랬듯, 많은 사람들이 모를 것입니다.      0\n",
              "99423         내가 편한 시간 내내 불편한 눈으로 나를 바라보는 사람은 단 한 명뿐이었다.      1\n",
              "\n",
              "[99424 rows x 2 columns]"
            ]
          },
          "metadata": {},
          "execution_count": 31
        }
      ]
    },
    {
      "cell_type": "code",
      "metadata": {
        "colab": {
          "base_uri": "https://localhost:8080/"
        },
        "id": "fwlcsr6nBmgh",
        "outputId": "2d3ede3f-b307-4b98-8506-52d0033abbc8"
      },
      "source": [
        "len(dupl)"
      ],
      "execution_count": null,
      "outputs": [
        {
          "output_type": "execute_result",
          "data": {
            "text/plain": [
              "99424"
            ]
          },
          "metadata": {},
          "execution_count": 32
        }
      ]
    },
    {
      "cell_type": "code",
      "metadata": {
        "colab": {
          "base_uri": "https://localhost:8080/"
        },
        "id": "cCFjaKVCBpbi",
        "outputId": "17abadb1-8c43-4685-c430-a065e9c6f87b"
      },
      "source": [
        "19885 / 99424 * 100"
      ],
      "execution_count": null,
      "outputs": [
        {
          "output_type": "execute_result",
          "data": {
            "text/plain": [
              "20.00020115867396"
            ]
          },
          "metadata": {},
          "execution_count": 51
        }
      ]
    },
    {
      "cell_type": "code",
      "metadata": {
        "colab": {
          "base_uri": "https://localhost:8080/"
        },
        "id": "R8VU4R19B-Ye",
        "outputId": "12a33991-64bd-4b35-a652-ebab2ac647e4"
      },
      "source": [
        "19885 * 2"
      ],
      "execution_count": null,
      "outputs": [
        {
          "output_type": "execute_result",
          "data": {
            "text/plain": [
              "39770"
            ]
          },
          "metadata": {},
          "execution_count": 52
        }
      ]
    },
    {
      "cell_type": "code",
      "metadata": {
        "colab": {
          "base_uri": "https://localhost:8080/"
        },
        "id": "hj5TMpZkCAKV",
        "outputId": "d23bc858-7dc8-463b-91e6-23b3e9be0705"
      },
      "source": [
        "99424 - 39770"
      ],
      "execution_count": null,
      "outputs": [
        {
          "output_type": "execute_result",
          "data": {
            "text/plain": [
              "59654"
            ]
          },
          "metadata": {},
          "execution_count": 53
        }
      ]
    },
    {
      "cell_type": "code",
      "metadata": {
        "colab": {
          "base_uri": "https://localhost:8080/"
        },
        "id": "s9dCfGjPCO7X",
        "outputId": "47882bac-352d-4edd-d5ef-0145131fd572"
      },
      "source": [
        "99424 - 59654"
      ],
      "execution_count": null,
      "outputs": [
        {
          "output_type": "execute_result",
          "data": {
            "text/plain": [
              "39770"
            ]
          },
          "metadata": {},
          "execution_count": 55
        }
      ]
    },
    {
      "cell_type": "code",
      "metadata": {
        "colab": {
          "base_uri": "https://localhost:8080/"
        },
        "id": "JZpla-VNCcEZ",
        "outputId": "449b5d1c-0aaf-4aa3-8c45-4ed2fc2dcb59"
      },
      "source": [
        "39770 / 2"
      ],
      "execution_count": null,
      "outputs": [
        {
          "output_type": "execute_result",
          "data": {
            "text/plain": [
              "19885.0"
            ]
          },
          "metadata": {},
          "execution_count": 56
        }
      ]
    },
    {
      "cell_type": "code",
      "metadata": {
        "colab": {
          "base_uri": "https://localhost:8080/"
        },
        "id": "UuZHy0YuCdNy",
        "outputId": "9ab7e629-2364-4744-d286-ca50b56e1b11"
      },
      "source": [
        "39770 - 19885"
      ],
      "execution_count": null,
      "outputs": [
        {
          "output_type": "execute_result",
          "data": {
            "text/plain": [
              "19885"
            ]
          },
          "metadata": {},
          "execution_count": 57
        }
      ]
    },
    {
      "cell_type": "code",
      "metadata": {
        "colab": {
          "base_uri": "https://localhost:8080/"
        },
        "id": "Kvc6Fg9hCjuD",
        "outputId": "6d538090-4323-4979-9b9e-8a7dca6b5772"
      },
      "source": [
        "59654 + 19885"
      ],
      "execution_count": null,
      "outputs": [
        {
          "output_type": "execute_result",
          "data": {
            "text/plain": [
              "79539"
            ]
          },
          "metadata": {},
          "execution_count": 58
        }
      ]
    },
    {
      "cell_type": "code",
      "metadata": {
        "id": "-EptLYefBrqC"
      },
      "source": [
        "train_data = pd.DataFrame()\n",
        "test_data = pd.DataFrame()\n",
        "val_data = pd.DataFrame()\n",
        "\n",
        "train_data['document'] = dupl['document'][:59654]\n",
        "train_data['label'] = dupl['label'][:59654]\n",
        "\n",
        "test_data['document'] = dupl['document'][59654:79539]\n",
        "test_data['label'] = dupl['label'][59654:79539]\n",
        "\n",
        "val_data['document'] = dupl['document'][79539:]\n",
        "val_data['label'] = dupl['label'][79539:]"
      ],
      "execution_count": null,
      "outputs": []
    },
    {
      "cell_type": "code",
      "metadata": {
        "colab": {
          "base_uri": "https://localhost:8080/"
        },
        "id": "S10Xr-STCpmi",
        "outputId": "fd01ee63-a53a-451f-b85b-fe805860ccf2"
      },
      "source": [
        "len(train_data),len(test_data),len(val_data)"
      ],
      "execution_count": null,
      "outputs": [
        {
          "output_type": "execute_result",
          "data": {
            "text/plain": [
              "(59654, 19885, 19885)"
            ]
          },
          "metadata": {},
          "execution_count": 60
        }
      ]
    },
    {
      "cell_type": "code",
      "metadata": {
        "id": "PAwb3EY4Cyec"
      },
      "source": [
        "train_data.to_csv('cleaned_train.txt', sep='\\t')\n",
        "test_data.to_csv('cleaned_text.txt', sep='\\t')\n",
        "val_data.to_csv('cleaned_val.txt', sep='\\t')"
      ],
      "execution_count": null,
      "outputs": []
    },
    {
      "cell_type": "markdown",
      "metadata": {
        "id": "8nUZ29XvzITS"
      },
      "source": [
        "<br/><br/>\n",
        "\n",
        "# Train, Test, Validation 데이터 나누기"
      ]
    },
    {
      "cell_type": "code",
      "metadata": {
        "colab": {
          "base_uri": "https://localhost:8080/",
          "height": 245
        },
        "id": "wvGHT5VCzPZi",
        "outputId": "9d22e7b6-7aaf-46c0-deac-34fcb8cfede4"
      },
      "source": [
        "train_data = pd.DataFrame()\n",
        "test_data = pd.DataFrame()\n",
        "val_data = pd.DataFrame()\n",
        "\n",
        "train_data['document'] = _random['document'][:1198252]\n",
        "train_data['label'] = _random['label'][:1198252]\n",
        "\n",
        "test_data['document'] = _random['document'][1198252:1598252]\n",
        "test_data['label'] = _random['label'][1198252:1598252]\n",
        "\n",
        "val_data['document'] = _random['document'][1598252:]\n",
        "val_data['label'] = _random['label'][1598252:]"
      ],
      "execution_count": null,
      "outputs": [
        {
          "ename": "NameError",
          "evalue": "ignored",
          "output_type": "error",
          "traceback": [
            "\u001b[0;31m---------------------------------------------------------------------------\u001b[0m",
            "\u001b[0;31mNameError\u001b[0m                                 Traceback (most recent call last)",
            "\u001b[0;32m<ipython-input-7-518f8d4b831e>\u001b[0m in \u001b[0;36m<module>\u001b[0;34m()\u001b[0m\n\u001b[1;32m      3\u001b[0m \u001b[0mval_data\u001b[0m \u001b[0;34m=\u001b[0m \u001b[0mpd\u001b[0m\u001b[0;34m.\u001b[0m\u001b[0mDataFrame\u001b[0m\u001b[0;34m(\u001b[0m\u001b[0;34m)\u001b[0m\u001b[0;34m\u001b[0m\u001b[0;34m\u001b[0m\u001b[0m\n\u001b[1;32m      4\u001b[0m \u001b[0;34m\u001b[0m\u001b[0m\n\u001b[0;32m----> 5\u001b[0;31m \u001b[0mtrain_data\u001b[0m\u001b[0;34m[\u001b[0m\u001b[0;34m'document'\u001b[0m\u001b[0;34m]\u001b[0m \u001b[0;34m=\u001b[0m \u001b[0m_random\u001b[0m\u001b[0;34m[\u001b[0m\u001b[0;34m'document'\u001b[0m\u001b[0;34m]\u001b[0m\u001b[0;34m[\u001b[0m\u001b[0;34m:\u001b[0m\u001b[0;36m1198252\u001b[0m\u001b[0;34m]\u001b[0m\u001b[0;34m\u001b[0m\u001b[0;34m\u001b[0m\u001b[0m\n\u001b[0m\u001b[1;32m      6\u001b[0m \u001b[0mtrain_data\u001b[0m\u001b[0;34m[\u001b[0m\u001b[0;34m'label'\u001b[0m\u001b[0;34m]\u001b[0m \u001b[0;34m=\u001b[0m \u001b[0m_random\u001b[0m\u001b[0;34m[\u001b[0m\u001b[0;34m'label'\u001b[0m\u001b[0;34m]\u001b[0m\u001b[0;34m[\u001b[0m\u001b[0;34m:\u001b[0m\u001b[0;36m1198252\u001b[0m\u001b[0;34m]\u001b[0m\u001b[0;34m\u001b[0m\u001b[0;34m\u001b[0m\u001b[0m\n\u001b[1;32m      7\u001b[0m \u001b[0;34m\u001b[0m\u001b[0m\n",
            "\u001b[0;31mNameError\u001b[0m: name '_random' is not defined"
          ]
        }
      ]
    },
    {
      "cell_type": "code",
      "metadata": {
        "colab": {
          "base_uri": "https://localhost:8080/"
        },
        "id": "cbnQy-CZivm4",
        "outputId": "7de5eaae-48b7-4181-d799-27da5f682790"
      },
      "source": [
        "800000 / 1998252 * 100"
      ],
      "execution_count": null,
      "outputs": [
        {
          "data": {
            "text/plain": [
              "40.03499058176846"
            ]
          },
          "execution_count": 35,
          "metadata": {},
          "output_type": "execute_result"
        }
      ]
    },
    {
      "cell_type": "code",
      "metadata": {
        "colab": {
          "base_uri": "https://localhost:8080/"
        },
        "id": "OSnsGDw5i-3a",
        "outputId": "27561095-3a51-4f8a-d9d4-ee7cba75b8e0"
      },
      "source": [
        "len(train_data), len(test_data), len(val_data)"
      ],
      "execution_count": null,
      "outputs": [
        {
          "data": {
            "text/plain": [
              "(1198252, 400000, 400000)"
            ]
          },
          "execution_count": 34,
          "metadata": {},
          "output_type": "execute_result"
        }
      ]
    },
    {
      "cell_type": "code",
      "metadata": {
        "id": "_CU3VijJ1uPf"
      },
      "source": [
        "#train_data.to_csv('labeling_train_data.csv', index=None)\n",
        "#test_data.to_csv('labeling_test_data.csv', index=None)\n",
        "#val_data.to_csv('labeling_val_data.csv', index=None)\n",
        "#df.to_csv('pizza.txt', sep = '\\t)\n",
        "train_data.to_csv('200_train_data.txt', sep='\\t')\n",
        "test_data.to_csv('200_test_data.txt', sep='\\t')\n",
        "val_data.to_csv('200_val_data.txt', sep='\\t')"
      ],
      "execution_count": null,
      "outputs": []
    },
    {
      "cell_type": "code",
      "metadata": {
        "id": "aQVBLnXxtvU8"
      },
      "source": [
        "#a = pd.DataFrame()\n",
        "#a = pd.read_csv('200_val_data.txt', sep = \"\\t\", names = [\"id\", \"document\", \"label\"])\n",
        "\n",
        "a = pd.read_csv('200_train_data.txt', sep = \"\\t\")\n",
        "b = pd.read_csv('200_test_data.txt', sep = \"\\t\")\n",
        "c = pd.read_csv('200_val_data.txt', sep = \"\\t\")\n",
        "#names = [\"id\", \"document\", \"label\"]\n",
        "#a.columns = names"
      ],
      "execution_count": null,
      "outputs": []
    },
    {
      "cell_type": "code",
      "metadata": {
        "colab": {
          "base_uri": "https://localhost:8080/",
          "height": 205
        },
        "id": "xUMcGNc9uW4p",
        "outputId": "f011714b-f4b0-41af-8fb6-723d0f853dc4"
      },
      "source": [
        "a.head()"
      ],
      "execution_count": null,
      "outputs": [
        {
          "data": {
            "text/html": [
              "<div>\n",
              "<style scoped>\n",
              "    .dataframe tbody tr th:only-of-type {\n",
              "        vertical-align: middle;\n",
              "    }\n",
              "\n",
              "    .dataframe tbody tr th {\n",
              "        vertical-align: top;\n",
              "    }\n",
              "\n",
              "    .dataframe thead th {\n",
              "        text-align: right;\n",
              "    }\n",
              "</style>\n",
              "<table border=\"1\" class=\"dataframe\">\n",
              "  <thead>\n",
              "    <tr style=\"text-align: right;\">\n",
              "      <th></th>\n",
              "      <th>Unnamed: 0</th>\n",
              "      <th>document</th>\n",
              "      <th>label</th>\n",
              "    </tr>\n",
              "  </thead>\n",
              "  <tbody>\n",
              "    <tr>\n",
              "      <th>0</th>\n",
              "      <td>1598252</td>\n",
              "      <td>하루 종일 나를 웃게 해</td>\n",
              "      <td>1</td>\n",
              "    </tr>\n",
              "    <tr>\n",
              "      <th>1</th>\n",
              "      <td>1598253</td>\n",
              "      <td>그러나 모든 사람이 사랑받을 때 그들의 얼굴은 꽃처럼 아름다워집니다.</td>\n",
              "      <td>1</td>\n",
              "    </tr>\n",
              "    <tr>\n",
              "      <th>2</th>\n",
              "      <td>1598254</td>\n",
              "      <td>그렇지 않고 먹고 싶은 과자, 빵, 닭고기를 먹으면 지금 어떻게 될까요?</td>\n",
              "      <td>1</td>\n",
              "    </tr>\n",
              "    <tr>\n",
              "      <th>3</th>\n",
              "      <td>1598255</td>\n",
              "      <td>당신의 소원이 적힌 돌을 십자가 나무의 틈새에 놓으십시오.</td>\n",
              "      <td>1</td>\n",
              "    </tr>\n",
              "    <tr>\n",
              "      <th>4</th>\n",
              "      <td>1598256</td>\n",
              "      <td>너무 놀라 잡고 있던 옥수수를 냉동댕이 쳤다.</td>\n",
              "      <td>0</td>\n",
              "    </tr>\n",
              "  </tbody>\n",
              "</table>\n",
              "</div>"
            ],
            "text/plain": [
              "   Unnamed: 0                                  document  label\n",
              "0     1598252                             하루 종일 나를 웃게 해      1\n",
              "1     1598253    그러나 모든 사람이 사랑받을 때 그들의 얼굴은 꽃처럼 아름다워집니다.      1\n",
              "2     1598254  그렇지 않고 먹고 싶은 과자, 빵, 닭고기를 먹으면 지금 어떻게 될까요?      1\n",
              "3     1598255          당신의 소원이 적힌 돌을 십자가 나무의 틈새에 놓으십시오.      1\n",
              "4     1598256                 너무 놀라 잡고 있던 옥수수를 냉동댕이 쳤다.      0"
            ]
          },
          "execution_count": 7,
          "metadata": {},
          "output_type": "execute_result"
        }
      ]
    },
    {
      "cell_type": "code",
      "metadata": {
        "id": "mxh5TUfZu_cu"
      },
      "source": [
        "a.to_csv('200_train_data2.txt', sep='\\t', index=None)\n",
        "b.to_csv('200_test_data2.txt', sep='\\t', index=None)\n",
        "c.to_csv('200_val_data2.txt', sep='\\t', index=None)"
      ],
      "execution_count": null,
      "outputs": []
    },
    {
      "cell_type": "code",
      "metadata": {
        "colab": {
          "base_uri": "https://localhost:8080/"
        },
        "id": "EicU7MHyix0X",
        "outputId": "582a0527-5c46-4eed-d5f5-9def8a9e796d"
      },
      "source": [
        "1998252 - 800000"
      ],
      "execution_count": null,
      "outputs": [
        {
          "data": {
            "text/plain": [
              "1198252"
            ]
          },
          "execution_count": 31,
          "metadata": {},
          "output_type": "execute_result"
        }
      ]
    },
    {
      "cell_type": "code",
      "metadata": {
        "colab": {
          "base_uri": "https://localhost:8080/"
        },
        "id": "UFE3uhDPi3jP",
        "outputId": "0d70c01b-1fd8-4fe9-b749-823132d6fc61"
      },
      "source": [
        "1198252 + 400000"
      ],
      "execution_count": null,
      "outputs": [
        {
          "data": {
            "text/plain": [
              "1598252"
            ]
          },
          "execution_count": 32,
          "metadata": {},
          "output_type": "execute_result"
        }
      ]
    },
    {
      "cell_type": "code",
      "metadata": {
        "colab": {
          "base_uri": "https://localhost:8080/"
        },
        "id": "YVtpKSBI0uzf",
        "outputId": "ebc83a14-9857-4cb4-f36e-f3e32316a658"
      },
      "source": [
        "len(_random)"
      ],
      "execution_count": null,
      "outputs": [
        {
          "data": {
            "text/plain": [
              "178044"
            ]
          },
          "execution_count": 56,
          "metadata": {},
          "output_type": "execute_result"
        }
      ]
    },
    {
      "cell_type": "code",
      "metadata": {
        "colab": {
          "base_uri": "https://localhost:8080/"
        },
        "id": "DlCP3R4JxyYL",
        "outputId": "1a331c60-87a7-4e6b-9a88-2035877d44fa"
      },
      "source": [
        "len(_0)"
      ],
      "execution_count": null,
      "outputs": [
        {
          "data": {
            "text/plain": [
              "89022"
            ]
          },
          "execution_count": 79,
          "metadata": {},
          "output_type": "execute_result"
        }
      ]
    },
    {
      "cell_type": "code",
      "metadata": {
        "colab": {
          "base_uri": "https://localhost:8080/"
        },
        "id": "DxLbN-ms0gOu",
        "outputId": "a793b716-fab1-4c7c-9654-391c31d0191e"
      },
      "source": [
        "len(train_data), len(test_data), len(val_data)"
      ],
      "execution_count": null,
      "outputs": [
        {
          "data": {
            "text/plain": [
              "(106824, 35610, 35610)"
            ]
          },
          "execution_count": 78,
          "metadata": {},
          "output_type": "execute_result"
        }
      ]
    },
    {
      "cell_type": "code",
      "metadata": {
        "colab": {
          "base_uri": "https://localhost:8080/"
        },
        "id": "x7LED0L71BJ5",
        "outputId": "c0b46f49-4925-45c5-cd8e-a0fbe95063f7"
      },
      "source": [
        "35610 / 178044 * 100"
      ],
      "execution_count": null,
      "outputs": [
        {
          "data": {
            "text/plain": [
              "20.01749529088423"
            ]
          },
          "execution_count": 29,
          "metadata": {},
          "output_type": "execute_result"
        }
      ]
    },
    {
      "cell_type": "code",
      "metadata": {
        "colab": {
          "base_uri": "https://localhost:8080/"
        },
        "id": "qbROVn5b1aQ9",
        "outputId": "f7bda5cf-4e66-441f-b383-9ea177f3b747"
      },
      "source": [
        "35610 * 2"
      ],
      "execution_count": null,
      "outputs": [
        {
          "data": {
            "text/plain": [
              "71220"
            ]
          },
          "execution_count": 72,
          "metadata": {},
          "output_type": "execute_result"
        }
      ]
    },
    {
      "cell_type": "code",
      "metadata": {
        "colab": {
          "base_uri": "https://localhost:8080/"
        },
        "id": "yEtCkeb61WNk",
        "outputId": "5ddbfae3-630a-4d17-b929-b70c1689fff7"
      },
      "source": [
        "178044 - 71220"
      ],
      "execution_count": null,
      "outputs": [
        {
          "data": {
            "text/plain": [
              "106824"
            ]
          },
          "execution_count": 73,
          "metadata": {},
          "output_type": "execute_result"
        }
      ]
    },
    {
      "cell_type": "code",
      "metadata": {
        "colab": {
          "base_uri": "https://localhost:8080/"
        },
        "id": "OLYLErPS1fHl",
        "outputId": "85976fac-5326-45b8-9d68-d5858211a2e6"
      },
      "source": [
        "106824 + 35610"
      ],
      "execution_count": null,
      "outputs": [
        {
          "data": {
            "text/plain": [
              "142434"
            ]
          },
          "execution_count": 74,
          "metadata": {},
          "output_type": "execute_result"
        }
      ]
    },
    {
      "cell_type": "markdown",
      "metadata": {
        "id": "-iPDXgy8xtW6"
      },
      "source": [
        "# concat() AND sample TEST"
      ]
    },
    {
      "cell_type": "code",
      "metadata": {
        "id": "UoptRgaEv34a"
      },
      "source": [
        "_random1 = _0_1.sample(frac=1)\n",
        "_random2 = _0_1.sample(frac=1).reset_index(drop=True)"
      ],
      "execution_count": null,
      "outputs": []
    },
    {
      "cell_type": "markdown",
      "metadata": {
        "id": "yOin4WN_yAjX"
      },
      "source": [
        "<br/><br/>\n",
        "\n",
        "### rest_indx 없이 섞을 경우 인덱싱 유지상태로 뒤죽박죽이 된다."
      ]
    },
    {
      "cell_type": "code",
      "metadata": {
        "colab": {
          "base_uri": "https://localhost:8080/",
          "height": 422
        },
        "id": "-RMwp1dLxS-v",
        "outputId": "28fe95c4-89a3-4361-ce55-cf67e624d041"
      },
      "source": [
        "_random1"
      ],
      "execution_count": null,
      "outputs": [
        {
          "data": {
            "text/html": [
              "<div>\n",
              "<style scoped>\n",
              "    .dataframe tbody tr th:only-of-type {\n",
              "        vertical-align: middle;\n",
              "    }\n",
              "\n",
              "    .dataframe tbody tr th {\n",
              "        vertical-align: top;\n",
              "    }\n",
              "\n",
              "    .dataframe thead th {\n",
              "        text-align: right;\n",
              "    }\n",
              "</style>\n",
              "<table border=\"1\" class=\"dataframe\">\n",
              "  <thead>\n",
              "    <tr style=\"text-align: right;\">\n",
              "      <th></th>\n",
              "      <th>document</th>\n",
              "      <th>label</th>\n",
              "    </tr>\n",
              "  </thead>\n",
              "  <tbody>\n",
              "    <tr>\n",
              "      <th>2583</th>\n",
              "      <td>이 노랫말을 ‘정진호 그림책 작가’는 지금 시대에 맞게 환경문제로 연결시켰다.</td>\n",
              "      <td>0</td>\n",
              "    </tr>\n",
              "    <tr>\n",
              "      <th>47555</th>\n",
              "      <td>하지만 타고난 선한 성격 때문에 넘어지는 일이 거의 없다.</td>\n",
              "      <td>1</td>\n",
              "    </tr>\n",
              "    <tr>\n",
              "      <th>658</th>\n",
              "      <td>소년은 손가락 끝으로 책을 꼭 쥐었다가,</td>\n",
              "      <td>0</td>\n",
              "    </tr>\n",
              "    <tr>\n",
              "      <th>28032</th>\n",
              "      <td>\"공사가 시작되고 조만간 새로운 구조물이 화면에 나타날 것입니다.\"</td>\n",
              "      <td>1</td>\n",
              "    </tr>\n",
              "    <tr>\n",
              "      <th>76219</th>\n",
              "      <td>“그곳이 경상북도 영주시 부석면 봉황산 자락에 위치한 사찰인 부석사입니다.”</td>\n",
              "      <td>1</td>\n",
              "    </tr>\n",
              "    <tr>\n",
              "      <th>...</th>\n",
              "      <td>...</td>\n",
              "      <td>...</td>\n",
              "    </tr>\n",
              "    <tr>\n",
              "      <th>9151</th>\n",
              "      <td>보자마자 ‘이파라파냐무냐무’를 외쳐대기 시작했다.</td>\n",
              "      <td>0</td>\n",
              "    </tr>\n",
              "    <tr>\n",
              "      <th>52974</th>\n",
              "      <td>\"그래서 나는\"\"초기에는 신경이 쓰였는데 이젠 안 그래.\"</td>\n",
              "      <td>0</td>\n",
              "    </tr>\n",
              "    <tr>\n",
              "      <th>58737</th>\n",
              "      <td>\"산토리니는 하루 관광객을 8,000명으로 제한하는 방안까지 검토하고 있다고 한다.\"</td>\n",
              "      <td>0</td>\n",
              "    </tr>\n",
              "    <tr>\n",
              "      <th>44759</th>\n",
              "      <td>\"왜, 그 프로파일러 이수정씨도 이해할 수 없는 대상에 대해 두려움을 느낀다고 하지...</td>\n",
              "      <td>0</td>\n",
              "    </tr>\n",
              "    <tr>\n",
              "      <th>6822</th>\n",
              "      <td>가족 중 누군가가 지어준 소중한 이름이 초등학교를 들어가기 전까지는 마냥 좋았다.</td>\n",
              "      <td>0</td>\n",
              "    </tr>\n",
              "  </tbody>\n",
              "</table>\n",
              "<p>178044 rows × 2 columns</p>\n",
              "</div>"
            ],
            "text/plain": [
              "                                                document  label\n",
              "2583         이 노랫말을 ‘정진호 그림책 작가’는 지금 시대에 맞게 환경문제로 연결시켰다.      0\n",
              "47555                   하지만 타고난 선한 성격 때문에 넘어지는 일이 거의 없다.      1\n",
              "658                               소년은 손가락 끝으로 책을 꼭 쥐었다가,      0\n",
              "28032              \"공사가 시작되고 조만간 새로운 구조물이 화면에 나타날 것입니다.\"      1\n",
              "76219         “그곳이 경상북도 영주시 부석면 봉황산 자락에 위치한 사찰인 부석사입니다.”      1\n",
              "...                                                  ...    ...\n",
              "9151                         보자마자 ‘이파라파냐무냐무’를 외쳐대기 시작했다.      0\n",
              "52974                   \"그래서 나는\"\"초기에는 신경이 쓰였는데 이젠 안 그래.\"      0\n",
              "58737    \"산토리니는 하루 관광객을 8,000명으로 제한하는 방안까지 검토하고 있다고 한다.\"      0\n",
              "44759  \"왜, 그 프로파일러 이수정씨도 이해할 수 없는 대상에 대해 두려움을 느낀다고 하지...      0\n",
              "6822       가족 중 누군가가 지어준 소중한 이름이 초등학교를 들어가기 전까지는 마냥 좋았다.      0\n",
              "\n",
              "[178044 rows x 2 columns]"
            ]
          },
          "execution_count": 44,
          "metadata": {},
          "output_type": "execute_result"
        }
      ]
    },
    {
      "cell_type": "markdown",
      "metadata": {
        "id": "IJLYzRk6yHqe"
      },
      "source": [
        "<br/><br/>\n",
        "\n",
        "### reset_index() 메서드를 사용하면 인덱싱이 다시 처음부터 리셋되어 내림차순으로 정렬된다."
      ]
    },
    {
      "cell_type": "code",
      "metadata": {
        "colab": {
          "base_uri": "https://localhost:8080/",
          "height": 422
        },
        "id": "-yCs6IR5xVh_",
        "outputId": "18c8e5ad-5731-42a3-8286-f82532011bfe"
      },
      "source": [
        "_random2"
      ],
      "execution_count": null,
      "outputs": [
        {
          "data": {
            "text/html": [
              "<div>\n",
              "<style scoped>\n",
              "    .dataframe tbody tr th:only-of-type {\n",
              "        vertical-align: middle;\n",
              "    }\n",
              "\n",
              "    .dataframe tbody tr th {\n",
              "        vertical-align: top;\n",
              "    }\n",
              "\n",
              "    .dataframe thead th {\n",
              "        text-align: right;\n",
              "    }\n",
              "</style>\n",
              "<table border=\"1\" class=\"dataframe\">\n",
              "  <thead>\n",
              "    <tr style=\"text-align: right;\">\n",
              "      <th></th>\n",
              "      <th>document</th>\n",
              "      <th>label</th>\n",
              "    </tr>\n",
              "  </thead>\n",
              "  <tbody>\n",
              "    <tr>\n",
              "      <th>0</th>\n",
              "      <td>세 개의 국경을 넘어 노르웨이에 도착했습니다.</td>\n",
              "      <td>1</td>\n",
              "    </tr>\n",
              "    <tr>\n",
              "      <th>1</th>\n",
              "      <td>즉, 음악과 영상의 완성도가 다소 부족하다”고 말했다.</td>\n",
              "      <td>1</td>\n",
              "    </tr>\n",
              "    <tr>\n",
              "      <th>2</th>\n",
              "      <td>덩치 크고 쪽수 많다고 깡패처럼 덤벼도 예전처럼 당하고만 있을 우리의 체력이 아니다.</td>\n",
              "      <td>0</td>\n",
              "    </tr>\n",
              "    <tr>\n",
              "      <th>3</th>\n",
              "      <td>조금만 호기심을 가지고 멈추었더라면 프레임을 벗어나 멋진 세상을 만날 수 있었을 텐데.</td>\n",
              "      <td>0</td>\n",
              "    </tr>\n",
              "    <tr>\n",
              "      <th>4</th>\n",
              "      <td>회신은 살아 생전에 다하지 못한 효도로 큰 자책감과 후회로 가득하다.</td>\n",
              "      <td>0</td>\n",
              "    </tr>\n",
              "    <tr>\n",
              "      <th>...</th>\n",
              "      <td>...</td>\n",
              "      <td>...</td>\n",
              "    </tr>\n",
              "    <tr>\n",
              "      <th>178039</th>\n",
              "      <td>\"남한+북한 배우들과의 대사에서 사건의 전개, 원인 이런게 얼마나 많이 나오는데!!\"</td>\n",
              "      <td>0</td>\n",
              "    </tr>\n",
              "    <tr>\n",
              "      <th>178040</th>\n",
              "      <td>아마도 평생에 걸쳐도 '정답'이라고 할 만한 것은 찾지 못할지도 모른다.</td>\n",
              "      <td>0</td>\n",
              "    </tr>\n",
              "    <tr>\n",
              "      <th>178041</th>\n",
              "      <td>그리고 거기에는 아무도 없었습니다(기적처럼 느껴졌습니다). 다행히 비는 저녁이 되어...</td>\n",
              "      <td>1</td>\n",
              "    </tr>\n",
              "    <tr>\n",
              "      <th>178042</th>\n",
              "      <td>당신이 남긴 추억과 사진이 일상에 얼마나 영향을 미치나요?</td>\n",
              "      <td>1</td>\n",
              "    </tr>\n",
              "    <tr>\n",
              "      <th>178043</th>\n",
              "      <td>,</td>\n",
              "      <td>0</td>\n",
              "    </tr>\n",
              "  </tbody>\n",
              "</table>\n",
              "<p>178044 rows × 2 columns</p>\n",
              "</div>"
            ],
            "text/plain": [
              "                                                 document  label\n",
              "0                               세 개의 국경을 넘어 노르웨이에 도착했습니다.      1\n",
              "1                          즉, 음악과 영상의 완성도가 다소 부족하다”고 말했다.      1\n",
              "2         덩치 크고 쪽수 많다고 깡패처럼 덤벼도 예전처럼 당하고만 있을 우리의 체력이 아니다.      0\n",
              "3        조금만 호기심을 가지고 멈추었더라면 프레임을 벗어나 멋진 세상을 만날 수 있었을 텐데.      0\n",
              "4                  회신은 살아 생전에 다하지 못한 효도로 큰 자책감과 후회로 가득하다.      0\n",
              "...                                                   ...    ...\n",
              "178039    \"남한+북한 배우들과의 대사에서 사건의 전개, 원인 이런게 얼마나 많이 나오는데!!\"      0\n",
              "178040           아마도 평생에 걸쳐도 '정답'이라고 할 만한 것은 찾지 못할지도 모른다.      0\n",
              "178041  그리고 거기에는 아무도 없었습니다(기적처럼 느껴졌습니다). 다행히 비는 저녁이 되어...      1\n",
              "178042                   당신이 남긴 추억과 사진이 일상에 얼마나 영향을 미치나요?      1\n",
              "178043                                                  ,      0\n",
              "\n",
              "[178044 rows x 2 columns]"
            ]
          },
          "execution_count": 45,
          "metadata": {},
          "output_type": "execute_result"
        }
      ]
    },
    {
      "cell_type": "code",
      "metadata": {
        "id": "UPbDqMIUwL28"
      },
      "source": [
        "len_random_0 = _random1[_random1['label'] == 0]\n",
        "len_random_1 = _random1[_random1['label'] == 1]"
      ],
      "execution_count": null,
      "outputs": []
    },
    {
      "cell_type": "code",
      "metadata": {
        "colab": {
          "base_uri": "https://localhost:8080/"
        },
        "id": "4YZh4HKdxipZ",
        "outputId": "44c76d17-abf5-4923-e8d3-a91dd1f22028"
      },
      "source": [
        "len(len_random_0), len(len_random_1)"
      ],
      "execution_count": null,
      "outputs": [
        {
          "data": {
            "text/plain": [
              "(89022, 89022)"
            ]
          },
          "execution_count": 47,
          "metadata": {},
          "output_type": "execute_result"
        }
      ]
    },
    {
      "cell_type": "code",
      "metadata": {
        "colab": {
          "base_uri": "https://localhost:8080/",
          "height": 422
        },
        "id": "iZYRU6XpxMOI",
        "outputId": "0d4d43d7-4056-4b77-813c-bef86e1cb755"
      },
      "source": [
        "_random2"
      ],
      "execution_count": null,
      "outputs": [
        {
          "data": {
            "text/html": [
              "<div>\n",
              "<style scoped>\n",
              "    .dataframe tbody tr th:only-of-type {\n",
              "        vertical-align: middle;\n",
              "    }\n",
              "\n",
              "    .dataframe tbody tr th {\n",
              "        vertical-align: top;\n",
              "    }\n",
              "\n",
              "    .dataframe thead th {\n",
              "        text-align: right;\n",
              "    }\n",
              "</style>\n",
              "<table border=\"1\" class=\"dataframe\">\n",
              "  <thead>\n",
              "    <tr style=\"text-align: right;\">\n",
              "      <th></th>\n",
              "      <th>document</th>\n",
              "      <th>label</th>\n",
              "    </tr>\n",
              "  </thead>\n",
              "  <tbody>\n",
              "    <tr>\n",
              "      <th>0</th>\n",
              "      <td>\"다만 내 방식대로 슬프고, 기쁠 뿐이다.\"</td>\n",
              "      <td>0</td>\n",
              "    </tr>\n",
              "    <tr>\n",
              "      <th>1</th>\n",
              "      <td>\"초등학교 시절은 잘 기억이 나지 않지만, 중학교 때 피구를 한 기억은 난다.\"</td>\n",
              "      <td>0</td>\n",
              "    </tr>\n",
              "    <tr>\n",
              "      <th>2</th>\n",
              "      <td>길가다가 예쁜 곳이 있으면 다 같이 내려서 그곳을 감상한다.</td>\n",
              "      <td>0</td>\n",
              "    </tr>\n",
              "    <tr>\n",
              "      <th>3</th>\n",
              "      <td>회사를 갔다오면 그때까지 하는 수업이 없어서 못했었다..</td>\n",
              "      <td>0</td>\n",
              "    </tr>\n",
              "    <tr>\n",
              "      <th>4</th>\n",
              "      <td>내부 인테리어 중에서 눈에 띄는 것 천장에 매달린 책 조명이다.</td>\n",
              "      <td>0</td>\n",
              "    </tr>\n",
              "    <tr>\n",
              "      <th>...</th>\n",
              "      <td>...</td>\n",
              "      <td>...</td>\n",
              "    </tr>\n",
              "    <tr>\n",
              "      <th>89017</th>\n",
              "      <td>나에게 머무는성장통은앞으로도지속될 숙제와 같다,</td>\n",
              "      <td>0</td>\n",
              "    </tr>\n",
              "    <tr>\n",
              "      <th>89018</th>\n",
              "      <td>나는 정지 상태로 멀찍이 서서 한참동안 그들의 뷔페 타임을 바라보았다.</td>\n",
              "      <td>0</td>\n",
              "    </tr>\n",
              "    <tr>\n",
              "      <th>89019</th>\n",
              "      <td>어떤 체제를 자연스럽게 받아들이는 ‘순응’이라는 단어는 정말 무서운 단어라고 생각한다.</td>\n",
              "      <td>0</td>\n",
              "    </tr>\n",
              "    <tr>\n",
              "      <th>89020</th>\n",
              "      <td>작가는 자신이 글을 쓸 때의 모습을 이렇게 표현한 거구나.</td>\n",
              "      <td>0</td>\n",
              "    </tr>\n",
              "    <tr>\n",
              "      <th>89021</th>\n",
              "      <td>현재 글은 이 브런치북에 소속되어 있습니다.</td>\n",
              "      <td>0</td>\n",
              "    </tr>\n",
              "  </tbody>\n",
              "</table>\n",
              "<p>89022 rows × 2 columns</p>\n",
              "</div>"
            ],
            "text/plain": [
              "                                               document  label\n",
              "0                              \"다만 내 방식대로 슬프고, 기쁠 뿐이다.\"      0\n",
              "1          \"초등학교 시절은 잘 기억이 나지 않지만, 중학교 때 피구를 한 기억은 난다.\"      0\n",
              "2                     길가다가 예쁜 곳이 있으면 다 같이 내려서 그곳을 감상한다.      0\n",
              "3                       회사를 갔다오면 그때까지 하는 수업이 없어서 못했었다..      0\n",
              "4                   내부 인테리어 중에서 눈에 띄는 것 천장에 매달린 책 조명이다.      0\n",
              "...                                                 ...    ...\n",
              "89017                        나에게 머무는성장통은앞으로도지속될 숙제와 같다,      0\n",
              "89018           나는 정지 상태로 멀찍이 서서 한참동안 그들의 뷔페 타임을 바라보았다.      0\n",
              "89019  어떤 체제를 자연스럽게 받아들이는 ‘순응’이라는 단어는 정말 무서운 단어라고 생각한다.      0\n",
              "89020                  작가는 자신이 글을 쓸 때의 모습을 이렇게 표현한 거구나.      0\n",
              "89021                          현재 글은 이 브런치북에 소속되어 있습니다.      0\n",
              "\n",
              "[89022 rows x 2 columns]"
            ]
          },
          "execution_count": 42,
          "metadata": {},
          "output_type": "execute_result"
        }
      ]
    },
    {
      "cell_type": "code",
      "metadata": {
        "id": "jjr86wJYw1TJ"
      },
      "source": [
        "kogpt2_kcc150_3_result[kogpt2_kcc150_3_result['Label'] == 1]['ko']"
      ],
      "execution_count": null,
      "outputs": []
    },
    {
      "cell_type": "code",
      "metadata": {
        "id": "mKZBWC4Hv9DZ"
      },
      "source": [
        "sample(frac=1).reset_index(drop=True)"
      ],
      "execution_count": null,
      "outputs": []
    }
  ]
}