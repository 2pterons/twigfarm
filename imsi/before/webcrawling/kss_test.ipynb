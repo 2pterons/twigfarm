{
  "nbformat": 4,
  "nbformat_minor": 0,
  "metadata": {
    "colab": {
      "name": "kss_test.ipynb",
      "provenance": [],
      "collapsed_sections": [],
      "authorship_tag": "ABX9TyM4ohihWlq0Ta8HXHq12CC9",
      "include_colab_link": true
    },
    "kernelspec": {
      "name": "python3",
      "display_name": "Python 3"
    },
    "language_info": {
      "name": "python"
    }
  },
  "cells": [
    {
      "cell_type": "markdown",
      "metadata": {
        "id": "view-in-github",
        "colab_type": "text"
      },
      "source": [
        "<a href=\"https://colab.research.google.com/github/2pterons/twigfarm/blob/main/webcrawling/kss_test.ipynb\" target=\"_parent\"><img src=\"https://colab.research.google.com/assets/colab-badge.svg\" alt=\"Open In Colab\"/></a>"
      ]
    },
    {
      "cell_type": "code",
      "metadata": {
        "id": "4lSxayoLdpwd"
      },
      "source": [
        "import re\n",
        "import time\n",
        "import random\n",
        "import requests\n",
        "import json\n",
        "import urllib\n",
        "from bs4 import BeautifulSoup\n"
      ],
      "execution_count": 1,
      "outputs": []
    },
    {
      "cell_type": "code",
      "metadata": {
        "id": "ZmyM4PM89B8m"
      },
      "source": [
        "#profile_url = https://api.brunch.co.kr/v1/top/keyword/group/38?publishTime=1632809711000&pickContentId=\n",
        "#profile_url = 'https://api.brunch.co.kr/v1/top/keyword/group/38?publishTime=1591809711000&pickContentId='\n",
        "#https://api.brunch.co.kr/v1/top/keyword/group/38?publishTime=1632817476000&pickContentId=\n",
        "\n",
        "profile_headers = {\n",
        "     'Accept': 'application/json, text/javascript, */*; q=0.01\n",
        "    #,'Accept-Encoding': 'gzip, deflate, br'\n",
        "    #,'Accept-Language': 'ko-KR,ko;q=0.9,en-US;q=0.8,en;q=0.7'\n",
        "    #,'Connection': 'keep-alive'\n",
        "    #,'Cookie': 'ruuid=9c8aa4cf-049c-4865-a5b3-da6d39b74f0f; __T_=1; b_s_a_l=1; _T_ANO=jBAWHvc3lu6foNC3OZcHeId90Y7kXQmpRWhfNrM3m2Bn30EvSAk2QTcwegBs1bfTk8/muDXePO2M4h8HbC4fXwrOhnABqV64D0zgI28WtDjiPX0ue3AICxgB4Zwg7A1uU5P3Z5enWhQH+4x1LbQCu317q1mwJOauX/ezMowzwj+KQCmXB2kHAK4aDVzcWNh8fPQP4/oNxqQnk6SUrNXE+jTZQd80SyLLoDZZmBae8QTENphFS60XCpR0vS0zHRyg7ODBK+pXukcHddcnfFwxE1bKdyyhOrAsdLHoh5lwLKm4707omJ4pvEjwBH1Ab3LCR2SAzmdK4HlC/FHGaXJWKw=='\n",
        "    #,'Host': 'api.brunch.co.kr'\n",
        "    #,'Origin': 'https://brunch.co.kr'\n",
        "    #,'Referer': 'https://brunch.co.kr/keyword/%EC%A7%80%EA%B5%AC%ED%95%9C%EB%B0%94%ED%80%B4_%EC%84%B8%EA%B3%84%EC%97%AC%ED%96%89?q=g'\n",
        "    #,'sec-ch-ua': '\"Google Chrome\";v=\"93\", \" Not;A Brand\";v=\"99\", \"Chromium\";v=\"93\"'\n",
        "    #,'sec-ch-ua-mobile': '?0'\n",
        "    #,'sec-ch-ua-platform': '\"Windows\"'\n",
        "    #,'Sec-Fetch-Dest': 'empty'\n",
        "    #,'Sec-Fetch-Mode': 'cors'\n",
        "    #,'Sec-Fetch-Site': 'same-site'\n",
        "    ,'User-Agent': 'Mozilla/5.0 (Windows NT 10.0; Win64; x64) AppleWebKit/537.36 (KHTML, like Gecko) Chrome/93.0.4577.82 Safari/537.36'\n",
        "}\n",
        "\n",
        "int_time = 1632809711000\n",
        "str_time = [\"1632809711000\"\n",
        "          , \"1632701583000\"\n",
        "          , \"1632701582000\"\n",
        "          , \"1632791464000\"]\n",
        "\n",
        "variables = {\"publishTime\":1632809711000\n",
        "            ,\"pickContentId\":None\n",
        "}"
      ],
      "execution_count": null,
      "outputs": []
    },
    {
      "cell_type": "code",
      "metadata": {
        "colab": {
          "base_uri": "https://localhost:8080/",
          "height": 0
        },
        "id": "qRc6Dj6gdrpO",
        "outputId": "90d991cb-8717-4d22-8d81-0d3585316562"
      },
      "source": [
        "profile_url = 'https://api.brunch.co.kr/v1/top/keyword/group/38?publishTime={}&pickContentId='\n",
        "profile_headers = {'User-Agent': 'Mozilla/5.0 (Windows NT 10.0; Win64; x64) AppleWebKit/537.36 (KHTML, like Gecko) Chrome/93.0.4577.82 Safari/537.36'}\n",
        "\n",
        "int_time = 1632809711000\n",
        "str_time = \"1632809711000\"\n",
        "\n",
        "profile_list = []\n",
        "result = []\n",
        "for i in range(0, 10):\n",
        "  for j in range(0, 1):\n",
        "    profile_url = 'https://api.brunch.co.kr/v1/top/keyword/group/38?publishTime={}&pickContentId='.format(str_time)\n",
        "\n",
        "    variables = {\"publishTime\":str_time\n",
        "    }\n",
        "    profile_params = {\"variables\":json.dumps(variables)\n",
        "    }\n",
        "\n",
        "    rs = requests.get(profile_url, params=profile_params, headers=profile_headers)\n",
        "    js = json.loads(rs.text)\n",
        "      \n",
        "    delete = []\n",
        "    for t in range(0, 3):\n",
        "      profileId = js['data']['articleList'][t]['article']['profileId']\n",
        "      delete.append(profileId)\n",
        "      print(str_time)\n",
        "      for overlap in delete:\n",
        "        if overlap not in profile_list:\n",
        "          profile_list.append(overlap)\n",
        "\n",
        "      time.sleep(random.uniform(2,6))  \n",
        "      print(profile_list)\n",
        "  int_time -= 10000000000\n",
        "  str_time = str(int_time)\n",
        "  print(\"looking for the result...\")\n",
        "\n"
      ],
      "execution_count": 33,
      "outputs": [
        {
          "output_type": "stream",
          "name": "stdout",
          "text": [
            "1632809711000\n",
            "['yurikimsqt']\n",
            "1632809711000\n",
            "['yurikimsqt', '492b6b00fd3a493']\n",
            "1632809711000\n",
            "['yurikimsqt', '492b6b00fd3a493', 'jhlee885gl6']\n",
            "1622809711000\n",
            "1622809711000\n",
            "['yurikimsqt', '492b6b00fd3a493', 'jhlee885gl6', 'albert-lee']\n",
            "1622809711000\n",
            "['yurikimsqt', '492b6b00fd3a493', 'jhlee885gl6', 'albert-lee', 'sayessay']\n",
            "1622809711000\n",
            "['yurikimsqt', '492b6b00fd3a493', 'jhlee885gl6', 'albert-lee', 'sayessay', 'jjolboornot']\n",
            "1612809711000\n",
            "1612809711000\n",
            "['yurikimsqt', '492b6b00fd3a493', 'jhlee885gl6', 'albert-lee', 'sayessay', 'jjolboornot', 'jeunloves']\n",
            "1612809711000\n",
            "['yurikimsqt', '492b6b00fd3a493', 'jhlee885gl6', 'albert-lee', 'sayessay', 'jjolboornot', 'jeunloves', 'chun92qog']\n",
            "1612809711000\n",
            "['yurikimsqt', '492b6b00fd3a493', 'jhlee885gl6', 'albert-lee', 'sayessay', 'jjolboornot', 'jeunloves', 'chun92qog', 'memi2733']\n",
            "1602809711000\n",
            "1602809711000\n",
            "['yurikimsqt', '492b6b00fd3a493', 'jhlee885gl6', 'albert-lee', 'sayessay', 'jjolboornot', 'jeunloves', 'chun92qog', 'memi2733', 'moonchunje']\n",
            "1602809711000\n",
            "['yurikimsqt', '492b6b00fd3a493', 'jhlee885gl6', 'albert-lee', 'sayessay', 'jjolboornot', 'jeunloves', 'chun92qog', 'memi2733', 'moonchunje', 'firstmind97']\n",
            "1602809711000\n",
            "['yurikimsqt', '492b6b00fd3a493', 'jhlee885gl6', 'albert-lee', 'sayessay', 'jjolboornot', 'jeunloves', 'chun92qog', 'memi2733', 'moonchunje', 'firstmind97', 'yoonsohee0316']\n",
            "1592809711000\n",
            "1592809711000\n",
            "['yurikimsqt', '492b6b00fd3a493', 'jhlee885gl6', 'albert-lee', 'sayessay', 'jjolboornot', 'jeunloves', 'chun92qog', 'memi2733', 'moonchunje', 'firstmind97', 'yoonsohee0316', 'calllas']\n",
            "1592809711000\n",
            "['yurikimsqt', '492b6b00fd3a493', 'jhlee885gl6', 'albert-lee', 'sayessay', 'jjolboornot', 'jeunloves', 'chun92qog', 'memi2733', 'moonchunje', 'firstmind97', 'yoonsohee0316', 'calllas', 'boamz93']\n",
            "1592809711000\n",
            "['yurikimsqt', '492b6b00fd3a493', 'jhlee885gl6', 'albert-lee', 'sayessay', 'jjolboornot', 'jeunloves', 'chun92qog', 'memi2733', 'moonchunje', 'firstmind97', 'yoonsohee0316', 'calllas', 'boamz93', 'divewithhana']\n",
            "1582809711000\n",
            "1582809711000\n",
            "['yurikimsqt', '492b6b00fd3a493', 'jhlee885gl6', 'albert-lee', 'sayessay', 'jjolboornot', 'jeunloves', 'chun92qog', 'memi2733', 'moonchunje', 'firstmind97', 'yoonsohee0316', 'calllas', 'boamz93', 'divewithhana', 'sinbyee']\n",
            "1582809711000\n",
            "['yurikimsqt', '492b6b00fd3a493', 'jhlee885gl6', 'albert-lee', 'sayessay', 'jjolboornot', 'jeunloves', 'chun92qog', 'memi2733', 'moonchunje', 'firstmind97', 'yoonsohee0316', 'calllas', 'boamz93', 'divewithhana', 'sinbyee', 'jgo1504']\n",
            "1582809711000\n",
            "['yurikimsqt', '492b6b00fd3a493', 'jhlee885gl6', 'albert-lee', 'sayessay', 'jjolboornot', 'jeunloves', 'chun92qog', 'memi2733', 'moonchunje', 'firstmind97', 'yoonsohee0316', 'calllas', 'boamz93', 'divewithhana', 'sinbyee', 'jgo1504', 'chothetraveler']\n",
            "1572809711000\n",
            "1572809711000\n",
            "['yurikimsqt', '492b6b00fd3a493', 'jhlee885gl6', 'albert-lee', 'sayessay', 'jjolboornot', 'jeunloves', 'chun92qog', 'memi2733', 'moonchunje', 'firstmind97', 'yoonsohee0316', 'calllas', 'boamz93', 'divewithhana', 'sinbyee', 'jgo1504', 'chothetraveler', '91right']\n",
            "1572809711000\n",
            "['yurikimsqt', '492b6b00fd3a493', 'jhlee885gl6', 'albert-lee', 'sayessay', 'jjolboornot', 'jeunloves', 'chun92qog', 'memi2733', 'moonchunje', 'firstmind97', 'yoonsohee0316', 'calllas', 'boamz93', 'divewithhana', 'sinbyee', 'jgo1504', 'chothetraveler', '91right', 'dailycoffee']\n",
            "1572809711000\n",
            "['yurikimsqt', '492b6b00fd3a493', 'jhlee885gl6', 'albert-lee', 'sayessay', 'jjolboornot', 'jeunloves', 'chun92qog', 'memi2733', 'moonchunje', 'firstmind97', 'yoonsohee0316', 'calllas', 'boamz93', 'divewithhana', 'sinbyee', 'jgo1504', 'chothetraveler', '91right', 'dailycoffee', 'cys8836']\n",
            "1562809711000\n",
            "1562809711000\n",
            "['yurikimsqt', '492b6b00fd3a493', 'jhlee885gl6', 'albert-lee', 'sayessay', 'jjolboornot', 'jeunloves', 'chun92qog', 'memi2733', 'moonchunje', 'firstmind97', 'yoonsohee0316', 'calllas', 'boamz93', 'divewithhana', 'sinbyee', 'jgo1504', 'chothetraveler', '91right', 'dailycoffee', 'cys8836', 'gagoganda']\n",
            "1562809711000\n",
            "['yurikimsqt', '492b6b00fd3a493', 'jhlee885gl6', 'albert-lee', 'sayessay', 'jjolboornot', 'jeunloves', 'chun92qog', 'memi2733', 'moonchunje', 'firstmind97', 'yoonsohee0316', 'calllas', 'boamz93', 'divewithhana', 'sinbyee', 'jgo1504', 'chothetraveler', '91right', 'dailycoffee', 'cys8836', 'gagoganda', 'fbgksqja1']\n",
            "1562809711000\n",
            "['yurikimsqt', '492b6b00fd3a493', 'jhlee885gl6', 'albert-lee', 'sayessay', 'jjolboornot', 'jeunloves', 'chun92qog', 'memi2733', 'moonchunje', 'firstmind97', 'yoonsohee0316', 'calllas', 'boamz93', 'divewithhana', 'sinbyee', 'jgo1504', 'chothetraveler', '91right', 'dailycoffee', 'cys8836', 'gagoganda', 'fbgksqja1', 'nellyinvan']\n",
            "1552809711000\n",
            "1552809711000\n",
            "['yurikimsqt', '492b6b00fd3a493', 'jhlee885gl6', 'albert-lee', 'sayessay', 'jjolboornot', 'jeunloves', 'chun92qog', 'memi2733', 'moonchunje', 'firstmind97', 'yoonsohee0316', 'calllas', 'boamz93', 'divewithhana', 'sinbyee', 'jgo1504', 'chothetraveler', '91right', 'dailycoffee', 'cys8836', 'gagoganda', 'fbgksqja1', 'nellyinvan', 'eunbinkim']\n",
            "1552809711000\n",
            "['yurikimsqt', '492b6b00fd3a493', 'jhlee885gl6', 'albert-lee', 'sayessay', 'jjolboornot', 'jeunloves', 'chun92qog', 'memi2733', 'moonchunje', 'firstmind97', 'yoonsohee0316', 'calllas', 'boamz93', 'divewithhana', 'sinbyee', 'jgo1504', 'chothetraveler', '91right', 'dailycoffee', 'cys8836', 'gagoganda', 'fbgksqja1', 'nellyinvan', 'eunbinkim', 'heayoungchoi']\n",
            "1552809711000\n",
            "['yurikimsqt', '492b6b00fd3a493', 'jhlee885gl6', 'albert-lee', 'sayessay', 'jjolboornot', 'jeunloves', 'chun92qog', 'memi2733', 'moonchunje', 'firstmind97', 'yoonsohee0316', 'calllas', 'boamz93', 'divewithhana', 'sinbyee', 'jgo1504', 'chothetraveler', '91right', 'dailycoffee', 'cys8836', 'gagoganda', 'fbgksqja1', 'nellyinvan', 'eunbinkim', 'heayoungchoi', 'endofcave']\n",
            "1542809711000\n",
            "1542809711000\n",
            "['yurikimsqt', '492b6b00fd3a493', 'jhlee885gl6', 'albert-lee', 'sayessay', 'jjolboornot', 'jeunloves', 'chun92qog', 'memi2733', 'moonchunje', 'firstmind97', 'yoonsohee0316', 'calllas', 'boamz93', 'divewithhana', 'sinbyee', 'jgo1504', 'chothetraveler', '91right', 'dailycoffee', 'cys8836', 'gagoganda', 'fbgksqja1', 'nellyinvan', 'eunbinkim', 'heayoungchoi', 'endofcave', 'rowin']\n",
            "1542809711000\n",
            "['yurikimsqt', '492b6b00fd3a493', 'jhlee885gl6', 'albert-lee', 'sayessay', 'jjolboornot', 'jeunloves', 'chun92qog', 'memi2733', 'moonchunje', 'firstmind97', 'yoonsohee0316', 'calllas', 'boamz93', 'divewithhana', 'sinbyee', 'jgo1504', 'chothetraveler', '91right', 'dailycoffee', 'cys8836', 'gagoganda', 'fbgksqja1', 'nellyinvan', 'eunbinkim', 'heayoungchoi', 'endofcave', 'rowin', 'hopeingyu']\n",
            "1542809711000\n",
            "['yurikimsqt', '492b6b00fd3a493', 'jhlee885gl6', 'albert-lee', 'sayessay', 'jjolboornot', 'jeunloves', 'chun92qog', 'memi2733', 'moonchunje', 'firstmind97', 'yoonsohee0316', 'calllas', 'boamz93', 'divewithhana', 'sinbyee', 'jgo1504', 'chothetraveler', '91right', 'dailycoffee', 'cys8836', 'gagoganda', 'fbgksqja1', 'nellyinvan', 'eunbinkim', 'heayoungchoi', 'endofcave', 'rowin', 'hopeingyu', 'nam90716']\n",
            "1532809711000\n"
          ]
        }
      ]
    },
    {
      "cell_type": "code",
      "metadata": {
        "id": "XkRwxieQDJi_"
      },
      "source": [
        "headers={\n",
        "     'Accept':'text/html,application/xhtml+xml,application/xml;q=0.9,image/avif,image/webp,image/apng,*/*;q=0.8,application/signed-exchange;v=b3;q=0.9'\n",
        "    #,'Accept-Encoding':'gzip, deflate, br'\n",
        "    #,'Accept-Language':'ko-KR,ko;q=0.9,en-US;q=0.8,en;q=0.7'\n",
        "    ,'Cache-Control':'no-cache'\n",
        "    ,'Connection':'keep-alive'\n",
        "    #,'Cookie':'__T_=1; ruuid=9c8aa4cf-049c-4865-a5b3-da6d39b74f0f; __T_=1; ja_bt=7eF1DYRbLy8LCLcy:1632902835; _T_ANO=U0BDY5QZlDpjoFX3x2/87CZvfXV3eG7HBLPFHHq79re15xotP1EOkSR0+r4hnINFLGeqpmD6TzJ6bw6Ns68PKHjdEl8+quGMFMJQpnk5yAkbyG5QLOXxuYLm/ULoGhqFCOH+PEEboxkWO585XPbCnAg+NYBSTXobrj5KJm5/JTpnIuogMA5yhwml8lDjUR6l2y16803nY87GM/5NTic8tqJcpUgRw6W1geOz0VcUCmNYQqjLcjjehUrEsXugWx3oqvZ/tz8Yqjj6LSEfYTvFnAXuhCJ1cxFccmgayYPs2DDHkUQyko9Qxbk9GMq15g3Ol0AKrhwIHUxHFOYxZ24s1A=='\n",
        "    ,'Host':'brunch.co.kr'\n",
        "    ,'Pragma':'no-cache'\n",
        "    ,'Referer':'https://brunch.co.kr/keyword/%EC%A7%80%EA%B5%AC%ED%95%9C%EB%B0%94%ED%80%B4_%EC%84%B8%EA%B3%84%EC%97%AC%ED%96%89?q=g'\n",
        "    #,'sec-ch-ua':'\"Google Chrome\";v=\"93\", \" Not;A Brand\";v=\"99\", \"Chromium\";v=\"93\"'\n",
        "    #,'sec-ch-ua-mobile':'?0'\n",
        "    #,'sec-ch-ua-platform': '\"Windows\"'\n",
        "    #,'Sec-Fetch-Dest':'document'\n",
        "    #,'Sec-Fetch-Mode':'navigate'\n",
        "    #,'Sec-Fetch-Site':'same-origin'\n",
        "    #,'Sec-Fetch-User':'?1'\n",
        "    #,'Upgrade-Insecure-Requests': '1'\n",
        "    ,'User-Agent': 'Mozilla/5.0 (Windows NT 10.0; Win64; x64) AppleWebKit/537.36 (KHTML, like Gecko) Chrome/93.0.4577.82 Safari/537.36'\n",
        "\n",
        "}   "
      ],
      "execution_count": null,
      "outputs": []
    },
    {
      "cell_type": "code",
      "metadata": {
        "colab": {
          "base_uri": "https://localhost:8080/",
          "height": 0
        },
        "id": "kG5b5kC1EM-B",
        "outputId": "523ea9f1-82e1-4d37-b727-e1aab356ff5f"
      },
      "source": [
        "profile_list"
      ],
      "execution_count": 53,
      "outputs": [
        {
          "output_type": "execute_result",
          "data": {
            "text/plain": [
              "['yurikimsqt',\n",
              " '492b6b00fd3a493',\n",
              " 'jhlee885gl6',\n",
              " 'albert-lee',\n",
              " 'sayessay',\n",
              " 'jjolboornot',\n",
              " 'jeunloves',\n",
              " 'chun92qog',\n",
              " 'memi2733',\n",
              " 'moonchunje',\n",
              " 'firstmind97',\n",
              " 'yoonsohee0316',\n",
              " 'calllas',\n",
              " 'boamz93',\n",
              " 'divewithhana',\n",
              " 'sinbyee',\n",
              " 'jgo1504',\n",
              " 'chothetraveler',\n",
              " '91right',\n",
              " 'dailycoffee',\n",
              " 'cys8836',\n",
              " 'gagoganda',\n",
              " 'fbgksqja1',\n",
              " 'nellyinvan',\n",
              " 'eunbinkim',\n",
              " 'heayoungchoi',\n",
              " 'endofcave',\n",
              " 'rowin',\n",
              " 'hopeingyu',\n",
              " 'nam90716']"
            ]
          },
          "metadata": {},
          "execution_count": 53
        }
      ]
    },
    {
      "cell_type": "code",
      "metadata": {
        "colab": {
          "base_uri": "https://localhost:8080/",
          "height": 0
        },
        "id": "jmYObX2gezn4",
        "outputId": "497bd373-8b8e-4f77-de1a-4187a90a56f2"
      },
      "source": [
        "for _q in profile_list:\n",
        "  q = urllib.parse.quote(_q)\n",
        "  for g in range(1, 3):\n",
        "    variables = {\"q\":_q\n",
        "                ,\"g\":g}\n",
        "    params = {\"variables\":variables}\n",
        "\n",
        "    url = \"https://brunch.co.kr/@{}/{}\".format(q,g)\n",
        "    headers={\n",
        "        'User-Agent':'Mozilla/5.0 (Windows NT 10.0; Win64; x64) AppleWebKit/537.36 (KHTML, like Gecko) Chrome/93.0.4577.82 Safari/537.36'\n",
        "    }\n",
        "    \n",
        "    response = requests.get(url, params=params, headers=headers)\n",
        "\n",
        "    if response.status_code == 200:\n",
        "      html = response.text\n",
        "      bs = BeautifulSoup(html, 'html.parser')\n",
        "      print(\"profileId : \",q,\",\", \"현재 페이지 :\",g)\n",
        "      # 크롤러 위장\n",
        "      time.sleep(random.uniform(2,6)) \n",
        "\n",
        "    else : \n",
        "        print(response.status_code)\n",
        "        break\n",
        "\n",
        "    result_h4 = []\n",
        "    h4 = bs.select('h4')\n",
        "\n",
        "    if h4 == None:\n",
        "      print(\"h4 태그에 해당하는 데이터가 없습니다.\")\n",
        "      \n",
        "    for x in range(0, len(h4)):\n",
        "        str_h4 = h4[x].find_all(string=True)\n",
        "        replace('\\'', '', str_h4)"
      ],
      "execution_count": null,
      "outputs": [
        {
          "output_type": "stream",
          "name": "stdout",
          "text": [
            "404\n",
            "profileId :  492b6b00fd3a493 현재 페이지 : 1\n",
            "profileId :  492b6b00fd3a493 현재 페이지 : 2\n",
            "404\n",
            "profileId :  albert-lee 현재 페이지 : 1\n",
            "profileId :  albert-lee 현재 페이지 : 2\n",
            "404\n",
            "profileId :  jjolboornot 현재 페이지 : 1\n",
            "profileId :  jjolboornot 현재 페이지 : 2\n",
            "profileId :  jeunloves 현재 페이지 : 1\n",
            "profileId :  jeunloves 현재 페이지 : 2\n",
            "profileId :  chun92qog 현재 페이지 : 1\n",
            "profileId :  chun92qog 현재 페이지 : 2\n",
            "profileId :  memi2733 현재 페이지 : 1\n",
            "profileId :  memi2733 현재 페이지 : 2\n",
            "profileId :  moonchunje 현재 페이지 : 1\n",
            "profileId :  moonchunje 현재 페이지 : 2\n",
            "profileId :  firstmind97 현재 페이지 : 1\n",
            "profileId :  firstmind97 현재 페이지 : 2\n",
            "404\n",
            "profileId :  calllas 현재 페이지 : 1\n",
            "404\n",
            "profileId :  boamz93 현재 페이지 : 1\n",
            "profileId :  boamz93 현재 페이지 : 2\n",
            "profileId :  divewithhana 현재 페이지 : 1\n",
            "profileId :  divewithhana 현재 페이지 : 2\n",
            "profileId :  sinbyee 현재 페이지 : 1\n",
            "profileId :  sinbyee 현재 페이지 : 2\n",
            "profileId :  jgo1504 현재 페이지 : 1\n",
            "404\n",
            "404\n",
            "404\n",
            "profileId :  dailycoffee 현재 페이지 : 1\n"
          ]
        }
      ]
    },
    {
      "cell_type": "code",
      "metadata": {
        "colab": {
          "base_uri": "https://localhost:8080/",
          "height": 0
        },
        "id": "pd7Kv8NrHGOk",
        "outputId": "1f4f42b2-c996-4a88-b11e-a12d3d2c3ce8"
      },
      "source": [
        "profile_list"
      ],
      "execution_count": 74,
      "outputs": [
        {
          "output_type": "execute_result",
          "data": {
            "text/plain": [
              "['yurikimsqt',\n",
              " '492b6b00fd3a493',\n",
              " 'jhlee885gl6',\n",
              " 'albert-lee',\n",
              " 'sayessay',\n",
              " 'jjolboornot',\n",
              " 'jeunloves',\n",
              " 'chun92qog',\n",
              " 'memi2733',\n",
              " 'moonchunje',\n",
              " 'firstmind97',\n",
              " 'yoonsohee0316',\n",
              " 'calllas',\n",
              " 'boamz93',\n",
              " 'divewithhana',\n",
              " 'sinbyee',\n",
              " 'jgo1504',\n",
              " 'chothetraveler',\n",
              " '91right',\n",
              " 'dailycoffee',\n",
              " 'cys8836',\n",
              " 'gagoganda',\n",
              " 'fbgksqja1',\n",
              " 'nellyinvan',\n",
              " 'eunbinkim',\n",
              " 'heayoungchoi',\n",
              " 'endofcave',\n",
              " 'rowin',\n",
              " 'hopeingyu',\n",
              " 'nam90716']"
            ]
          },
          "metadata": {},
          "execution_count": 74
        }
      ]
    },
    {
      "cell_type": "code",
      "metadata": {
        "colab": {
          "base_uri": "https://localhost:8080/",
          "height": 0
        },
        "id": "_pvx_uMrFuRP",
        "outputId": "860cefa4-30dc-4ac9-9b40-4dd0c9aced1c"
      },
      "source": [
        "url = \"https://brunch.co.kr/@{}/{}\".format(profile_list[3],22)\n",
        "headers={\n",
        "        'User-Agent':'Mozilla/5.0 (Windows NT 10.0; Win64; x64) AppleWebKit/537.36 (KHTML, like Gecko) Chrome/93.0.4577.82 Safari/537.36'\n",
        "}\n",
        "q = urllib.parse.quote(profile_list[2])\n",
        "variables = {\"q\":q\n",
        "            ,\"g\":\"22\"}\n",
        "params = {\"variables\":variables}\n",
        "\n",
        "response = requests.get(url, params=params, headers=headers)\n",
        "html = response.text\n",
        "bs = BeautifulSoup(html, 'html.parser')\n",
        "\n",
        "print(response.status_code)\n",
        "\n",
        "result_h4 = []\n",
        "h4 = bs.select('h4')\n"
      ],
      "execution_count": 123,
      "outputs": [
        {
          "output_type": "stream",
          "name": "stdout",
          "text": [
            "200\n"
          ]
        }
      ]
    },
    {
      "cell_type": "code",
      "metadata": {
        "id": "g3ExF9n4ffts"
      },
      "source": [
        "bs_p = bs.find_all('p')\n"
      ],
      "execution_count": 134,
      "outputs": []
    },
    {
      "cell_type": "code",
      "metadata": {
        "id": "N2qvZg9AfehW"
      },
      "source": [
        "for x in range(0, len(h4)):\n",
        "  str_h4 = h4[x].find_all(string=True)\n",
        "  replace('\\'', '', str_h4)\n",
        "\n"
      ],
      "execution_count": null,
      "outputs": []
    },
    {
      "cell_type": "code",
      "metadata": {
        "colab": {
          "base_uri": "https://localhost:8080/"
        },
        "id": "RMkzoI6qrFQQ",
        "outputId": "c71886ae-83b6-44a7-9774-335cb4188af4"
      },
      "source": [
        "%pip install nltk"
      ],
      "execution_count": 179,
      "outputs": [
        {
          "output_type": "stream",
          "name": "stdout",
          "text": [
            "Requirement already satisfied: nltk in /usr/local/lib/python3.7/dist-packages (3.2.5)\n",
            "Requirement already satisfied: six in /usr/local/lib/python3.7/dist-packages (from nltk) (1.15.0)\n"
          ]
        }
      ]
    },
    {
      "cell_type": "code",
      "metadata": {
        "id": "XpZmxP1opFPy"
      },
      "source": [
        "import nltk\n",
        "from nltk.tokenize import sent_tokenize\n",
        "from nltk.tokenize import LineTokenizer, SpaceTokenizer, TweetToeknizer\n",
        "\n",
        "from nltk import word_tokenize\n",
        "\n",
        "line_tokenize = LineTokenizer()\n",
        "print('Line:', line_tokenize(cleaned_data))"
      ],
      "execution_count": null,
      "outputs": []
    },
    {
      "cell_type": "code",
      "metadata": {
        "id": "SLQFdLFZq8mL"
      },
      "source": [
        "nltk.download('punkt')\n",
        "\n",
        "sent_data = sent_tokenize(cleaned_data)\n",
        "print(sent_data)"
      ],
      "execution_count": null,
      "outputs": []
    },
    {
      "cell_type": "code",
      "metadata": {
        "colab": {
          "base_uri": "https://localhost:8080/"
        },
        "id": "8TLeA03qBgvk",
        "outputId": "c5b3490b-e2ac-4cb1-8413-74d32e2823ce"
      },
      "source": [
        "%pip install kss\n",
        "import kss\n",
        "data = str(bs.find_all('p'))"
      ],
      "execution_count": 190,
      "outputs": [
        {
          "output_type": "stream",
          "name": "stdout",
          "text": [
            "Requirement already satisfied: kss in /usr/local/lib/python3.7/dist-packages (3.2.0)\n",
            "Requirement already satisfied: emoji in /usr/local/lib/python3.7/dist-packages (from kss) (1.5.0)\n"
          ]
        }
      ]
    },
    {
      "cell_type": "code",
      "metadata": {
        "id": "mt-mKvtcDD0s"
      },
      "source": [
        ""
      ],
      "execution_count": null,
      "outputs": []
    },
    {
      "cell_type": "code",
      "metadata": {
        "colab": {
          "base_uri": "https://localhost:8080/"
        },
        "id": "SCpQSZ4_CSZb",
        "outputId": "089a5f87-e453-44b0-d82e-7daff47fc87d"
      },
      "source": [
        "p = bs.find_all('p')\n",
        "result = []\n",
        "\n",
        "for s in p:\n",
        "  s = s.get_text().strip()\n",
        "\n",
        "  if len(s) != 0:\n",
        "    result.append(s)\n",
        "\n",
        "for sent in result:\n",
        "  for sent in kss.split_sentences(sent):\n",
        "    print(sent)"
      ],
      "execution_count": 197,
      "outputs": [
        {
          "output_type": "stream",
          "name": "stdout",
          "text": [
            "You can make anythingby writing\n",
            "- C.S.Lewis -\n",
            "다섯째날의 이야기 (2)\n",
            "제네바라는 공간\n",
            "제네바에서 취리히까지 가는 열차는 하루에도 30편 넘게, 한 시간에 두 대 꼴로 운행한다.\n",
            "스위스패스를 가지고 있다면 하루 중 언제라도 열차에 올라탈 수 있었다.\n",
            "저녁때 취리히에서 따로 계획한 일정은 없었기 때문에 서둘러 출발할 필요도 없었다.\n",
            "그래도 다섯 시쯤이면 날이 저무는 만큼 점심을 먹고 호숫가를 조금 더 산책하다가 늦지 않게 떠나기로 했다.\n",
            "하긴, 취리히는 제네바보다 북동쪽에 있어서 해가 더 일찍 질 테니 (그래봤자 15분 차이이다). 마트 밖으로 나와 론 거리를 걸으며 기차 시간을 알아보았다.\n",
            "여유있게 2시 15분 열차를 타서 5시쯤 취리히에 도착하는 일정이었다.\n",
            "벤치에 앉아서 레만 호수와 론 강을 바라보며 월요일 점심시간의 북적이는 인파를 멍하니 바라보았다.\n",
            "지난 여름의 내게 제네바가 다소 불완전한 공간으로 남았다면, 이 겨울날의 제네바는 익숙하면서도 낯선 공간으로 남을 것이다.\n",
            "사실 '익숙하면서도 낯섦'은 '불완전함'의 또 다른 표현이긴 하지만.\n",
            "그때의 나는 프랑스어를 거의 구사하지 못했지만, 지금의 나는 프랑스어를 어느 정도 이해하고 구사할 수 있다.\n",
            "그때의 나는 추워진 여름 날씨 탓에 몸이 아픈 상태였지만, 지금의 나는 생각보다 덜 추운 겨울 날씨 덕에 활기차고 편안한 상태이다.\n",
            "그때의 나에게 제네바는 프랑스에서 스위스로 넘어가는 길목에서 잠깐 머무는 공간이었지만, 지금의 나에게 제네바는 5일간 머물면서 스위스와 프랑스 곳곳을 여행할 수 있었던 '중심'이라는 속성의 공간이다.\n",
            "그러나 그때의 내가 레만 호수와 제토 분수를 치열하게 그리워했듯이, 지금의 나도 레만 호수와 제토 분수를 치열하게 그리워할 것이다.\n",
            "그리고 그때의 나에게 제네바는 프랑스어가 사용되는 마지막 여행지였듯이, 지금의 나에게도 제네바는 프랑스어가 사용되는 마지막 여행지가 될 것이다.\n",
            "여름의 나는 체르마트를 향했고, 겨울의 나는 취리히를 향하기 때문이다.\n",
            "두 언어의 경계에 대하여\n",
            "코르나뱅 중앙역의 미그로(Migros) 마트에 들러 열차에서 먹을 간식거리를 샀다.\n",
            "취리히에서 저녁을 거를 생각도 없지는 않아서, 달리는 기차에서 천천히 한 입씩 베어먹을 수 있는 거대 프레첼을 준비했다.\n",
            "계산대 직원에게 마지막으로 '메르시'를 외치고 플랫폼으로 나갔더니 벌써부터 많은 사람들이 열차를 기다리고 있었다.\n",
            "캐리어를 끌고 짐을 잔뜩 가져온 사람들도 꽤 있었다.\n",
            "스위스에서 가장 큰 두 도시를 이어주는 열차인 만큼 시발역부터 탑승객이 많았다.\n",
            "물론 좌석이 워낙 많아서 열차 안은 굉장히 여유롭긴 했지만 (스위스 열차는 특별히 좌석예약을 하지 않는 한 대부분 원하는 자리에 자유롭게 앉을 수 있다).\n",
            "운이 좋게도 내가 찾아 들어간 칸에는 사람이 거의 없었다.\n",
            "덕분에 마주보고 앉는 4자리 좌석을 혼자서 차지하고 짐까지 놓을 수 있었다.\n",
            "사람들이 많이 타기 시작하면 그때 캐리어를 짐칸에 놓고 자리를 양보하기로 했다.\n",
            "열차가 코르나뱅 역을 떠나는 동안 SBB 앱에 들어가서 열차 시간표를 살펴보며 역 이름을 하나하나 읊어 보았다.\n",
            "제네바 코르나뱅 Genève-Cornavin, 14시 15분\n",
            "모르주 Morges, 14시 41분\n",
            "이베르동레뱅 Yverdon-les-Bains, 15시 05분\n",
            "뇌샤텔 Neuchâtel, 15시 24분\n",
            "빌/비엔느 Biel/Bienne, 15시 43분\n",
            "졸로투른 Solothurn, 15시 59분\n",
            "올텐 Olten, 16시 18분\n",
            "아라우 Aarau, 16시 29분\n",
            "취리히 Zürich, 16시 56분\n",
            "공식적으로 이중 언어를 사용하는 빌/비엔느를 지나면서부터 지명이 프랑스어에서 독일어로 바뀐다.\n",
            "지난 여름, 제네바를 떠나 체르마트를 향하는 열차에서 한참을 자다가 안내방송 소리에 깼을 때 \"Prochain arrêt (프랑스어로 '다음 역은~')\"이라는 표현을 선명하게 들었다. 하지만 방송이 끝나고 불과 몇 분정도만 잠들었을 뿐인데 터널 안에서 낯선 목소리가 들려왔다.\n",
            "소스라치게 놀라서 잠이 완전히 달아나버렸다.\n",
            "\"Nächster halt: Leuk\"\n",
            "독일어로 \"다음 역은 로이크입니다\"라는 뜻이었다.\n",
            "열차 안의 안내방송조차 프랑스어에서 독일어로 한순간에 바뀐 것이었다.\n",
            "익숙했던 \"프호셴아헤\"가 사라지고 \"네이스터할트\"라는 낯선 표현이 들려온 그곳은 바로, 프랑스어와 독일어 사용 지역의 경계를 형성하는 뢰스티그라벤(Röstigraben)이라는 가상의 선이었다.\n",
            "스위스의 전통 요리 뢰스티(Rösti)에서 유래했다고 하는 뢰스티그라벤은 프랑스어권 스위스와 독일어권 스위스를 언어적으로뿐만 아니라 정치적, 경제적, 문화적으로 구분한다.\n",
            "교통과 통신이 발달한 현재까지도 두 지역간의 차이는 두드러지게 나타나서, 실제로 정치적 안건에 대한 국민투표 결과를 지도상에 나타나면 뢰스티그라벤이 자연스레 그려질 때도 있다고 한다.\n",
            "바젤 남서쪽 쥐라(Jura) 계곡에서 뇌샤텔 호수 동쪽을 거쳐 프리부르(Fribourg/Freiburg)까지 내려온 후, 베른 알프스와 발레 알프스를 거쳐 마터호른 서쪽에서 끝이 난다.\n",
            "인터넷 지도를 검색하다 보면 어느 지점에서는 길의 명칭이 왼쪽은 프랑스어, 오른쪽은 독일어로 표시되어 있는 경우가 있는데, 대체로 이곳이 행정경계를 기준으로 하는 뢰스티그라벤이다.\n",
            "오늘도 나는 취리히까지 한 시간을 남겨두고 빌/비엔느에서 그 경계선을 넘게 되겠지.\n",
            "취리히행 열차 안에서\n",
            "열차 진행방향의 오른쪽에 앉은 것은 정말로 탁월한 선택이었다.\n",
            "레만 호수와 뇌샤텔 호수, 빌 호수 모두 철길의 오른쪽에서 알프스의 진풍경을 만들어내고 있었다.\n",
            "그 뒤편으로 보이는 알프스 고봉들과 함께. 코르나뱅 역에서 준비해 온 프레첼과 과일주스를 꺼내 알프스의 풍경을 바라보며 천천히 음미한다.\n",
            "그러면서 지난 5일간의 여행에 대해 차근차근 메모장에 기록하고, 다음의 세 가지 심오한 질문도 함께 적어본다.\n",
            "1) 이번 여행에서 '공간'이 내게 의미하는 바는 무엇인가?\n",
            "2) 이번 여행에서 '경계선'이 내게 의미하는 바는 무엇인가?\n",
            "3) 이번 여행에서 '프랑스어'가 내게 의미하는 바는 무엇인가?\n",
            "솔직하지 못한 ‘나’의 이야기를 씁니다.\n",
            "여행과 프랑스어를 사랑하는 20대 청년.\n",
            "현재 글은 이 브런치북에 소속되어 있습니다.\n"
          ]
        }
      ]
    },
    {
      "cell_type": "code",
      "metadata": {
        "id": "uSSMQ86wkWVX"
      },
      "source": [
        "p = bs.find_all('p')\n",
        "result = []\n",
        "\n",
        "for s in p:\n",
        "  s = s.get_text().strip()\n",
        "  if len(s) != 0:\n",
        "    result.append(s)"
      ],
      "execution_count": 180,
      "outputs": []
    },
    {
      "cell_type": "code",
      "metadata": {
        "colab": {
          "base_uri": "https://localhost:8080/"
        },
        "id": "ij1UmA-Crzkl",
        "outputId": "4fa75168-4d60-4205-8431-0d2f1e62b76d"
      },
      "source": [
        "\n",
        ".replace('.\\s', '\\n', result)"
      ],
      "execution_count": 182,
      "outputs": [
        {
          "output_type": "execute_result",
          "data": {
            "text/plain": [
              "['You can make anythingby writing',\n",
              " '- C.S.Lewis -',\n",
              " '다섯째날의 이야기 (2)',\n",
              " '제네바라는 공간',\n",
              " '제네바에서 취리히까지 가는 열차는 하루에도 30편 넘게, 한 시간에 두 대 꼴로 운행한다. 스위스패스를 가지고 있다면 하루 중 언제라도 열차에 올라탈 수 있었다. 저녁때 취리히에서 따로 계획한 일정은 없었기 때문에 서둘러 출발할 필요도 없었다. 그래도 다섯 시쯤이면 날이 저무는 만큼 점심을 먹고 호숫가를 조금 더 산책하다가 늦지 않게 떠나기로 했다. 하긴, 취리히는 제네바보다 북동쪽에 있어서 해가 더 일찍 질 테니 (그래봤자 15분 차이이다). 마트 밖으로 나와 론 거리를 걸으며 기차 시간을 알아보았다. 여유있게 2시 15분 열차를 타서 5시쯤 취리히에 도착하는 일정이었다.',\n",
              " \"벤치에 앉아서 레만 호수와 론 강을 바라보며 월요일 점심시간의 북적이는 인파를 멍하니 바라보았다. 지난 여름의 내게 제네바가 다소 불완전한 공간으로 남았다면, 이 겨울날의 제네바는 익숙하면서도 낯선 공간으로 남을 것이다. 사실 '익숙하면서도 낯섦'은 '불완전함'의 또 다른 표현이긴 하지만.\",\n",
              " '그때의 나는 프랑스어를 거의 구사하지 못했지만, 지금의 나는 프랑스어를 어느 정도 이해하고 구사할 수 있다.',\n",
              " '그때의 나는 추워진 여름 날씨 탓에 몸이 아픈 상태였지만, 지금의 나는 생각보다 덜 추운 겨울 날씨 덕에 활기차고 편안한 상태이다.',\n",
              " \"그때의 나에게 제네바는 프랑스에서 스위스로 넘어가는 길목에서 잠깐 머무는 공간이었지만, 지금의 나에게 제네바는 5일간 머물면서 스위스와 프랑스 곳곳을 여행할 수 있었던 '중심'이라는 속성의 공간이다.\",\n",
              " '그러나 그때의 내가 레만 호수와 제토 분수를 치열하게 그리워했듯이, 지금의 나도 레만 호수와 제토 분수를 치열하게 그리워할 것이다.',\n",
              " '그리고 그때의 나에게 제네바는 프랑스어가 사용되는 마지막 여행지였듯이, 지금의 나에게도 제네바는 프랑스어가 사용되는 마지막 여행지가 될 것이다. 여름의 나는 체르마트를 향했고, 겨울의 나는 취리히를 향하기 때문이다.',\n",
              " '두 언어의 경계에 대하여',\n",
              " \"코르나뱅 중앙역의 미그로(Migros) 마트에 들러 열차에서 먹을 간식거리를 샀다. 취리히에서 저녁을 거를 생각도 없지는 않아서, 달리는 기차에서 천천히 한 입씩 베어먹을 수 있는 거대 프레첼을 준비했다. 계산대 직원에게 마지막으로 '메르시'를 외치고 플랫폼으로 나갔더니 벌써부터 많은 사람들이 열차를 기다리고 있었다. 캐리어를 끌고 짐을 잔뜩 가져온 사람들도 꽤 있었다. 스위스에서 가장 큰 두 도시를 이어주는 열차인 만큼 시발역부터 탑승객이 많았다. 물론 좌석이 워낙 많아서 열차 안은 굉장히 여유롭긴 했지만 (스위스 열차는 특별히 좌석예약을 하지 않는 한 대부분 원하는 자리에 자유롭게 앉을 수 있다).\",\n",
              " '운이 좋게도 내가 찾아 들어간 칸에는 사람이 거의 없었다. 덕분에 마주보고 앉는 4자리 좌석을 혼자서 차지하고 짐까지 놓을 수 있었다. 사람들이 많이 타기 시작하면 그때 캐리어를 짐칸에 놓고 자리를 양보하기로 했다. 열차가 코르나뱅 역을 떠나는 동안 SBB 앱에 들어가서 열차 시간표를 살펴보며 역 이름을 하나하나 읊어 보았다.',\n",
              " '제네바 코르나뱅 Genève-Cornavin, 14시 15분',\n",
              " '모르주 Morges, 14시 41분',\n",
              " '이베르동레뱅 Yverdon-les-Bains, 15시 05분',\n",
              " '뇌샤텔 Neuchâtel, 15시 24분',\n",
              " '빌/비엔느 Biel/Bienne, 15시 43분',\n",
              " '졸로투른 Solothurn, 15시 59분',\n",
              " '올텐 Olten, 16시 18분',\n",
              " '아라우 Aarau, 16시 29분',\n",
              " '취리히 Zürich, 16시 56분',\n",
              " '공식적으로 이중 언어를 사용하는 빌/비엔느를 지나면서부터 지명이 프랑스어에서 독일어로 바뀐다. 지난 여름, 제네바를 떠나 체르마트를 향하는 열차에서 한참을 자다가 안내방송 소리에 깼을 때 \"Prochain arrêt (프랑스어로 \\'다음 역은~\\')\"이라는 표현을 선명하게 들었다. 하지만 방송이 끝나고 불과 몇 분정도만 잠들었을 뿐인데 터널 안에서 낯선 목소리가 들려왔다. 소스라치게 놀라서 잠이 완전히 달아나버렸다.',\n",
              " '\"Nächster halt: Leuk\"',\n",
              " '독일어로 \"다음 역은 로이크입니다\"라는 뜻이었다. 열차 안의 안내방송조차 프랑스어에서 독일어로 한순간에 바뀐 것이었다. 익숙했던 \"프호셴아헤\"가 사라지고 \"네이스터할트\"라는 낯선 표현이 들려온 그곳은 바로, 프랑스어와 독일어 사용 지역의 경계를 형성하는 뢰스티그라벤(Röstigraben)이라는 가상의 선이었다.',\n",
              " '스위스의 전통 요리 뢰스티(Rösti)에서 유래했다고 하는 뢰스티그라벤은 프랑스어권 스위스와 독일어권 스위스를 언어적으로뿐만 아니라 정치적, 경제적, 문화적으로 구분한다. 교통과 통신이 발달한 현재까지도 두 지역간의 차이는 두드러지게 나타나서, 실제로 정치적 안건에 대한 국민투표 결과를 지도상에 나타나면 뢰스티그라벤이 자연스레 그려질 때도 있다고 한다. 바젤 남서쪽 쥐라(Jura) 계곡에서 뇌샤텔 호수 동쪽을 거쳐 프리부르(Fribourg/Freiburg)까지 내려온 후, 베른 알프스와 발레 알프스를 거쳐 마터호른 서쪽에서 끝이 난다. 인터넷 지도를 검색하다 보면 어느 지점에서는 길의 명칭이 왼쪽은 프랑스어, 오른쪽은 독일어로 표시되어 있는 경우가 있는데, 대체로 이곳이 행정경계를 기준으로 하는 뢰스티그라벤이다.',\n",
              " '오늘도 나는 취리히까지 한 시간을 남겨두고 빌/비엔느에서 그 경계선을 넘게 되겠지.',\n",
              " '취리히행 열차 안에서',\n",
              " '열차 진행방향의 오른쪽에 앉은 것은 정말로 탁월한 선택이었다. 레만 호수와 뇌샤텔 호수, 빌 호수 모두 철길의 오른쪽에서 알프스의 진풍경을 만들어내고 있었다. 그 뒤편으로 보이는 알프스 고봉들과 함께. 코르나뱅 역에서 준비해 온 프레첼과 과일주스를 꺼내 알프스의 풍경을 바라보며 천천히 음미한다. 그러면서 지난 5일간의 여행에 대해 차근차근 메모장에 기록하고, 다음의 세 가지 심오한 질문도 함께 적어본다.',\n",
              " \"1) 이번 여행에서 '공간'이 내게 의미하는 바는 무엇인가?\",\n",
              " \"2) 이번 여행에서 '경계선'이 내게 의미하는 바는 무엇인가?\",\n",
              " \"3) 이번 여행에서 '프랑스어'가 내게 의미하는 바는 무엇인가?\",\n",
              " '솔직하지 못한 ‘나’의 이야기를 씁니다. 여행과 프랑스어를 사랑하는 20대 청년.',\n",
              " '현재 글은 이 브런치북에 소속되어 있습니다.']"
            ]
          },
          "metadata": {},
          "execution_count": 182
        }
      ]
    },
    {
      "cell_type": "code",
      "metadata": {
        "id": "NaZ0AlrYrwAj"
      },
      "source": [
        "\n",
        "p = bs.find_all(string=True)\n",
        "first_love = p_str.split(\". \")\n",
        "first_love"
      ],
      "execution_count": null,
      "outputs": []
    },
    {
      "cell_type": "code",
      "metadata": {
        "colab": {
          "base_uri": "https://localhost:8080/"
        },
        "id": "oOXQA8dPkyld",
        "outputId": "072931c9-58a3-4097-bd93-c8d4aa05ad4c"
      },
      "source": [
        "p_str = str(p)\n",
        "data = p_str.split(\". \")\n",
        "\n",
        "cleaned_data = []\n",
        "for i in data:\n",
        "  i = re.sub(\"[^ㄱ-ㅎㅏ-ㅣ가-힣\\s]\", '', i).strip()\n",
        "  cleaned_data.append(i)\n",
        "print(cleaned_data)"
      ],
      "execution_count": 160,
      "outputs": [
        {
          "output_type": "stream",
          "name": "stdout",
          "text": [
            "['화 공간과 언어에 관한 질문들  취리히행 열차 안에서                                                                                                                                                                   메뉴        브런치북   혼자 스위스   화       실행   신고     라이킷      댓글     공유            닫기               브런치 시작하기      브런치 홈    브런치 나우    브런치 책방      계정을 잊어버리셨나요                  키워드 댓글 버튼 시작     위클리매거진  글 목록    브런치북 글 목록          혼자 스위스                화  제네바 익숙한 공간과 이별한다는 것      화  공간과 언어에 관한 질문들  취리히행 열차 안에서  현재글     화  공간 경계선 프랑스어      화  취리히의 첫인상        위치조정시  값으로 조절    혼자 스위스             키워드    키워드        스위스                            유럽여행                            열차                                댓글        키워드 댓글 버튼 끝     작가명', '공간과 언어에 관한 질문들  취리히행 열차 안에서 다섯째날의 이야기  제네바라는 공간 제네바에서 취리히까지 가는 열차는 하루에도 편 넘게 한 시간에 두 대 꼴로 운행한다', '스위스패스를 가지고 있다면 하루 중 언제라도 열차에 올라탈 수 있었다', '저녁때 취리히에서 따로 계획한 일정은 없었기 때문에 서둘러 출발할 필요도 없었다', '그래도 다섯 시쯤이면 날이 저무는 만큼 점심을 먹고 호숫가를 조금 더 산책하다가 늦지 않게 떠나기로 했다', '하긴 취리히는 제네바보다 북동쪽에 있어서 해가 더 일찍 질 테니 그래봤자 분 차이이다', '마트 밖으로 나와 론 거리를 걸으며 기차 시간을 알아보았다', '여유있게 시 분 열차를 타서 시쯤 취리히에 도착하는 일정이었다', '벤치에 앉아서 레만 호수와 론 강을 바라보며 월요일 점심시간의 북적이는 인파를 멍하니 바라보았다', '지난 여름의 내게 제네바가 다소 불완전한 공간으로 남았다면 이 겨울날의 제네바는 익숙하면서도 낯선 공간으로 남을 것이다', '사실 익숙하면서도 낯섦은 불완전함의 또 다른 표현이긴 하지만', '그때의 나는 프랑스어를 거의 구사하지 못했지만 지금의 나는 프랑스어를 어느 정도 이해하고 구사할 수 있다 그때의 나는 추워진 여름 날씨 탓에 몸이 아픈 상태였지만 지금의 나는 생각보다 덜 추운 겨울 날씨 덕에 활기차고 편안한 상태이다', '그때의 나에게 제네바는 프랑스에서 스위스로 넘어가는 길목에서 잠깐 머무는 공간이었지만 지금의 나에게 제네바는 일간 머물면서 스위스와 프랑스 곳곳을 여행할 수 있었던 중심이라는 속성의 공간이다', '그러나 그때의 내가 레만 호수와 제토 분수를 치열하게 그리워했듯이 지금의 나도 레만 호수와 제토 분수를 치열하게 그리워할 것이다', '그리고 그때의 나에게 제네바는 프랑스어가 사용되는 마지막 여행지였듯이 지금의 나에게도 제네바는 프랑스어가 사용되는 마지막 여행지가 될 것이다', '여름의 나는 체르마트를 향했고 겨울의 나는 취리히를 향하기 때문이다', '두 언어의 경계에 대하여  코르나뱅 중앙역의 미그로 마트에 들러 열차에서 먹을 간식거리를 샀다', '취리히에서 저녁을 거를 생각도 없지는 않아서 달리는 기차에서 천천히 한 입씩 베어먹을 수 있는 거대 프레첼을 준비했다', '계산대 직원에게 마지막으로 메르시를 외치고 플랫폼으로 나갔더니 벌써부터 많은 사람들이 열차를 기다리고 있었다', '캐리어를 끌고 짐을 잔뜩 가져온 사람들도 꽤 있었다', '스위스에서 가장 큰 두 도시를 이어주는 열차인 만큼 시발역부터 탑승객이 많았다', '물론 좌석이 워낙 많아서 열차 안은 굉장히 여유롭긴 했지만 스위스 열차는 특별히 좌석예약을 하지 않는 한 대부분 원하는 자리에 자유롭게 앉을 수 있다', '제네바 코르나뱅 역에서 취리히행 열차를 기다리는 승객들 운이 좋게도 내가 찾아 들어간 칸에는 사람이 거의 없었다', '덕분에 마주보고 앉는 자리 좌석을 혼자서 차지하고 짐까지 놓을 수 있었다', '사람들이 많이 타기 시작하면 그때 캐리어를 짐칸에 놓고 자리를 양보하기로 했다', '열차가 코르나뱅 역을 떠나는 동안  앱에 들어가서 열차 시간표를 살펴보며 역 이름을 하나하나 읊어 보았다', '제네바 코르나뱅  시 분 모르주  시 분 이베르동레뱅  시 분 뇌샤텔  시 분 빌비엔느  시 분 졸로투른  시 분 올텐  시 분 아라우  시 분 취리히  시 분 공식적으로 이중 언어를 사용하는 빌비엔느를 지나면서부터 지명이 프랑스어에서 독일어로 바뀐다', '지난 여름 제네바를 떠나 체르마트를 향하는 열차에서 한참을 자다가 안내방송 소리에 깼을 때   프랑스어로 다음 역은이라는 표현을 선명하게 들었다', '하지만 방송이 끝나고 불과 몇 분정도만 잠들었을 뿐인데 터널 안에서 낯선 목소리가 들려왔다', '소스라치게 놀라서 잠이 완전히 달아나버렸다', '독일어로 다음 역은 로이크입니다라는 뜻이었다', '열차 안의 안내방송조차 프랑스어에서 독일어로 한순간에 바뀐 것이었다', '익숙했던 프호셴아헤가 사라지고 네이스터할트라는 낯선 표현이 들려온 그곳은 바로 프랑스어와 독일어 사용 지역의 경계를 형성하는 뢰스티그라벤이라는 가상의 선이었다', '스위스의 전통 요리 뢰스티에서 유래했다고 하는 뢰스티그라벤은 프랑스어권 스위스와 독일어권 스위스를 언어적으로뿐만 아니라 정치적 경제적 문화적으로 구분한다', '교통과 통신이 발달한 현재까지도 두 지역간의 차이는 두드러지게 나타나서 실제로 정치적 안건에 대한 국민투표 결과를 지도상에 나타나면 뢰스티그라벤이 자연스레 그려질 때도 있다고 한다', '바젤 남서쪽 쥐라 계곡에서 뇌샤텔 호수 동쪽을 거쳐 프리부르까지 내려온 후 베른 알프스와 발레 알프스를 거쳐 마터호른 서쪽에서 끝이 난다', '인터넷 지도를 검색하다 보면 어느 지점에서는 길의 명칭이 왼쪽은 프랑스어 오른쪽은 독일어로 표시되어 있는 경우가 있는데 대체로 이곳이 행정경계를 기준으로 하는 뢰스티그라벤이다', '오늘도 나는 취리히까지 한 시간을 남겨두고 빌비엔느에서 그 경계선을 넘게 되겠지', '취리히행 열차 안에서 열차 진행방향의 오른쪽에 앉은 것은 정말로 탁월한 선택이었다', '레만 호수와 뇌샤텔 호수 빌 호수 모두 철길의 오른쪽에서 알프스의 진풍경을 만들어내고 있었다', '그 뒤편으로 보이는 알프스 고봉들과 함께', '코르나뱅 역에서 준비해 온 프레첼과 과일주스를 꺼내 알프스의 풍경을 바라보며 천천히 음미한다', '그러면서 지난 일간의 여행에 대해 차근차근 메모장에 기록하고 다음의 세 가지 심오한 질문도 함께 적어본다  이번 여행에서 공간이 내게 의미하는 바는 무엇인가   이번 여행에서 경계선이 내게 의미하는 바는 무엇인가   이번 여행에서 프랑스어가 내게 의미하는 바는 무엇인가    댓글    댓글   댓글     이전 댓글 보기          프로필      프로필 시작', '소속   직업 에세이스트          솔직하지 못한 나의 이야기를 씁니다', '여행과 프랑스어를 사랑하는 대 청년       구독자                                   제안하기                              구독하기        배너           개선버전 이전다음글 시작                                                                                 이전 화                                                                      제네바 익숙한 공간과 이별한다는 것    공간 경계선 프랑스어                                                                          다음 화                                                                          개선버전 이전다음글 끝             취소  완료            현재 글은 이 브런치북에  소속되어 있습니다  혼자 스위스    매거진 선택      키워드 선택              검색                  댓글여부   댓글 쓰기 허용                     로그인이 필요합니다                                                                 브런치는 최신 브라우저에 최적화 되어있습니다                                                                                                                                                                                 브런치 로그인        브런치             브런치 작가로 데뷔하세요   진솔한 에세이부터 업계 전문 지식까지 당신의 이야기를 세상에 선보이세요           브런치로 제안받는 새로운 기회  다양한 프로젝트와 파트너를 통해 작가님의 작품이 책강연 등으로 확장됩니다           글로 만나는 작가의 경험   작가를 구독하고 새 글을 받아보세요 당신에게 영감을 주는 작품을 추천합니다          이전              다음         브런치 시작하기     카카오계정으로 시작하기     내 브런치 찾기  내 브런치의 카카오계정을 모르겠어요  페이스북트위터로만 로그인 했었나요  브런치 로그인 관련 상세 도움말     창 닫기']\n"
          ]
        }
      ]
    },
    {
      "cell_type": "code",
      "metadata": {
        "colab": {
          "base_uri": "https://localhost:8080/"
        },
        "id": "nksgvzJmndg0",
        "outputId": "d3d2098a-3ba0-481e-8940-e9a9c50cb1da"
      },
      "source": [
        "for i in range(1, len(cleaned_data)-3):\n",
        "  if cleaned_data[i] > \n",
        "  print(i, \":\", cleaned_data[i])\n"
      ],
      "execution_count": 169,
      "outputs": [
        {
          "output_type": "stream",
          "name": "stdout",
          "text": [
            "1 : 공간과 언어에 관한 질문들  취리히행 열차 안에서 다섯째날의 이야기  제네바라는 공간 제네바에서 취리히까지 가는 열차는 하루에도 편 넘게 한 시간에 두 대 꼴로 운행한다\n",
            "2 : 스위스패스를 가지고 있다면 하루 중 언제라도 열차에 올라탈 수 있었다\n",
            "3 : 저녁때 취리히에서 따로 계획한 일정은 없었기 때문에 서둘러 출발할 필요도 없었다\n",
            "4 : 그래도 다섯 시쯤이면 날이 저무는 만큼 점심을 먹고 호숫가를 조금 더 산책하다가 늦지 않게 떠나기로 했다\n",
            "5 : 하긴 취리히는 제네바보다 북동쪽에 있어서 해가 더 일찍 질 테니 그래봤자 분 차이이다\n",
            "6 : 마트 밖으로 나와 론 거리를 걸으며 기차 시간을 알아보았다\n",
            "7 : 여유있게 시 분 열차를 타서 시쯤 취리히에 도착하는 일정이었다\n",
            "8 : 벤치에 앉아서 레만 호수와 론 강을 바라보며 월요일 점심시간의 북적이는 인파를 멍하니 바라보았다\n",
            "9 : 지난 여름의 내게 제네바가 다소 불완전한 공간으로 남았다면 이 겨울날의 제네바는 익숙하면서도 낯선 공간으로 남을 것이다\n",
            "10 : 사실 익숙하면서도 낯섦은 불완전함의 또 다른 표현이긴 하지만\n",
            "11 : 그때의 나는 프랑스어를 거의 구사하지 못했지만 지금의 나는 프랑스어를 어느 정도 이해하고 구사할 수 있다 그때의 나는 추워진 여름 날씨 탓에 몸이 아픈 상태였지만 지금의 나는 생각보다 덜 추운 겨울 날씨 덕에 활기차고 편안한 상태이다\n",
            "12 : 그때의 나에게 제네바는 프랑스에서 스위스로 넘어가는 길목에서 잠깐 머무는 공간이었지만 지금의 나에게 제네바는 일간 머물면서 스위스와 프랑스 곳곳을 여행할 수 있었던 중심이라는 속성의 공간이다\n",
            "13 : 그러나 그때의 내가 레만 호수와 제토 분수를 치열하게 그리워했듯이 지금의 나도 레만 호수와 제토 분수를 치열하게 그리워할 것이다\n",
            "14 : 그리고 그때의 나에게 제네바는 프랑스어가 사용되는 마지막 여행지였듯이 지금의 나에게도 제네바는 프랑스어가 사용되는 마지막 여행지가 될 것이다\n",
            "15 : 여름의 나는 체르마트를 향했고 겨울의 나는 취리히를 향하기 때문이다\n",
            "16 : 두 언어의 경계에 대하여  코르나뱅 중앙역의 미그로 마트에 들러 열차에서 먹을 간식거리를 샀다\n",
            "17 : 취리히에서 저녁을 거를 생각도 없지는 않아서 달리는 기차에서 천천히 한 입씩 베어먹을 수 있는 거대 프레첼을 준비했다\n",
            "18 : 계산대 직원에게 마지막으로 메르시를 외치고 플랫폼으로 나갔더니 벌써부터 많은 사람들이 열차를 기다리고 있었다\n",
            "19 : 캐리어를 끌고 짐을 잔뜩 가져온 사람들도 꽤 있었다\n",
            "20 : 스위스에서 가장 큰 두 도시를 이어주는 열차인 만큼 시발역부터 탑승객이 많았다\n",
            "21 : 물론 좌석이 워낙 많아서 열차 안은 굉장히 여유롭긴 했지만 스위스 열차는 특별히 좌석예약을 하지 않는 한 대부분 원하는 자리에 자유롭게 앉을 수 있다\n",
            "22 : 제네바 코르나뱅 역에서 취리히행 열차를 기다리는 승객들 운이 좋게도 내가 찾아 들어간 칸에는 사람이 거의 없었다\n",
            "23 : 덕분에 마주보고 앉는 자리 좌석을 혼자서 차지하고 짐까지 놓을 수 있었다\n",
            "24 : 사람들이 많이 타기 시작하면 그때 캐리어를 짐칸에 놓고 자리를 양보하기로 했다\n",
            "25 : 열차가 코르나뱅 역을 떠나는 동안  앱에 들어가서 열차 시간표를 살펴보며 역 이름을 하나하나 읊어 보았다\n",
            "26 : 제네바 코르나뱅  시 분 모르주  시 분 이베르동레뱅  시 분 뇌샤텔  시 분 빌비엔느  시 분 졸로투른  시 분 올텐  시 분 아라우  시 분 취리히  시 분 공식적으로 이중 언어를 사용하는 빌비엔느를 지나면서부터 지명이 프랑스어에서 독일어로 바뀐다\n",
            "27 : 지난 여름 제네바를 떠나 체르마트를 향하는 열차에서 한참을 자다가 안내방송 소리에 깼을 때   프랑스어로 다음 역은이라는 표현을 선명하게 들었다\n",
            "28 : 하지만 방송이 끝나고 불과 몇 분정도만 잠들었을 뿐인데 터널 안에서 낯선 목소리가 들려왔다\n",
            "29 : 소스라치게 놀라서 잠이 완전히 달아나버렸다\n",
            "30 : 독일어로 다음 역은 로이크입니다라는 뜻이었다\n",
            "31 : 열차 안의 안내방송조차 프랑스어에서 독일어로 한순간에 바뀐 것이었다\n",
            "32 : 익숙했던 프호셴아헤가 사라지고 네이스터할트라는 낯선 표현이 들려온 그곳은 바로 프랑스어와 독일어 사용 지역의 경계를 형성하는 뢰스티그라벤이라는 가상의 선이었다\n",
            "33 : 스위스의 전통 요리 뢰스티에서 유래했다고 하는 뢰스티그라벤은 프랑스어권 스위스와 독일어권 스위스를 언어적으로뿐만 아니라 정치적 경제적 문화적으로 구분한다\n",
            "34 : 교통과 통신이 발달한 현재까지도 두 지역간의 차이는 두드러지게 나타나서 실제로 정치적 안건에 대한 국민투표 결과를 지도상에 나타나면 뢰스티그라벤이 자연스레 그려질 때도 있다고 한다\n",
            "35 : 바젤 남서쪽 쥐라 계곡에서 뇌샤텔 호수 동쪽을 거쳐 프리부르까지 내려온 후 베른 알프스와 발레 알프스를 거쳐 마터호른 서쪽에서 끝이 난다\n",
            "36 : 인터넷 지도를 검색하다 보면 어느 지점에서는 길의 명칭이 왼쪽은 프랑스어 오른쪽은 독일어로 표시되어 있는 경우가 있는데 대체로 이곳이 행정경계를 기준으로 하는 뢰스티그라벤이다\n",
            "37 : 오늘도 나는 취리히까지 한 시간을 남겨두고 빌비엔느에서 그 경계선을 넘게 되겠지\n",
            "38 : 취리히행 열차 안에서 열차 진행방향의 오른쪽에 앉은 것은 정말로 탁월한 선택이었다\n",
            "39 : 레만 호수와 뇌샤텔 호수 빌 호수 모두 철길의 오른쪽에서 알프스의 진풍경을 만들어내고 있었다\n",
            "40 : 그 뒤편으로 보이는 알프스 고봉들과 함께\n",
            "41 : 코르나뱅 역에서 준비해 온 프레첼과 과일주스를 꺼내 알프스의 풍경을 바라보며 천천히 음미한다\n"
          ]
        }
      ]
    },
    {
      "cell_type": "code",
      "metadata": {
        "id": "KKsyN-VVkxhL"
      },
      "source": [
        "\n",
        "imsi = []\n",
        "for x in p:\n",
        "  str_p = str(p)\n",
        "  re_sub = str_p.replace(\"\\t\", \" \")\n",
        "  re_list = re.sub('[0-9a-zA-Z\\'\\\"\\/\\\\]\\[)(><=\\_:;,\\}\\{-]', '', str(p))\n",
        "  space = re_list.replace(\"\\t\", \" \")\n",
        "  text_list = re_list.split(\". \")\n",
        "  for y in range(0, len(text_list)):\n",
        "    text_list[y].strip()\n",
        "  print(text_list)"
      ],
      "execution_count": null,
      "outputs": []
    },
    {
      "cell_type": "code",
      "metadata": {
        "colab": {
          "base_uri": "https://localhost:8080/",
          "height": 0
        },
        "id": "hZdgspDJHSse",
        "outputId": "905c4303-428d-441c-e08e-ec1493b2c59d"
      },
      "source": [
        "p = bs.find_all('p')\n",
        "imsi = []\n",
        "for x in range(0, 1):\n",
        "  str_p = str(p)\n",
        "  re_sub = str_p.replace(\"\\t\", \" \")\n",
        "  re_list = re.sub('[0-9a-zA-Z\\'\\\"\\/\\\\]\\[)(><=\\_:;,\\}\\{-]', '', str(p))\n",
        "  space = re_list.replace(\"\\t\", \" \")\n",
        "  text_list = re_list.split(\". \")\n",
        "  for y in range(0, len(text_list)):\n",
        "    text_list[y].strip()\n",
        "  print(text_list)"
      ],
      "execution_count": 139,
      "outputs": [
        {
          "output_type": "stream",
          "name": "stdout",
          "text": [
            "['        .', '  다섯째날의 이야기         제네바라는 공간제네바라는 공간        제네바에서 취리히까지 가는 열차는 하루에도 편 넘게 한 시간에 두 대 꼴로 운행한다', '스위스패스를 가지고 있다면 하루 중 언제라도 열차에 올라탈 수 있었다', '저녁때 취리히에서 따로 계획한 일정은 없었기 때문에 서둘러 출발할 필요도 없었다', '그래도 다섯 시쯤이면 날이 저무는 만큼 점심을 먹고 호숫가를 조금 더 산책하다가 늦지 않게 떠나기로 했다', '하긴 취리히는 제네바보다 북동쪽에 있어서 해가 더 일찍 질 테니 그래봤자 분 차이이다', '마트 밖으로 나와 론 거리를 걸으며 기차 시간을 알아보았다', '여유있게 시 분 열차를 타서 시쯤 취리히에 도착하는 일정이었다', '제네바에서 취리히까지 가는 열차는 하루에도 편 넘게 한 시간에 두 대 꼴로 운행한다', '스위스패스를 가지고 있다면 하루 중 언제라도 열차에 올라탈 수 있었다', '저녁때 취리히에서 따로 계획한 일정은 없었기 때문에 서둘러 출발할 필요도 없었다', '그래도 다섯 시쯤이면 날이 저무는 만큼 점심을 먹고 호숫가를 조금 더 산책하다가 늦지 않게 떠나기로 했다', '하긴 취리히는 제네바보다 북동쪽에 있어서 해가 더 일찍 질 테니 그래봤자 분 차이이다', '마트 밖으로 나와 론 거리를 걸으며 기차 시간을 알아보았다', '여유있게 시 분 열차를 타서 시쯤 취리히에 도착하는 일정이었다', '        벤치에 앉아서 레만 호수와 론 강을 바라보며 월요일 점심시간의 북적이는 인파를 멍하니 바라보았다', '지난 여름의 내게 제네바가 다소 불완전한 공간으로 남았다면 이 겨울날의 제네바는 익숙하면서도 낯선 공간으로 남을 것이다', '사실 \\\\익숙하면서도 낯섦\\\\은 \\\\불완전함\\\\의 또 다른 표현이긴 하지만', '벤치에 앉아서 레만 호수와 론 강을 바라보며 월요일 점심시간의 북적이는 인파를 멍하니 바라보았다', '지난 여름의 내게 제네바가 다소 불완전한 공간으로 남았다면 이 겨울날의 제네바는 익숙하면서도 낯선 공간으로 남을 것이다', '사실 익숙하면서도 낯섦은 불완전함의 또 다른 표현이긴 하지만', '        그때의 나는 프랑스어를 거의 구사하지 못했지만 지금의 나는 프랑스어를 어느 정도 이해하고 구사할 수 있다.그때의 나는 프랑스어를 거의 구사하지 못했지만 지금의 나는 프랑스어를 어느 정도 이해하고 구사할 수 있다', '   그때의 나는 추워진 여름 날씨 탓에 몸이 아픈 상태였지만 지금의 나는 생각보다 덜 추운 겨울 날씨 덕에 활기차고 편안한 상태이다', '그때의 나는 추워진 여름 날씨 탓에 몸이 아픈 상태였지만 지금의 나는 생각보다 덜 추운 겨울 날씨 덕에 활기차고 편안한 상태이다', '    그때의 나에게 제네바는 프랑스에서 스위스로 넘어가는 길목에서 잠깐 머무는 공간이었지만 지금의 나에게 제네바는 일간 머물면서 스위스와 프랑스 곳곳을 여행할 수 있었던 \\\\중심\\\\이라는 속성의 공간이다', '그때의 나에게 제네바는 프랑스에서 스위스로 넘어가는 길목에서 잠깐 머무는 공간이었지만 지금의 나에게 제네바는 일간 머물면서 스위스와 프랑스 곳곳을 여행할 수 있었던 중심이라는 속성의 공간이다', '        그러나 그때의 내가 레만 호수와 제토 분수를 치열하게 그리워했듯이 지금의 나도 레만 호수와 제토 분수를 치열하게 그리워할 것이다', '그러나 그때의 내가 레만 호수와 제토 분수를 치열하게 그리워했듯이 지금의 나도 레만 호수와 제토 분수를 치열하게 그리워할 것이다', '    그리고 그때의 나에게 제네바는 프랑스어가 사용되는 마지막 여행지였듯이 지금의 나에게도 제네바는 프랑스어가 사용되는 마지막 여행지가 될 것이다', '여름의 나는 체르마트를 향했고 겨울의 나는 취리히를 향하기 때문이다', '그리고 그때의 나에게 제네바는 프랑스어가 사용되는 마지막 여행지였듯이 지금의 나에게도 제네바는 프랑스어가 사용되는 마지막 여행지가 될 것이다', '여름의 나는 체르마트를 향했고 겨울의 나는 취리히를 향하기 때문이다', '        두 언어의 경계에 대하여 두 언어의 경계에 대하여         코르나뱅 중앙역의 미그로 마트에 들러 열차에서 먹을 간식거리를 샀다', '취리히에서 저녁을 거를 생각도 없지는 않아서 달리는 기차에서 천천히 한 입씩 베어먹을 수 있는 거대 프레첼을 준비했다', '계산대 직원에게 마지막으로 \\\\메르시\\\\를 외치고 플랫폼으로 나갔더니 벌써부터 많은 사람들이 열차를 기다리고 있었다', '캐리어를 끌고 짐을 잔뜩 가져온 사람들도 꽤 있었다', '스위스에서 가장 큰 두 도시를 이어주는 열차인 만큼 시발역부터 탑승객이 많았다', '물론 좌석이 워낙 많아서 열차 안은 굉장히 여유롭긴 했지만 스위스 열차는 특별히 좌석예약을 하지 않는 한 대부분 원하는 자리에 자유롭게 앉을 수 있다', '코르나뱅 중앙역의 미그로 마트에 들러 열차에서 먹을 간식거리를 샀다', '취리히에서 저녁을 거를 생각도 없지는 않아서 달리는 기차에서 천천히 한 입씩 베어먹을 수 있는 거대 프레첼을 준비했다', '계산대 직원에게 마지막으로 메르시를 외치고 플랫폼으로 나갔더니 벌써부터 많은 사람들이 열차를 기다리고 있었다', '캐리어를 끌고 짐을 잔뜩 가져온 사람들도 꽤 있었다', '스위스에서 가장 큰 두 도시를 이어주는 열차인 만큼 시발역부터 탑승객이 많았다', '물론 좌석이 워낙 많아서 열차 안은 굉장히 여유롭긴 했지만 스위스 열차는 특별히 좌석예약을 하지 않는 한 대부분 원하는 자리에 자유롭게 앉을 수 있다', '    운이 좋게도 내가 찾아 들어간 칸에는 사람이 거의 없었다', '덕분에 마주보고 앉는 자리 좌석을 혼자서 차지하고 짐까지 놓을 수 있었다', '사람들이 많이 타기 시작하면 그때 캐리어를 짐칸에 놓고 자리를 양보하기로 했다', '열차가 코르나뱅 역을 떠나는 동안  앱에 들어가서 열차 시간표를 살펴보며 역 이름을 하나하나 읊어 보았다', '운이 좋게도 내가 찾아 들어간 칸에는 사람이 거의 없었다', '덕분에 마주보고 앉는 자리 좌석을 혼자서 차지하고 짐까지 놓을 수 있었다', '사람들이 많이 타기 시작하면 그때 캐리어를 짐칸에 놓고 자리를 양보하기로 했다', '열차가 코르나뱅 역을 떠나는 동안  앱에 들어가서 열차 시간표를 살펴보며 역 이름을 하나하나 읊어 보았다', '        제네바 코르나뱅 è 시 분제네바 코르나뱅 è 시 분    모르주  시 분모르주  시 분    이베르동레뱅  시 분이베르동레뱅  시 분    뇌샤텔 â 시 분뇌샤텔 â 시 분    빌비엔느  시 분빌비엔느  시 분    졸로투른  시 분졸로투른  시 분    올텐  시 분올텐  시 분    아라우  시 분아라우  시 분    취리히 ü 시 분취리히 ü 시 분        공식적으로 이중 언어를 사용하는 빌비엔느를 지나면서부터 지명이 프랑스어에서 독일어로 바뀐다', '지난 여름 제네바를 떠나 체르마트를 향하는 열차에서 한참을 자다가 안내방송 소리에 깼을 때 \\\\ ê 프랑스어로 \\\\다음 역은~\\\\\\\\이라는 표현을 선명하게 들었다', '하지만 방송이 끝나고 불과 몇 분정도만 잠들었을 뿐인데 터널 안에서 낯선 목소리가 들려왔다', '소스라치게 놀라서 잠이 완전히 달아나버렸다', '공식적으로 이중 언어를 사용하는 빌비엔느를 지나면서부터 지명이 프랑스어에서 독일어로 바뀐다', '지난 여름 제네바를 떠나 체르마트를 향하는 열차에서 한참을 자다가 안내방송 소리에 깼을 때  ê 프랑스어로 다음 역은~이라는 표현을 선명하게 들었다', '하지만 방송이 끝나고 불과 몇 분정도만 잠들었을 뿐인데 터널 안에서 낯선 목소리가 들려왔다', '소스라치게 놀라서 잠이 완전히 달아나버렸다', '        \\\\ä  \\\\ ä           독일어로 \\\\다음 역은 로이크입니다\\\\라는 뜻이었다', '열차 안의 안내방송조차 프랑스어에서 독일어로 한순간에 바뀐 것이었다', '익숙했던 \\\\프호셴아헤\\\\가 사라지고 \\\\네이스터할트\\\\라는 낯선 표현이 들려온 그곳은 바로 프랑스어와 독일어 사용 지역의 경계를 형성하는 뢰스티그라벤ö이라는 가상의 선이었다', '독일어로 다음 역은 로이크입니다라는 뜻이었다', '열차 안의 안내방송조차 프랑스어에서 독일어로 한순간에 바뀐 것이었다', '익숙했던 프호셴아헤가 사라지고 네이스터할트라는 낯선 표현이 들려온 그곳은 바로 프랑스어와 독일어 사용 지역의 경계를 형성하는 뢰스티그라벤ö이라는 가상의 선이었다', '        스위스의 전통 요리 뢰스티ö에서 유래했다고 하는 뢰스티그라벤은 프랑스어권 스위스와 독일어권 스위스를 언어적으로뿐만 아니라 정치적 경제적 문화적으로 구분한다', '교통과 통신이 발달한 현재까지도 두 지역간의 차이는 두드러지게 나타나서 실제로 정치적 안건에 대한 국민투표 결과를 지도상에 나타나면 뢰스티그라벤이 자연스레 그려질 때도 있다고 한다', '바젤 남서쪽 쥐라 계곡에서 뇌샤텔 호수 동쪽을 거쳐 프리부르까지 내려온 후 베른 알프스와 발레 알프스를 거쳐 마터호른 서쪽에서 끝이 난다', '인터넷 지도를 검색하다 보면 어느 지점에서는 길의 명칭이 왼쪽은 프랑스어 오른쪽은 독일어로 표시되어 있는 경우가 있는데 대체로 이곳이 행정경계를 기준으로 하는 뢰스티그라벤이다', '스위스의 전통 요리 뢰스티ö에서 유래했다고 하는 뢰스티그라벤은 프랑스어권 스위스와 독일어권 스위스를 언어적으로뿐만 아니라 정치적 경제적 문화적으로 구분한다', '교통과 통신이 발달한 현재까지도 두 지역간의 차이는 두드러지게 나타나서 실제로 정치적 안건에 대한 국민투표 결과를 지도상에 나타나면 뢰스티그라벤이 자연스레 그려질 때도 있다고 한다', '바젤 남서쪽 쥐라 계곡에서 뇌샤텔 호수 동쪽을 거쳐 프리부르까지 내려온 후 베른 알프스와 발레 알프스를 거쳐 마터호른 서쪽에서 끝이 난다', '인터넷 지도를 검색하다 보면 어느 지점에서는 길의 명칭이 왼쪽은 프랑스어 오른쪽은 독일어로 표시되어 있는 경우가 있는데 대체로 이곳이 행정경계를 기준으로 하는 뢰스티그라벤이다', '        오늘도 나는 취리히까지 한 시간을 남겨두고 빌비엔느에서 그 경계선을 넘게 되겠지', '오늘도 나는 취리히까지 한 시간을 남겨두고 빌비엔느에서 그 경계선을 넘게 되겠지', '            취리히행 열차 안에서취리히행 열차 안에서        열차 진행방향의 오른쪽에 앉은 것은 정말로 탁월한 선택이었다', '레만 호수와 뇌샤텔 호수 빌 호수 모두 철길의 오른쪽에서 알프스의 진풍경을 만들어내고 있었다', '그 뒤편으로 보이는 알프스 고봉들과 함께', '코르나뱅 역에서 준비해 온 프레첼과 과일주스를 꺼내 알프스의 풍경을 바라보며 천천히 음미한다', '그러면서 지난 일간의 여행에 대해 차근차근 메모장에 기록하고 다음의 세 가지 심오한 질문도 함께 적어본다.열차 진행방향의 오른쪽에 앉은 것은 정말로 탁월한 선택이었다', '레만 호수와 뇌샤텔 호수 빌 호수 모두 철길의 오른쪽에서 알프스의 진풍경을 만들어내고 있었다', '그 뒤편으로 보이는 알프스 고봉들과 함께', '코르나뱅 역에서 준비해 온 프레첼과 과일주스를 꺼내 알프스의 풍경을 바라보며 천천히 음미한다', '그러면서 지난 일간의 여행에 대해 차근차근 메모장에 기록하고 다음의 세 가지 심오한 질문도 함께 적어본다', '        이번 여행에서 \\\\공간\\\\이 내게 의미하는 바는 무엇인가?  이번 여행에서 공간이 내게 의미하는 바는 무엇인가?      이번 여행에서 \\\\경계선\\\\이 내게 의미하는 바는 무엇인가?  이번 여행에서 경계선이 내게 의미하는 바는 무엇인가?      이번 여행에서 \\\\프랑스어\\\\가 내게 의미하는 바는 무엇인가? 이번 여행에서 프랑스어가 내게 의미하는 바는 무엇인가?                              솔직하지 못한 ‘나’의 이야기를 씁니다', '여행과 프랑스어를 사랑하는 대 청년', ' 현재 글은 이 브런치북에 소속되어 있습니다.']\n"
          ]
        }
      ]
    },
    {
      "cell_type": "code",
      "metadata": {
        "id": "HpTXHiYPLy9p"
      },
      "source": [
        "\n",
        "  test_result = re_sub.strip().split(\". \")\n",
        "  print(test_result)\n",
        "\n",
        "  imsi_result = []\n",
        "  for y in re_sub:\n",
        "    y.replace(\". \", \"\\n\")\n",
        "    y.strip()\n",
        "    imsi_result.append(y)\n",
        "    imsi.append(imsi_result)\n",
        "print(imsi)"
      ],
      "execution_count": null,
      "outputs": []
    },
    {
      "cell_type": "code",
      "metadata": {
        "id": "4nW26QVcIIuE"
      },
      "source": [
        "from konlpy.tag import Hannanum\n"
      ],
      "execution_count": null,
      "outputs": []
    },
    {
      "cell_type": "code",
      "metadata": {
        "id": "xh3XbXzOi4tb"
      },
      "source": [
        "\n",
        "        str_y = str(y).strip()\n",
        "        str_y.replace(\". \", \"\\n\")\n",
        "        for y in str_h4:\n",
        "            cleaned_text = re.sub('[a-zA-Z]', '', str_y)\n",
        "            #cleaned_text = re.sub('[a-zA-Z-=+,#/\\?:^$.@*\\\"※~&%ㆍ!』\\\\\\‘|\\(\\)\\[\\]\\<\\>`\\'\\{\\}\\(\\)\\'…》]', '', str_y)\n",
        "            result_h4.append(cleaned_text)\n",
        "            #result.strip()\n",
        "            print(\"result_h4\", x,\"번째:\",result_h4[x-1])\n",
        "\n",
        "print(result_h4)"
      ],
      "execution_count": null,
      "outputs": []
    },
    {
      "cell_type": "code",
      "metadata": {
        "id": "B9jmDLq3frKB"
      },
      "source": [
        "\n",
        "    result = []\n",
        "    h4 = bs.select('h4')\n",
        "    for x in range(0, len(h4)):\n",
        "        str_h4 = h4[x].find_all(string=True)\n",
        "        for y in str_h4:\n",
        "            str_y = str(y).strip()\n",
        "            str_y.replace(\".\", \"\\n\")\n",
        "            cleaned_text = re.sub('[a-zA-Z-=+,#/\\?:^$.@*\\\"※~&%ㆍ!』\\\\\\‘|\\(\\)\\[\\]\\<\\>`\\'\\{\\}\\(\\)\\'…》]', '', str_y)\n",
        "            result.append(str_y)\n",
        "            #result.strip()\n",
        "            "
      ],
      "execution_count": null,
      "outputs": []
    },
    {
      "cell_type": "code",
      "metadata": {
        "colab": {
          "base_uri": "https://localhost:8080/",
          "height": 0
        },
        "id": "SS1qqEwAi9Ns",
        "outputId": "42ad1d12-8761-4fad-df17-94d189c83c4c"
      },
      "source": [
        "q = urllib.parse.quote(profile_list[7])\n",
        "g = 1\n",
        "\n",
        "variables = {\"q\":q\n",
        "            ,\"g\":g\n",
        "}\n",
        "\n",
        "params = {\"variables\":variables\n",
        "}\n",
        "\n",
        "\n",
        "url = \"https://brunch.co.kr/@{}/{}\".format(q,g)\n",
        "headers={\n",
        "     'Accept':'text/html,application/xhtml+xml,application/xml;q=0.9,image/avif,image/webp,image/apng,*/*;q=0.8,application/signed-exchange;v=b3;q=0.9'\n",
        "    #,'Accept-Encoding':'gzip, deflate, br'\n",
        "    #,'Accept-Language':'ko-KR,ko;q=0.9,en-US;q=0.8,en;q=0.7'\n",
        "    #,'Cache-Control':'no-cache'\n",
        "    #,'Connection':'keep-alive'\n",
        "    #,'Cookie':'__T_=1; ruuid=9c8aa4cf-049c-4865-a5b3-da6d39b74f0f; __T_=1; ja_bt=7eF1DYRbLy8LCLcy:1632902835; _T_ANO=U0BDY5QZlDpjoFX3x2/87CZvfXV3eG7HBLPFHHq79re15xotP1EOkSR0+r4hnINFLGeqpmD6TzJ6bw6Ns68PKHjdEl8+quGMFMJQpnk5yAkbyG5QLOXxuYLm/ULoGhqFCOH+PEEboxkWO585XPbCnAg+NYBSTXobrj5KJm5/JTpnIuogMA5yhwml8lDjUR6l2y16803nY87GM/5NTic8tqJcpUgRw6W1geOz0VcUCmNYQqjLcjjehUrEsXugWx3oqvZ/tz8Yqjj6LSEfYTvFnAXuhCJ1cxFccmgayYPs2DDHkUQyko9Qxbk9GMq15g3Ol0AKrhwIHUxHFOYxZ24s1A=='\n",
        "    #,'Host':'brunch.co.kr'\n",
        "    ,'Pragma':'no-cache'\n",
        "    ,'Referer':'https://brunch.co.kr/keyword/%EC%A7%80%EA%B5%AC%ED%95%9C%EB%B0%94%ED%80%B4_%EC%84%B8%EA%B3%84%EC%97%AC%ED%96%89?q=g'\n",
        "    #,'sec-ch-ua':'\"Google Chrome\";v=\"93\", \" Not;A Brand\";v=\"99\", \"Chromium\";v=\"93\"'\n",
        "    #,'sec-ch-ua-mobile':'?0'\n",
        "    #,'sec-ch-ua-platform': '\"Windows\"'\n",
        "    #,'Sec-Fetch-Dest':'document'\n",
        "    #,'Sec-Fetch-Mode':'navigate'\n",
        "    #,'Sec-Fetch-Site':'same-origin'\n",
        "    #,'Sec-Fetch-User':'?1'\n",
        "    #,'Upgrade-Insecure-Requests': '1'\n",
        "    ,'User-Agent': 'Mozilla/5.0 (Windows NT 10.0; Win64; x64) AppleWebKit/537.36 (KHTML, like Gecko) Chrome/93.0.4577.82 Safari/537.36'\n",
        "}\n",
        "rs = requests.get(url, params=params, headers=headers)\n",
        "#js = json.load(rs.text)\n",
        "bs = BeautifulSoup(rs.text, 'html.parser')\n",
        "\n",
        "h4 = bs.select('h4')\n",
        "#print(h4.text)\n",
        "\"\"\"\n",
        "str_y = str(y).strip()\n",
        "str_y.replace(\"\\'\", \"\")\n",
        "str_y.replace(\". \", \"\\n\")\n",
        "\"\"\"\n",
        "#replace('\\'', '', str_h4)\n",
        "print(h4)"
      ],
      "execution_count": 14,
      "outputs": [
        {
          "output_type": "stream",
          "name": "stdout",
          "text": [
            "[]\n"
          ]
        }
      ]
    },
    {
      "cell_type": "code",
      "metadata": {
        "colab": {
          "base_uri": "https://localhost:8080/",
          "height": 0
        },
        "id": "yybzwzLMfGsj",
        "outputId": "8be9cbd8-564e-4ca8-df96-fad7c8f1ca4d"
      },
      "source": [
        ""
      ],
      "execution_count": 10,
      "outputs": [
        {
          "output_type": "stream",
          "name": "stdout",
          "text": [
            "[]\n"
          ]
        }
      ]
    }
  ]
}