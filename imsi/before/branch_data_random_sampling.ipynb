{
  "nbformat": 4,
  "nbformat_minor": 0,
  "metadata": {
    "colab": {
      "name": "branch_data_random_sampling.ipynb",
      "provenance": [],
      "collapsed_sections": [],
      "mount_file_id": "1v_VW6sGeqAMuYU1_EYM-Has97_Gu9RE9",
      "authorship_tag": "ABX9TyOR+9ubHabQNf04W3eEYAie",
      "include_colab_link": true
    },
    "kernelspec": {
      "name": "python3",
      "display_name": "Python 3"
    },
    "language_info": {
      "name": "python"
    }
  },
  "cells": [
    {
      "cell_type": "markdown",
      "metadata": {
        "id": "view-in-github",
        "colab_type": "text"
      },
      "source": [
        "<a href=\"https://colab.research.google.com/github/2pterons/twigfarm/blob/main/branch_data_random_sampling.ipynb\" target=\"_parent\"><img src=\"https://colab.research.google.com/assets/colab-badge.svg\" alt=\"Open In Colab\"/></a>"
      ]
    },
    {
      "cell_type": "markdown",
      "metadata": {
        "id": "IwXIpTvvtBSB"
      },
      "source": [
        "# branch data randomsampling"
      ]
    },
    {
      "cell_type": "code",
      "metadata": {
        "id": "-6q50Lp_q0Bm"
      },
      "source": [
        "import pandas as pd"
      ],
      "execution_count": null,
      "outputs": []
    },
    {
      "cell_type": "code",
      "metadata": {
        "colab": {
          "base_uri": "https://localhost:8080/"
        },
        "id": "gjoUJe-Hq0n9",
        "outputId": "49aff1a4-7f38-4b3d-bbdf-0dee072fd524"
      },
      "source": [
        "%cd /content/drive/MyDrive/Colab Notebooks/트위그팜/자연스러운 한국어/data/\n",
        "_0 = pd.DataFrame()\n",
        "_1 = pd.DataFrame()\n",
        "\n",
        "_0 = pd.read_csv('test.0.csv')\n",
        "_0.columns = ['document']\n",
        "\n",
        "_1 = pd.read_csv('test.1.csv')\n",
        "_1.columns = ['document']"
      ],
      "execution_count": null,
      "outputs": [
        {
          "output_type": "stream",
          "name": "stdout",
          "text": [
            "/content/drive/MyDrive/Colab Notebooks/트위그팜/자연스러운 한국어/data\n"
          ]
        }
      ]
    },
    {
      "cell_type": "code",
      "metadata": {
        "colab": {
          "base_uri": "https://localhost:8080/",
          "height": 202
        },
        "id": "IOji24HLr0dG",
        "outputId": "50bb9a07-fbf4-4702-be0d-32132286e67e"
      },
      "source": [
        "_0.head()"
      ],
      "execution_count": null,
      "outputs": [
        {
          "output_type": "execute_result",
          "data": {
            "text/html": [
              "<div>\n",
              "<style scoped>\n",
              "    .dataframe tbody tr th:only-of-type {\n",
              "        vertical-align: middle;\n",
              "    }\n",
              "\n",
              "    .dataframe tbody tr th {\n",
              "        vertical-align: top;\n",
              "    }\n",
              "\n",
              "    .dataframe thead th {\n",
              "        text-align: right;\n",
              "    }\n",
              "</style>\n",
              "<table border=\"1\" class=\"dataframe\">\n",
              "  <thead>\n",
              "    <tr style=\"text-align: right;\">\n",
              "      <th></th>\n",
              "      <th>document</th>\n",
              "    </tr>\n",
              "  </thead>\n",
              "  <tbody>\n",
              "    <tr>\n",
              "      <th>0</th>\n",
              "      <td>\"물론, 나는 당시에 음식을 전혀 못했다.\"</td>\n",
              "    </tr>\n",
              "    <tr>\n",
              "      <th>1</th>\n",
              "      <td>해먹은 음식은 모두 그 친구의 손을 거쳐갔다.</td>\n",
              "    </tr>\n",
              "    <tr>\n",
              "      <th>2</th>\n",
              "      <td>어떻게 음식을 만드는지 구경만 했을 뿐이다.</td>\n",
              "    </tr>\n",
              "    <tr>\n",
              "      <th>3</th>\n",
              "      <td>고기를 굽거나 야채 손질을 조금 도와주는 정도였다.</td>\n",
              "    </tr>\n",
              "    <tr>\n",
              "      <th>4</th>\n",
              "      <td>전통시장인 '질료니 바자르'로 가기로 마음을 먹었다.</td>\n",
              "    </tr>\n",
              "  </tbody>\n",
              "</table>\n",
              "</div>"
            ],
            "text/plain": [
              "                        document\n",
              "0       \"물론, 나는 당시에 음식을 전혀 못했다.\"\n",
              "1      해먹은 음식은 모두 그 친구의 손을 거쳐갔다.\n",
              "2       어떻게 음식을 만드는지 구경만 했을 뿐이다.\n",
              "3   고기를 굽거나 야채 손질을 조금 도와주는 정도였다.\n",
              "4  전통시장인 '질료니 바자르'로 가기로 마음을 먹었다."
            ]
          },
          "metadata": {},
          "execution_count": 85
        }
      ]
    },
    {
      "cell_type": "code",
      "metadata": {
        "colab": {
          "base_uri": "https://localhost:8080/",
          "height": 202
        },
        "id": "5lwyaKoGr2je",
        "outputId": "592abe03-85ff-45a2-cc84-de13dec46771"
      },
      "source": [
        "_1.head()"
      ],
      "execution_count": null,
      "outputs": [
        {
          "output_type": "execute_result",
          "data": {
            "text/html": [
              "<div>\n",
              "<style scoped>\n",
              "    .dataframe tbody tr th:only-of-type {\n",
              "        vertical-align: middle;\n",
              "    }\n",
              "\n",
              "    .dataframe tbody tr th {\n",
              "        vertical-align: top;\n",
              "    }\n",
              "\n",
              "    .dataframe thead th {\n",
              "        text-align: right;\n",
              "    }\n",
              "</style>\n",
              "<table border=\"1\" class=\"dataframe\">\n",
              "  <thead>\n",
              "    <tr style=\"text-align: right;\">\n",
              "      <th></th>\n",
              "      <th>document</th>\n",
              "    </tr>\n",
              "  </thead>\n",
              "  <tbody>\n",
              "    <tr>\n",
              "      <th>0</th>\n",
              "      <td>\"당연히 그 당시에는 음식을 전혀 먹지 않았습니다.\"</td>\n",
              "    </tr>\n",
              "    <tr>\n",
              "      <th>1</th>\n",
              "      <td>해먹의 모든 음식은 친구의 손을 통과했습니다.</td>\n",
              "    </tr>\n",
              "    <tr>\n",
              "      <th>2</th>\n",
              "      <td>음식이 어떻게 만들어지는지 구경만 했어요.</td>\n",
              "    </tr>\n",
              "    <tr>\n",
              "      <th>3</th>\n",
              "      <td>고기를 굽거나 야채를 손질하는 데 조금 도움이 되기에 충분했습니다.</td>\n",
              "    </tr>\n",
              "    <tr>\n",
              "      <th>4</th>\n",
              "      <td>재래시장 '질리오니 바자'에 가기로 했어요.</td>\n",
              "    </tr>\n",
              "  </tbody>\n",
              "</table>\n",
              "</div>"
            ],
            "text/plain": [
              "                                document\n",
              "0          \"당연히 그 당시에는 음식을 전혀 먹지 않았습니다.\"\n",
              "1              해먹의 모든 음식은 친구의 손을 통과했습니다.\n",
              "2                음식이 어떻게 만들어지는지 구경만 했어요.\n",
              "3  고기를 굽거나 야채를 손질하는 데 조금 도움이 되기에 충분했습니다.\n",
              "4               재래시장 '질리오니 바자'에 가기로 했어요."
            ]
          },
          "metadata": {},
          "execution_count": 86
        }
      ]
    },
    {
      "cell_type": "code",
      "metadata": {
        "id": "cu5PxKxnsy4H"
      },
      "source": [
        "_0['label'] = 0\n",
        "_1['label'] = 1"
      ],
      "execution_count": null,
      "outputs": []
    },
    {
      "cell_type": "code",
      "metadata": {
        "colab": {
          "base_uri": "https://localhost:8080/",
          "height": 202
        },
        "id": "On0LHxtCs0sH",
        "outputId": "1248f2c2-2390-4469-fe8e-bee7f260c998"
      },
      "source": [
        "_0.head()"
      ],
      "execution_count": null,
      "outputs": [
        {
          "output_type": "execute_result",
          "data": {
            "text/html": [
              "<div>\n",
              "<style scoped>\n",
              "    .dataframe tbody tr th:only-of-type {\n",
              "        vertical-align: middle;\n",
              "    }\n",
              "\n",
              "    .dataframe tbody tr th {\n",
              "        vertical-align: top;\n",
              "    }\n",
              "\n",
              "    .dataframe thead th {\n",
              "        text-align: right;\n",
              "    }\n",
              "</style>\n",
              "<table border=\"1\" class=\"dataframe\">\n",
              "  <thead>\n",
              "    <tr style=\"text-align: right;\">\n",
              "      <th></th>\n",
              "      <th>document</th>\n",
              "      <th>label</th>\n",
              "    </tr>\n",
              "  </thead>\n",
              "  <tbody>\n",
              "    <tr>\n",
              "      <th>0</th>\n",
              "      <td>\"물론, 나는 당시에 음식을 전혀 못했다.\"</td>\n",
              "      <td>0</td>\n",
              "    </tr>\n",
              "    <tr>\n",
              "      <th>1</th>\n",
              "      <td>해먹은 음식은 모두 그 친구의 손을 거쳐갔다.</td>\n",
              "      <td>0</td>\n",
              "    </tr>\n",
              "    <tr>\n",
              "      <th>2</th>\n",
              "      <td>어떻게 음식을 만드는지 구경만 했을 뿐이다.</td>\n",
              "      <td>0</td>\n",
              "    </tr>\n",
              "    <tr>\n",
              "      <th>3</th>\n",
              "      <td>고기를 굽거나 야채 손질을 조금 도와주는 정도였다.</td>\n",
              "      <td>0</td>\n",
              "    </tr>\n",
              "    <tr>\n",
              "      <th>4</th>\n",
              "      <td>전통시장인 '질료니 바자르'로 가기로 마음을 먹었다.</td>\n",
              "      <td>0</td>\n",
              "    </tr>\n",
              "  </tbody>\n",
              "</table>\n",
              "</div>"
            ],
            "text/plain": [
              "                        document  label\n",
              "0       \"물론, 나는 당시에 음식을 전혀 못했다.\"      0\n",
              "1      해먹은 음식은 모두 그 친구의 손을 거쳐갔다.      0\n",
              "2       어떻게 음식을 만드는지 구경만 했을 뿐이다.      0\n",
              "3   고기를 굽거나 야채 손질을 조금 도와주는 정도였다.      0\n",
              "4  전통시장인 '질료니 바자르'로 가기로 마음을 먹었다.      0"
            ]
          },
          "metadata": {},
          "execution_count": 88
        }
      ]
    },
    {
      "cell_type": "code",
      "metadata": {
        "colab": {
          "base_uri": "https://localhost:8080/",
          "height": 202
        },
        "id": "bbM1Hol3s6Zw",
        "outputId": "bb110e0b-f407-4238-85b3-e4ebd7c0020e"
      },
      "source": [
        "_1.head()"
      ],
      "execution_count": null,
      "outputs": [
        {
          "output_type": "execute_result",
          "data": {
            "text/html": [
              "<div>\n",
              "<style scoped>\n",
              "    .dataframe tbody tr th:only-of-type {\n",
              "        vertical-align: middle;\n",
              "    }\n",
              "\n",
              "    .dataframe tbody tr th {\n",
              "        vertical-align: top;\n",
              "    }\n",
              "\n",
              "    .dataframe thead th {\n",
              "        text-align: right;\n",
              "    }\n",
              "</style>\n",
              "<table border=\"1\" class=\"dataframe\">\n",
              "  <thead>\n",
              "    <tr style=\"text-align: right;\">\n",
              "      <th></th>\n",
              "      <th>document</th>\n",
              "      <th>label</th>\n",
              "    </tr>\n",
              "  </thead>\n",
              "  <tbody>\n",
              "    <tr>\n",
              "      <th>0</th>\n",
              "      <td>\"당연히 그 당시에는 음식을 전혀 먹지 않았습니다.\"</td>\n",
              "      <td>1</td>\n",
              "    </tr>\n",
              "    <tr>\n",
              "      <th>1</th>\n",
              "      <td>해먹의 모든 음식은 친구의 손을 통과했습니다.</td>\n",
              "      <td>1</td>\n",
              "    </tr>\n",
              "    <tr>\n",
              "      <th>2</th>\n",
              "      <td>음식이 어떻게 만들어지는지 구경만 했어요.</td>\n",
              "      <td>1</td>\n",
              "    </tr>\n",
              "    <tr>\n",
              "      <th>3</th>\n",
              "      <td>고기를 굽거나 야채를 손질하는 데 조금 도움이 되기에 충분했습니다.</td>\n",
              "      <td>1</td>\n",
              "    </tr>\n",
              "    <tr>\n",
              "      <th>4</th>\n",
              "      <td>재래시장 '질리오니 바자'에 가기로 했어요.</td>\n",
              "      <td>1</td>\n",
              "    </tr>\n",
              "  </tbody>\n",
              "</table>\n",
              "</div>"
            ],
            "text/plain": [
              "                                document  label\n",
              "0          \"당연히 그 당시에는 음식을 전혀 먹지 않았습니다.\"      1\n",
              "1              해먹의 모든 음식은 친구의 손을 통과했습니다.      1\n",
              "2                음식이 어떻게 만들어지는지 구경만 했어요.      1\n",
              "3  고기를 굽거나 야채를 손질하는 데 조금 도움이 되기에 충분했습니다.      1\n",
              "4               재래시장 '질리오니 바자'에 가기로 했어요.      1"
            ]
          },
          "metadata": {},
          "execution_count": 89
        }
      ]
    },
    {
      "cell_type": "code",
      "metadata": {
        "id": "VS0iRSIYs8UR"
      },
      "source": [
        "_0.to_csv('test_0_labeling.csv')\n",
        "_1.to_csv('test_1_labeling.csv')"
      ],
      "execution_count": null,
      "outputs": []
    },
    {
      "cell_type": "code",
      "metadata": {
        "colab": {
          "base_uri": "https://localhost:8080/"
        },
        "id": "pG6olNh6vyKJ",
        "outputId": "821c560f-4262-4043-d0c4-0425c68512e5"
      },
      "source": [
        "len(_0), len(_1)"
      ],
      "execution_count": null,
      "outputs": [
        {
          "output_type": "execute_result",
          "data": {
            "text/plain": [
              "(89022, 89022)"
            ]
          },
          "metadata": {},
          "execution_count": 48
        }
      ]
    },
    {
      "cell_type": "code",
      "metadata": {
        "id": "kt6Log45x05s"
      },
      "source": [
        "_random = _0_1.sample(frac=1).reset_index(drop=True)"
      ],
      "execution_count": null,
      "outputs": []
    },
    {
      "cell_type": "code",
      "metadata": {
        "colab": {
          "base_uri": "https://localhost:8080/",
          "height": 205
        },
        "id": "p_6bdERsx2c1",
        "outputId": "01c8745e-35b3-45fa-f59d-c85eb79ce954"
      },
      "source": [
        "_random.head()"
      ],
      "execution_count": null,
      "outputs": [
        {
          "output_type": "execute_result",
          "data": {
            "text/html": [
              "<div>\n",
              "<style scoped>\n",
              "    .dataframe tbody tr th:only-of-type {\n",
              "        vertical-align: middle;\n",
              "    }\n",
              "\n",
              "    .dataframe tbody tr th {\n",
              "        vertical-align: top;\n",
              "    }\n",
              "\n",
              "    .dataframe thead th {\n",
              "        text-align: right;\n",
              "    }\n",
              "</style>\n",
              "<table border=\"1\" class=\"dataframe\">\n",
              "  <thead>\n",
              "    <tr style=\"text-align: right;\">\n",
              "      <th></th>\n",
              "      <th>document</th>\n",
              "      <th>label</th>\n",
              "    </tr>\n",
              "  </thead>\n",
              "  <tbody>\n",
              "    <tr>\n",
              "      <th>0</th>\n",
              "      <td>“때로는 내가 살고 있는 집이 내가 살고 있는 집이 아니다.”</td>\n",
              "      <td>1</td>\n",
              "    </tr>\n",
              "    <tr>\n",
              "      <th>1</th>\n",
              "      <td>그리고 그 동네 호텔들이 만실이었고 칼라오 호텔은 에어컨 방만이 남아있었다.</td>\n",
              "      <td>0</td>\n",
              "    </tr>\n",
              "    <tr>\n",
              "      <th>2</th>\n",
              "      <td>매일의 삶이 되다 보니 경계가 무너진 것이다.</td>\n",
              "      <td>0</td>\n",
              "    </tr>\n",
              "    <tr>\n",
              "      <th>3</th>\n",
              "      <td>그 순간, 수시로 알렙의 생각을 막고 있던 벽이 무너져 내렸다.</td>\n",
              "      <td>1</td>\n",
              "    </tr>\n",
              "    <tr>\n",
              "      <th>4</th>\n",
              "      <td>말 그대로 돈이 휴지조각되는과정을 생생하게 목격한 것이다.</td>\n",
              "      <td>0</td>\n",
              "    </tr>\n",
              "  </tbody>\n",
              "</table>\n",
              "</div>"
            ],
            "text/plain": [
              "                                     document  label\n",
              "0          “때로는 내가 살고 있는 집이 내가 살고 있는 집이 아니다.”      1\n",
              "1  그리고 그 동네 호텔들이 만실이었고 칼라오 호텔은 에어컨 방만이 남아있었다.      0\n",
              "2                   매일의 삶이 되다 보니 경계가 무너진 것이다.      0\n",
              "3         그 순간, 수시로 알렙의 생각을 막고 있던 벽이 무너져 내렸다.      1\n",
              "4            말 그대로 돈이 휴지조각되는과정을 생생하게 목격한 것이다.      0"
            ]
          },
          "metadata": {},
          "execution_count": 51
        }
      ]
    },
    {
      "cell_type": "markdown",
      "metadata": {
        "id": "8nUZ29XvzITS"
      },
      "source": [
        "<br/><br/>\n",
        "\n",
        "# Train, Test, Validation 데이터 나누기"
      ]
    },
    {
      "cell_type": "code",
      "metadata": {
        "id": "wvGHT5VCzPZi"
      },
      "source": [
        "train_data = pd.DataFrame()\n",
        "test_data = pd.DataFrame()\n",
        "val_data = pd.DataFrame()\n",
        "\n",
        "train_data['document'] = _random['document'][:106824]\n",
        "train_data['label'] = _random['label'][:106824]\n",
        "\n",
        "test_data['document'] = _random['document'][106824:142434]\n",
        "test_data['label'] = _random['label'][106824:142434]\n",
        "\n",
        "val_data['document'] = _random['document'][142434:]\n",
        "val_data['label'] = _random['label'][142434:]"
      ],
      "execution_count": null,
      "outputs": []
    },
    {
      "cell_type": "code",
      "metadata": {
        "id": "_CU3VijJ1uPf"
      },
      "source": [
        "#train_data.to_csv('labeling_train_data.csv', index=None)\n",
        "#test_data.to_csv('labeling_test_data.csv', index=None)\n",
        "#val_data.to_csv('labeling_val_data.csv', index=None)\n",
        "#df.to_csv('pizza.txt', sep = '\\t)\n",
        "train_data.to_csv('t_train_data.csv', sep='\\t')\n",
        "test_data.to_csv('t_test_data.csv', sep='\\t')\n",
        "val_data.to_csv('t_val_data.csv', sep='\\t')"
      ],
      "execution_count": null,
      "outputs": []
    },
    {
      "cell_type": "code",
      "metadata": {
        "colab": {
          "base_uri": "https://localhost:8080/"
        },
        "id": "YVtpKSBI0uzf",
        "outputId": "ebc83a14-9857-4cb4-f36e-f3e32316a658"
      },
      "source": [
        "len(_random)"
      ],
      "execution_count": null,
      "outputs": [
        {
          "output_type": "execute_result",
          "data": {
            "text/plain": [
              "178044"
            ]
          },
          "metadata": {},
          "execution_count": 56
        }
      ]
    },
    {
      "cell_type": "code",
      "metadata": {
        "colab": {
          "base_uri": "https://localhost:8080/"
        },
        "id": "DlCP3R4JxyYL",
        "outputId": "1a331c60-87a7-4e6b-9a88-2035877d44fa"
      },
      "source": [
        "len(_0)"
      ],
      "execution_count": null,
      "outputs": [
        {
          "output_type": "execute_result",
          "data": {
            "text/plain": [
              "89022"
            ]
          },
          "metadata": {},
          "execution_count": 79
        }
      ]
    },
    {
      "cell_type": "code",
      "metadata": {
        "colab": {
          "base_uri": "https://localhost:8080/"
        },
        "id": "DxLbN-ms0gOu",
        "outputId": "a793b716-fab1-4c7c-9654-391c31d0191e"
      },
      "source": [
        "len(train_data), len(test_data), len(val_data)"
      ],
      "execution_count": null,
      "outputs": [
        {
          "output_type": "execute_result",
          "data": {
            "text/plain": [
              "(106824, 35610, 35610)"
            ]
          },
          "metadata": {},
          "execution_count": 78
        }
      ]
    },
    {
      "cell_type": "code",
      "metadata": {
        "colab": {
          "base_uri": "https://localhost:8080/"
        },
        "id": "x7LED0L71BJ5",
        "outputId": "14d39f25-c0d3-4148-d632-819f73273157"
      },
      "source": [
        "35610 / 178044 * 100"
      ],
      "execution_count": null,
      "outputs": [
        {
          "output_type": "execute_result",
          "data": {
            "text/plain": [
              "20.000673990698928"
            ]
          },
          "metadata": {},
          "execution_count": 69
        }
      ]
    },
    {
      "cell_type": "code",
      "metadata": {
        "colab": {
          "base_uri": "https://localhost:8080/"
        },
        "id": "qbROVn5b1aQ9",
        "outputId": "f7bda5cf-4e66-441f-b383-9ea177f3b747"
      },
      "source": [
        "35610 * 2"
      ],
      "execution_count": null,
      "outputs": [
        {
          "output_type": "execute_result",
          "data": {
            "text/plain": [
              "71220"
            ]
          },
          "metadata": {},
          "execution_count": 72
        }
      ]
    },
    {
      "cell_type": "code",
      "metadata": {
        "colab": {
          "base_uri": "https://localhost:8080/"
        },
        "id": "yEtCkeb61WNk",
        "outputId": "5ddbfae3-630a-4d17-b929-b70c1689fff7"
      },
      "source": [
        "178044 - 71220"
      ],
      "execution_count": null,
      "outputs": [
        {
          "output_type": "execute_result",
          "data": {
            "text/plain": [
              "106824"
            ]
          },
          "metadata": {},
          "execution_count": 73
        }
      ]
    },
    {
      "cell_type": "code",
      "metadata": {
        "colab": {
          "base_uri": "https://localhost:8080/"
        },
        "id": "OLYLErPS1fHl",
        "outputId": "85976fac-5326-45b8-9d68-d5858211a2e6"
      },
      "source": [
        "106824 + 35610"
      ],
      "execution_count": null,
      "outputs": [
        {
          "output_type": "execute_result",
          "data": {
            "text/plain": [
              "142434"
            ]
          },
          "metadata": {},
          "execution_count": 74
        }
      ]
    },
    {
      "cell_type": "markdown",
      "metadata": {
        "id": "-iPDXgy8xtW6"
      },
      "source": [
        "# concat() AND sample TEST"
      ]
    },
    {
      "cell_type": "code",
      "metadata": {
        "colab": {
          "base_uri": "https://localhost:8080/",
          "height": 422
        },
        "id": "qxcvgE1evpgx",
        "outputId": "2259feb2-b46b-4bbe-c4ea-e1432262bb6e"
      },
      "source": [
        "_0_1 = pd.concat([_0,_1])\n",
        "_0_1"
      ],
      "execution_count": null,
      "outputs": [
        {
          "output_type": "execute_result",
          "data": {
            "text/html": [
              "<div>\n",
              "<style scoped>\n",
              "    .dataframe tbody tr th:only-of-type {\n",
              "        vertical-align: middle;\n",
              "    }\n",
              "\n",
              "    .dataframe tbody tr th {\n",
              "        vertical-align: top;\n",
              "    }\n",
              "\n",
              "    .dataframe thead th {\n",
              "        text-align: right;\n",
              "    }\n",
              "</style>\n",
              "<table border=\"1\" class=\"dataframe\">\n",
              "  <thead>\n",
              "    <tr style=\"text-align: right;\">\n",
              "      <th></th>\n",
              "      <th>document</th>\n",
              "      <th>label</th>\n",
              "    </tr>\n",
              "  </thead>\n",
              "  <tbody>\n",
              "    <tr>\n",
              "      <th>0</th>\n",
              "      <td>\"물론, 나는 당시에 음식을 전혀 못했다.\"</td>\n",
              "      <td>0</td>\n",
              "    </tr>\n",
              "    <tr>\n",
              "      <th>1</th>\n",
              "      <td>해먹은 음식은 모두 그 친구의 손을 거쳐갔다.</td>\n",
              "      <td>0</td>\n",
              "    </tr>\n",
              "    <tr>\n",
              "      <th>2</th>\n",
              "      <td>어떻게 음식을 만드는지 구경만 했을 뿐이다.</td>\n",
              "      <td>0</td>\n",
              "    </tr>\n",
              "    <tr>\n",
              "      <th>3</th>\n",
              "      <td>고기를 굽거나 야채 손질을 조금 도와주는 정도였다.</td>\n",
              "      <td>0</td>\n",
              "    </tr>\n",
              "    <tr>\n",
              "      <th>4</th>\n",
              "      <td>전통시장인 '질료니 바자르'로 가기로 마음을 먹었다.</td>\n",
              "      <td>0</td>\n",
              "    </tr>\n",
              "    <tr>\n",
              "      <th>...</th>\n",
              "      <td>...</td>\n",
              "      <td>...</td>\n",
              "    </tr>\n",
              "    <tr>\n",
              "      <th>89017</th>\n",
              "      <td>남편이 가장 좋아하는 작가로 뽑힌 히가시노 게이고의 신작이 아닌 새로운 소설을 함께...</td>\n",
              "      <td>1</td>\n",
              "    </tr>\n",
              "    <tr>\n",
              "      <th>89018</th>\n",
              "      <td>나는 '그녀에게는 계획이 있다'는 읽고 싶지 않았다.</td>\n",
              "      <td>1</td>\n",
              "    </tr>\n",
              "    <tr>\n",
              "      <th>89019</th>\n",
              "      <td>그러나 히가시노 게이고의 펜은 어디에나 있었다.</td>\n",
              "      <td>1</td>\n",
              "    </tr>\n",
              "    <tr>\n",
              "      <th>89020</th>\n",
              "      <td>조금 두꺼운 편인데 천천히 읽어보니 '생각보다 괜찮네' 라는 생각이 먼저 들었습니다.</td>\n",
              "      <td>1</td>\n",
              "    </tr>\n",
              "    <tr>\n",
              "      <th>89021</th>\n",
              "      <td>그리고 남편과 추억을 공유했습니다.</td>\n",
              "      <td>1</td>\n",
              "    </tr>\n",
              "  </tbody>\n",
              "</table>\n",
              "<p>178044 rows × 2 columns</p>\n",
              "</div>"
            ],
            "text/plain": [
              "                                                document  label\n",
              "0                               \"물론, 나는 당시에 음식을 전혀 못했다.\"      0\n",
              "1                              해먹은 음식은 모두 그 친구의 손을 거쳐갔다.      0\n",
              "2                               어떻게 음식을 만드는지 구경만 했을 뿐이다.      0\n",
              "3                           고기를 굽거나 야채 손질을 조금 도와주는 정도였다.      0\n",
              "4                          전통시장인 '질료니 바자르'로 가기로 마음을 먹었다.      0\n",
              "...                                                  ...    ...\n",
              "89017  남편이 가장 좋아하는 작가로 뽑힌 히가시노 게이고의 신작이 아닌 새로운 소설을 함께...      1\n",
              "89018                      나는 '그녀에게는 계획이 있다'는 읽고 싶지 않았다.      1\n",
              "89019                         그러나 히가시노 게이고의 펜은 어디에나 있었다.      1\n",
              "89020    조금 두꺼운 편인데 천천히 읽어보니 '생각보다 괜찮네' 라는 생각이 먼저 들었습니다.      1\n",
              "89021                                그리고 남편과 추억을 공유했습니다.      1\n",
              "\n",
              "[178044 rows x 2 columns]"
            ]
          },
          "metadata": {},
          "execution_count": 25
        }
      ]
    },
    {
      "cell_type": "code",
      "metadata": {
        "id": "UoptRgaEv34a"
      },
      "source": [
        "_random1 = _0_1.sample(frac=1)\n",
        "_random2 = _0_1.sample(frac=1).reset_index(drop=True)"
      ],
      "execution_count": null,
      "outputs": []
    },
    {
      "cell_type": "markdown",
      "metadata": {
        "id": "yOin4WN_yAjX"
      },
      "source": [
        "<br/><br/>\n",
        "\n",
        "### rest_indx 없이 섞을 경우 인덱싱 유지상태로 뒤죽박죽이 된다."
      ]
    },
    {
      "cell_type": "code",
      "metadata": {
        "colab": {
          "base_uri": "https://localhost:8080/",
          "height": 422
        },
        "id": "-RMwp1dLxS-v",
        "outputId": "28fe95c4-89a3-4361-ce55-cf67e624d041"
      },
      "source": [
        "_random1"
      ],
      "execution_count": null,
      "outputs": [
        {
          "output_type": "execute_result",
          "data": {
            "text/html": [
              "<div>\n",
              "<style scoped>\n",
              "    .dataframe tbody tr th:only-of-type {\n",
              "        vertical-align: middle;\n",
              "    }\n",
              "\n",
              "    .dataframe tbody tr th {\n",
              "        vertical-align: top;\n",
              "    }\n",
              "\n",
              "    .dataframe thead th {\n",
              "        text-align: right;\n",
              "    }\n",
              "</style>\n",
              "<table border=\"1\" class=\"dataframe\">\n",
              "  <thead>\n",
              "    <tr style=\"text-align: right;\">\n",
              "      <th></th>\n",
              "      <th>document</th>\n",
              "      <th>label</th>\n",
              "    </tr>\n",
              "  </thead>\n",
              "  <tbody>\n",
              "    <tr>\n",
              "      <th>2583</th>\n",
              "      <td>이 노랫말을 ‘정진호 그림책 작가’는 지금 시대에 맞게 환경문제로 연결시켰다.</td>\n",
              "      <td>0</td>\n",
              "    </tr>\n",
              "    <tr>\n",
              "      <th>47555</th>\n",
              "      <td>하지만 타고난 선한 성격 때문에 넘어지는 일이 거의 없다.</td>\n",
              "      <td>1</td>\n",
              "    </tr>\n",
              "    <tr>\n",
              "      <th>658</th>\n",
              "      <td>소년은 손가락 끝으로 책을 꼭 쥐었다가,</td>\n",
              "      <td>0</td>\n",
              "    </tr>\n",
              "    <tr>\n",
              "      <th>28032</th>\n",
              "      <td>\"공사가 시작되고 조만간 새로운 구조물이 화면에 나타날 것입니다.\"</td>\n",
              "      <td>1</td>\n",
              "    </tr>\n",
              "    <tr>\n",
              "      <th>76219</th>\n",
              "      <td>“그곳이 경상북도 영주시 부석면 봉황산 자락에 위치한 사찰인 부석사입니다.”</td>\n",
              "      <td>1</td>\n",
              "    </tr>\n",
              "    <tr>\n",
              "      <th>...</th>\n",
              "      <td>...</td>\n",
              "      <td>...</td>\n",
              "    </tr>\n",
              "    <tr>\n",
              "      <th>9151</th>\n",
              "      <td>보자마자 ‘이파라파냐무냐무’를 외쳐대기 시작했다.</td>\n",
              "      <td>0</td>\n",
              "    </tr>\n",
              "    <tr>\n",
              "      <th>52974</th>\n",
              "      <td>\"그래서 나는\"\"초기에는 신경이 쓰였는데 이젠 안 그래.\"</td>\n",
              "      <td>0</td>\n",
              "    </tr>\n",
              "    <tr>\n",
              "      <th>58737</th>\n",
              "      <td>\"산토리니는 하루 관광객을 8,000명으로 제한하는 방안까지 검토하고 있다고 한다.\"</td>\n",
              "      <td>0</td>\n",
              "    </tr>\n",
              "    <tr>\n",
              "      <th>44759</th>\n",
              "      <td>\"왜, 그 프로파일러 이수정씨도 이해할 수 없는 대상에 대해 두려움을 느낀다고 하지...</td>\n",
              "      <td>0</td>\n",
              "    </tr>\n",
              "    <tr>\n",
              "      <th>6822</th>\n",
              "      <td>가족 중 누군가가 지어준 소중한 이름이 초등학교를 들어가기 전까지는 마냥 좋았다.</td>\n",
              "      <td>0</td>\n",
              "    </tr>\n",
              "  </tbody>\n",
              "</table>\n",
              "<p>178044 rows × 2 columns</p>\n",
              "</div>"
            ],
            "text/plain": [
              "                                                document  label\n",
              "2583         이 노랫말을 ‘정진호 그림책 작가’는 지금 시대에 맞게 환경문제로 연결시켰다.      0\n",
              "47555                   하지만 타고난 선한 성격 때문에 넘어지는 일이 거의 없다.      1\n",
              "658                               소년은 손가락 끝으로 책을 꼭 쥐었다가,      0\n",
              "28032              \"공사가 시작되고 조만간 새로운 구조물이 화면에 나타날 것입니다.\"      1\n",
              "76219         “그곳이 경상북도 영주시 부석면 봉황산 자락에 위치한 사찰인 부석사입니다.”      1\n",
              "...                                                  ...    ...\n",
              "9151                         보자마자 ‘이파라파냐무냐무’를 외쳐대기 시작했다.      0\n",
              "52974                   \"그래서 나는\"\"초기에는 신경이 쓰였는데 이젠 안 그래.\"      0\n",
              "58737    \"산토리니는 하루 관광객을 8,000명으로 제한하는 방안까지 검토하고 있다고 한다.\"      0\n",
              "44759  \"왜, 그 프로파일러 이수정씨도 이해할 수 없는 대상에 대해 두려움을 느낀다고 하지...      0\n",
              "6822       가족 중 누군가가 지어준 소중한 이름이 초등학교를 들어가기 전까지는 마냥 좋았다.      0\n",
              "\n",
              "[178044 rows x 2 columns]"
            ]
          },
          "metadata": {},
          "execution_count": 44
        }
      ]
    },
    {
      "cell_type": "markdown",
      "metadata": {
        "id": "IJLYzRk6yHqe"
      },
      "source": [
        "<br/><br/>\n",
        "\n",
        "### reset_index() 메서드를 사용하면 인덱싱이 다시 처음부터 리셋되어 내림차순으로 정렬된다."
      ]
    },
    {
      "cell_type": "code",
      "metadata": {
        "colab": {
          "base_uri": "https://localhost:8080/",
          "height": 422
        },
        "id": "-yCs6IR5xVh_",
        "outputId": "18c8e5ad-5731-42a3-8286-f82532011bfe"
      },
      "source": [
        "_random2"
      ],
      "execution_count": null,
      "outputs": [
        {
          "output_type": "execute_result",
          "data": {
            "text/html": [
              "<div>\n",
              "<style scoped>\n",
              "    .dataframe tbody tr th:only-of-type {\n",
              "        vertical-align: middle;\n",
              "    }\n",
              "\n",
              "    .dataframe tbody tr th {\n",
              "        vertical-align: top;\n",
              "    }\n",
              "\n",
              "    .dataframe thead th {\n",
              "        text-align: right;\n",
              "    }\n",
              "</style>\n",
              "<table border=\"1\" class=\"dataframe\">\n",
              "  <thead>\n",
              "    <tr style=\"text-align: right;\">\n",
              "      <th></th>\n",
              "      <th>document</th>\n",
              "      <th>label</th>\n",
              "    </tr>\n",
              "  </thead>\n",
              "  <tbody>\n",
              "    <tr>\n",
              "      <th>0</th>\n",
              "      <td>세 개의 국경을 넘어 노르웨이에 도착했습니다.</td>\n",
              "      <td>1</td>\n",
              "    </tr>\n",
              "    <tr>\n",
              "      <th>1</th>\n",
              "      <td>즉, 음악과 영상의 완성도가 다소 부족하다”고 말했다.</td>\n",
              "      <td>1</td>\n",
              "    </tr>\n",
              "    <tr>\n",
              "      <th>2</th>\n",
              "      <td>덩치 크고 쪽수 많다고 깡패처럼 덤벼도 예전처럼 당하고만 있을 우리의 체력이 아니다.</td>\n",
              "      <td>0</td>\n",
              "    </tr>\n",
              "    <tr>\n",
              "      <th>3</th>\n",
              "      <td>조금만 호기심을 가지고 멈추었더라면 프레임을 벗어나 멋진 세상을 만날 수 있었을 텐데.</td>\n",
              "      <td>0</td>\n",
              "    </tr>\n",
              "    <tr>\n",
              "      <th>4</th>\n",
              "      <td>회신은 살아 생전에 다하지 못한 효도로 큰 자책감과 후회로 가득하다.</td>\n",
              "      <td>0</td>\n",
              "    </tr>\n",
              "    <tr>\n",
              "      <th>...</th>\n",
              "      <td>...</td>\n",
              "      <td>...</td>\n",
              "    </tr>\n",
              "    <tr>\n",
              "      <th>178039</th>\n",
              "      <td>\"남한+북한 배우들과의 대사에서 사건의 전개, 원인 이런게 얼마나 많이 나오는데!!\"</td>\n",
              "      <td>0</td>\n",
              "    </tr>\n",
              "    <tr>\n",
              "      <th>178040</th>\n",
              "      <td>아마도 평생에 걸쳐도 '정답'이라고 할 만한 것은 찾지 못할지도 모른다.</td>\n",
              "      <td>0</td>\n",
              "    </tr>\n",
              "    <tr>\n",
              "      <th>178041</th>\n",
              "      <td>그리고 거기에는 아무도 없었습니다(기적처럼 느껴졌습니다). 다행히 비는 저녁이 되어...</td>\n",
              "      <td>1</td>\n",
              "    </tr>\n",
              "    <tr>\n",
              "      <th>178042</th>\n",
              "      <td>당신이 남긴 추억과 사진이 일상에 얼마나 영향을 미치나요?</td>\n",
              "      <td>1</td>\n",
              "    </tr>\n",
              "    <tr>\n",
              "      <th>178043</th>\n",
              "      <td>,</td>\n",
              "      <td>0</td>\n",
              "    </tr>\n",
              "  </tbody>\n",
              "</table>\n",
              "<p>178044 rows × 2 columns</p>\n",
              "</div>"
            ],
            "text/plain": [
              "                                                 document  label\n",
              "0                               세 개의 국경을 넘어 노르웨이에 도착했습니다.      1\n",
              "1                          즉, 음악과 영상의 완성도가 다소 부족하다”고 말했다.      1\n",
              "2         덩치 크고 쪽수 많다고 깡패처럼 덤벼도 예전처럼 당하고만 있을 우리의 체력이 아니다.      0\n",
              "3        조금만 호기심을 가지고 멈추었더라면 프레임을 벗어나 멋진 세상을 만날 수 있었을 텐데.      0\n",
              "4                  회신은 살아 생전에 다하지 못한 효도로 큰 자책감과 후회로 가득하다.      0\n",
              "...                                                   ...    ...\n",
              "178039    \"남한+북한 배우들과의 대사에서 사건의 전개, 원인 이런게 얼마나 많이 나오는데!!\"      0\n",
              "178040           아마도 평생에 걸쳐도 '정답'이라고 할 만한 것은 찾지 못할지도 모른다.      0\n",
              "178041  그리고 거기에는 아무도 없었습니다(기적처럼 느껴졌습니다). 다행히 비는 저녁이 되어...      1\n",
              "178042                   당신이 남긴 추억과 사진이 일상에 얼마나 영향을 미치나요?      1\n",
              "178043                                                  ,      0\n",
              "\n",
              "[178044 rows x 2 columns]"
            ]
          },
          "metadata": {},
          "execution_count": 45
        }
      ]
    },
    {
      "cell_type": "code",
      "metadata": {
        "id": "UPbDqMIUwL28"
      },
      "source": [
        "len_random_0 = _random1[_random1['label'] == 0]\n",
        "len_random_1 = _random1[_random1['label'] == 1]"
      ],
      "execution_count": null,
      "outputs": []
    },
    {
      "cell_type": "code",
      "metadata": {
        "colab": {
          "base_uri": "https://localhost:8080/"
        },
        "id": "4YZh4HKdxipZ",
        "outputId": "44c76d17-abf5-4923-e8d3-a91dd1f22028"
      },
      "source": [
        "len(len_random_0), len(len_random_1)"
      ],
      "execution_count": null,
      "outputs": [
        {
          "output_type": "execute_result",
          "data": {
            "text/plain": [
              "(89022, 89022)"
            ]
          },
          "metadata": {},
          "execution_count": 47
        }
      ]
    },
    {
      "cell_type": "code",
      "metadata": {
        "colab": {
          "base_uri": "https://localhost:8080/",
          "height": 422
        },
        "id": "iZYRU6XpxMOI",
        "outputId": "0d4d43d7-4056-4b77-813c-bef86e1cb755"
      },
      "source": [
        "_random2"
      ],
      "execution_count": null,
      "outputs": [
        {
          "output_type": "execute_result",
          "data": {
            "text/html": [
              "<div>\n",
              "<style scoped>\n",
              "    .dataframe tbody tr th:only-of-type {\n",
              "        vertical-align: middle;\n",
              "    }\n",
              "\n",
              "    .dataframe tbody tr th {\n",
              "        vertical-align: top;\n",
              "    }\n",
              "\n",
              "    .dataframe thead th {\n",
              "        text-align: right;\n",
              "    }\n",
              "</style>\n",
              "<table border=\"1\" class=\"dataframe\">\n",
              "  <thead>\n",
              "    <tr style=\"text-align: right;\">\n",
              "      <th></th>\n",
              "      <th>document</th>\n",
              "      <th>label</th>\n",
              "    </tr>\n",
              "  </thead>\n",
              "  <tbody>\n",
              "    <tr>\n",
              "      <th>0</th>\n",
              "      <td>\"다만 내 방식대로 슬프고, 기쁠 뿐이다.\"</td>\n",
              "      <td>0</td>\n",
              "    </tr>\n",
              "    <tr>\n",
              "      <th>1</th>\n",
              "      <td>\"초등학교 시절은 잘 기억이 나지 않지만, 중학교 때 피구를 한 기억은 난다.\"</td>\n",
              "      <td>0</td>\n",
              "    </tr>\n",
              "    <tr>\n",
              "      <th>2</th>\n",
              "      <td>길가다가 예쁜 곳이 있으면 다 같이 내려서 그곳을 감상한다.</td>\n",
              "      <td>0</td>\n",
              "    </tr>\n",
              "    <tr>\n",
              "      <th>3</th>\n",
              "      <td>회사를 갔다오면 그때까지 하는 수업이 없어서 못했었다..</td>\n",
              "      <td>0</td>\n",
              "    </tr>\n",
              "    <tr>\n",
              "      <th>4</th>\n",
              "      <td>내부 인테리어 중에서 눈에 띄는 것 천장에 매달린 책 조명이다.</td>\n",
              "      <td>0</td>\n",
              "    </tr>\n",
              "    <tr>\n",
              "      <th>...</th>\n",
              "      <td>...</td>\n",
              "      <td>...</td>\n",
              "    </tr>\n",
              "    <tr>\n",
              "      <th>89017</th>\n",
              "      <td>나에게 머무는성장통은앞으로도지속될 숙제와 같다,</td>\n",
              "      <td>0</td>\n",
              "    </tr>\n",
              "    <tr>\n",
              "      <th>89018</th>\n",
              "      <td>나는 정지 상태로 멀찍이 서서 한참동안 그들의 뷔페 타임을 바라보았다.</td>\n",
              "      <td>0</td>\n",
              "    </tr>\n",
              "    <tr>\n",
              "      <th>89019</th>\n",
              "      <td>어떤 체제를 자연스럽게 받아들이는 ‘순응’이라는 단어는 정말 무서운 단어라고 생각한다.</td>\n",
              "      <td>0</td>\n",
              "    </tr>\n",
              "    <tr>\n",
              "      <th>89020</th>\n",
              "      <td>작가는 자신이 글을 쓸 때의 모습을 이렇게 표현한 거구나.</td>\n",
              "      <td>0</td>\n",
              "    </tr>\n",
              "    <tr>\n",
              "      <th>89021</th>\n",
              "      <td>현재 글은 이 브런치북에 소속되어 있습니다.</td>\n",
              "      <td>0</td>\n",
              "    </tr>\n",
              "  </tbody>\n",
              "</table>\n",
              "<p>89022 rows × 2 columns</p>\n",
              "</div>"
            ],
            "text/plain": [
              "                                               document  label\n",
              "0                              \"다만 내 방식대로 슬프고, 기쁠 뿐이다.\"      0\n",
              "1          \"초등학교 시절은 잘 기억이 나지 않지만, 중학교 때 피구를 한 기억은 난다.\"      0\n",
              "2                     길가다가 예쁜 곳이 있으면 다 같이 내려서 그곳을 감상한다.      0\n",
              "3                       회사를 갔다오면 그때까지 하는 수업이 없어서 못했었다..      0\n",
              "4                   내부 인테리어 중에서 눈에 띄는 것 천장에 매달린 책 조명이다.      0\n",
              "...                                                 ...    ...\n",
              "89017                        나에게 머무는성장통은앞으로도지속될 숙제와 같다,      0\n",
              "89018           나는 정지 상태로 멀찍이 서서 한참동안 그들의 뷔페 타임을 바라보았다.      0\n",
              "89019  어떤 체제를 자연스럽게 받아들이는 ‘순응’이라는 단어는 정말 무서운 단어라고 생각한다.      0\n",
              "89020                  작가는 자신이 글을 쓸 때의 모습을 이렇게 표현한 거구나.      0\n",
              "89021                          현재 글은 이 브런치북에 소속되어 있습니다.      0\n",
              "\n",
              "[89022 rows x 2 columns]"
            ]
          },
          "metadata": {},
          "execution_count": 42
        }
      ]
    },
    {
      "cell_type": "code",
      "metadata": {
        "id": "jjr86wJYw1TJ"
      },
      "source": [
        "kogpt2_kcc150_3_result[kogpt2_kcc150_3_result['Label'] == 1]['ko']"
      ],
      "execution_count": null,
      "outputs": []
    },
    {
      "cell_type": "code",
      "metadata": {
        "id": "mKZBWC4Hv9DZ"
      },
      "source": [
        "sample(frac=1).reset_index(drop=True)"
      ],
      "execution_count": null,
      "outputs": []
    }
  ]
}